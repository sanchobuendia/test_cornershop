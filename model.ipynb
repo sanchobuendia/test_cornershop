{
 "cells": [
  {
   "cell_type": "code",
   "execution_count": 4,
   "metadata": {},
   "outputs": [],
   "source": [
    "# Data manipulation\n",
    "import numpy as np\n",
    "import pandas as pd\n",
    "from math import *\n",
    "import seaborn as sns\n",
    "import networkx as nx\n",
    "import osmnx as ox\n",
    "import folium\n",
    "\n",
    "# Visualization.\n",
    "import matplotlib.pyplot as plt\n",
    "\n",
    "# Saving models\n",
    "from datetime import datetime\n",
    "import joblib\n",
    "\n",
    "# Display all columns\n",
    "pd.set_option('display.max_columns', 150,\n",
    "             'display.max_rows', 150)\n",
    "\n",
    "# ML\n",
    "from sklearn.model_selection import GridSearchCV\n",
    "from sklearn.model_selection import RandomizedSearchCV, StratifiedKFold, RepeatedKFold, train_test_split, cross_validate, cross_val_score \n",
    "from sklearn.preprocessing import StandardScaler, MinMaxScaler\n",
    "from sklearn.metrics import r2_score, explained_variance_score, mean_squared_error, median_absolute_error\n",
    "from sklearn.linear_model import LinearRegression, ElasticNet\n",
    "from sklearn import ensemble\n",
    "\n",
    "import requests, json\n",
    "from sqlalchemy import create_engine"
   ]
  },
  {
   "cell_type": "code",
   "execution_count": 5,
   "metadata": {},
   "outputs": [],
   "source": [
    "full = pd.read_csv(\"/Users/aurelianosancho/Documents/GitHub/teste_cornershop/full.csv\")"
   ]
  },
  {
   "cell_type": "code",
   "execution_count": null,
   "metadata": {},
   "outputs": [],
   "source": [
    "var_cat = ['on_demand', 'seniority', 'Hour', 'Day_of_Week', 'period']\n",
    "var_num = ['quantity_UN', 'quantity_KG', 'UN_plus_KG', 'UN_mult_KG',\n",
    "           'distance_havesine','found_rate', 'picking_speed','accepted_rate', 'rating',\n",
    "           'distance_car', 'weight_car', 'duration', 'dif_duration']"
   ]
  },
  {
   "cell_type": "code",
   "execution_count": null,
   "metadata": {},
   "outputs": [],
   "source": [
    "full = pd.get_dummies(full, columns = var_cat)"
   ]
  },
  {
   "cell_type": "code",
   "execution_count": null,
   "metadata": {},
   "outputs": [],
   "source": [
    "cdrop = ['order_id', 'shopper_id', 'store_branch_id', 'store_id',\n",
    "         'Month', 'Year', 'Date']"
   ]
  },
  {
   "cell_type": "code",
   "execution_count": null,
   "metadata": {},
   "outputs": [],
   "source": [
    "full = full.drop(cdrop, axis = 1)"
   ]
  },
  {
   "cell_type": "code",
   "execution_count": null,
   "metadata": {},
   "outputs": [],
   "source": [
    "var = ['total_minutes', 'quantity_UN',\n",
    "       'quantity_KG', 'is_more_UN', 'UN_plus_KG', 'UN_mult_KG', 'found_rate',\n",
    "       'picking_speed', 'accepted_rate', 'rating',\n",
    "       'distance', \n",
    "       'on_demand_False', 'on_demand_True',\n",
    "       'seniority_41dc7c9e385c4d2b6c1f7836973951bf',\n",
    "       'seniority_50e13ee63f086c2fe84229348bc91b5b',\n",
    "       'seniority_6c90661e6d2c7579f5ce337c3391dbb9',\n",
    "       'seniority_bb29b8d0d196b5db5a5350e5e3ae2b1f', 'Hour_0', 'Hour_1',\n",
    "       'Hour_2', 'Hour_3', 'Hour_11', 'Hour_12', 'Hour_13', 'Hour_14',\n",
    "       'Hour_15', 'Hour_16', 'Hour_17', 'Hour_18', 'Hour_19', 'Hour_20',\n",
    "       'Hour_21', 'Hour_22', 'Hour_23', 'Day_of_Week_4', 'Day_of_Week_5',\n",
    "       'Day_of_Week_6', 'period_afternoon', 'period_dawn', 'period_morning',\n",
    "       'period_night']\n",
    "\n",
    "full = full[var]"
   ]
  },
  {
   "cell_type": "markdown",
   "metadata": {},
   "source": [
    "### Out of Sample"
   ]
  },
  {
   "cell_type": "code",
   "execution_count": null,
   "metadata": {},
   "outputs": [],
   "source": [
    "ofs = full[full.total_minutes.isnull()]"
   ]
  },
  {
   "cell_type": "code",
   "execution_count": null,
   "metadata": {},
   "outputs": [],
   "source": [
    "ofs.head(3)"
   ]
  },
  {
   "cell_type": "code",
   "execution_count": null,
   "metadata": {},
   "outputs": [],
   "source": [
    "ofs.isnull().sum()"
   ]
  },
  {
   "cell_type": "markdown",
   "metadata": {},
   "source": [
    "### Modeling data"
   ]
  },
  {
   "cell_type": "code",
   "execution_count": null,
   "metadata": {},
   "outputs": [],
   "source": [
    "modeling = full[~full.total_minutes.isnull()]"
   ]
  },
  {
   "cell_type": "code",
   "execution_count": null,
   "metadata": {},
   "outputs": [],
   "source": [
    "modeling.head(3)"
   ]
  },
  {
   "cell_type": "code",
   "execution_count": null,
   "metadata": {},
   "outputs": [],
   "source": [
    "modeling.isnull().sum()"
   ]
  },
  {
   "cell_type": "code",
   "execution_count": null,
   "metadata": {},
   "outputs": [],
   "source": [
    "# Getting the data:\n",
    "X = modeling.drop(['total_minutes'], axis = 1)\n",
    "\n",
    "y = modeling['total_minutes']"
   ]
  },
  {
   "cell_type": "code",
   "execution_count": null,
   "metadata": {},
   "outputs": [],
   "source": [
    "X_train, X_test, y_train, y_test = train_test_split(X, y, random_state = 451, test_size= .25)"
   ]
  },
  {
   "cell_type": "code",
   "execution_count": null,
   "metadata": {},
   "outputs": [],
   "source": [
    "StdSca = StandardScaler() ## or standerscaler \n",
    "X_train[var_num] = pd.DataFrame(StdSca.fit_transform(X_train[var_num]), columns = var_num, index = X_train.index)\n",
    "X_test[var_num] = pd.DataFrame(StdSca.transform(X_test[var_num]), columns = var_num, index = X_test.index)"
   ]
  },
  {
   "cell_type": "code",
   "execution_count": null,
   "metadata": {},
   "outputs": [],
   "source": [
    "ofs[var_num] = StdSca.transform(ofs[var_num])"
   ]
  },
  {
   "cell_type": "markdown",
   "metadata": {},
   "source": [
    "## Model"
   ]
  },
  {
   "cell_type": "code",
   "execution_count": null,
   "metadata": {},
   "outputs": [],
   "source": [
    "CV = cross_validate(estimator = LinearRegression(), \n",
    "                    cv = 5, \n",
    "                    #scoring = \"r2\", \n",
    "                    scoring = [\"r2\", \"neg_median_absolute_error\"], \n",
    "                    X = X_train,\n",
    "                    y = y_train)\n",
    "\n",
    "cv_df = pd.DataFrame(CV)\n",
    "cv_df"
   ]
  },
  {
   "cell_type": "code",
   "execution_count": null,
   "metadata": {},
   "outputs": [],
   "source": [
    "CV = cross_validate(estimator = ElasticNet(alpha=0.025, l1_ratio=0.5), \n",
    "                    cv = 5, \n",
    "                    #scoring = \"r2\", \n",
    "                    scoring = [\"r2\", \"neg_median_absolute_error\"], \n",
    "                    X = X_train,\n",
    "                    y = y_train)\n",
    "\n",
    "cv_df = pd.DataFrame(CV)\n",
    "cv_df"
   ]
  },
  {
   "cell_type": "code",
   "execution_count": null,
   "metadata": {},
   "outputs": [],
   "source": [
    "model = ElasticNet(alpha=1.0, l1_ratio=0.5).fit(X = X_train, y = y_train)"
   ]
  },
  {
   "cell_type": "code",
   "execution_count": null,
   "metadata": {},
   "outputs": [],
   "source": [
    "ofs = ofs.drop(['total_minutes'], axis = 1)\n",
    "predict = model.predict(ofs)"
   ]
  },
  {
   "cell_type": "code",
   "execution_count": null,
   "metadata": {},
   "outputs": [],
   "source": []
  },
  {
   "cell_type": "code",
   "execution_count": 18,
   "metadata": {},
   "outputs": [
    {
     "data": {
      "text/plain": [
       "Index(['Unnamed: 0', 'order_id', 'lat_destination', 'lng_destination',\n",
       "       'promised_time', 'on_demand', 'shopper_id', 'store_branch_id',\n",
       "       'total_minutes', 'quantity_UN', 'quantity_KG', 'is_more_UN',\n",
       "       'UN_plus_KG', 'UN_mult_KG', 'seniority', 'found_rate', 'picking_speed',\n",
       "       'accepted_rate', 'rating', 'store_id', 'lat_origin', 'lng_origin',\n",
       "       'Hour', 'Month', 'Day_of_Week', 'Year', 'Date', 'period', 'distance'],\n",
       "      dtype='object')"
      ]
     },
     "execution_count": 18,
     "metadata": {},
     "output_type": "execute_result"
    }
   ],
   "source": [
    "full.columns"
   ]
  },
  {
   "cell_type": "code",
   "execution_count": 93,
   "metadata": {},
   "outputs": [
    {
     "data": {
      "text/html": [
       "<div>\n",
       "<style scoped>\n",
       "    .dataframe tbody tr th:only-of-type {\n",
       "        vertical-align: middle;\n",
       "    }\n",
       "\n",
       "    .dataframe tbody tr th {\n",
       "        vertical-align: top;\n",
       "    }\n",
       "\n",
       "    .dataframe thead th {\n",
       "        text-align: right;\n",
       "    }\n",
       "</style>\n",
       "<table border=\"1\" class=\"dataframe\">\n",
       "  <thead>\n",
       "    <tr style=\"text-align: right;\">\n",
       "      <th></th>\n",
       "      <th>lng_origin</th>\n",
       "      <th>lat_origin</th>\n",
       "      <th>lng_destination</th>\n",
       "      <th>lat_destination</th>\n",
       "    </tr>\n",
       "  </thead>\n",
       "  <tbody>\n",
       "    <tr>\n",
       "      <th>0</th>\n",
       "      <td>-70.579250</td>\n",
       "      <td>-33.485280</td>\n",
       "      <td>-70.579369</td>\n",
       "      <td>-33.501675</td>\n",
       "    </tr>\n",
       "    <tr>\n",
       "      <th>1</th>\n",
       "      <td>-70.535450</td>\n",
       "      <td>-33.441246</td>\n",
       "      <td>-70.556283</td>\n",
       "      <td>-33.440584</td>\n",
       "    </tr>\n",
       "    <tr>\n",
       "      <th>2</th>\n",
       "      <td>-71.545615</td>\n",
       "      <td>-33.008213</td>\n",
       "      <td>-71.544842</td>\n",
       "      <td>-32.987022</td>\n",
       "    </tr>\n",
       "    <tr>\n",
       "      <th>3</th>\n",
       "      <td>-70.537787</td>\n",
       "      <td>-33.355258</td>\n",
       "      <td>-70.512659</td>\n",
       "      <td>-33.328075</td>\n",
       "    </tr>\n",
       "    <tr>\n",
       "      <th>4</th>\n",
       "      <td>-70.568075</td>\n",
       "      <td>-33.386547</td>\n",
       "      <td>-70.564020</td>\n",
       "      <td>-33.403239</td>\n",
       "    </tr>\n",
       "    <tr>\n",
       "      <th>...</th>\n",
       "      <td>...</td>\n",
       "      <td>...</td>\n",
       "      <td>...</td>\n",
       "      <td>...</td>\n",
       "    </tr>\n",
       "    <tr>\n",
       "      <th>9973</th>\n",
       "      <td>-70.516727</td>\n",
       "      <td>-33.402024</td>\n",
       "      <td>-70.508377</td>\n",
       "      <td>-33.417677</td>\n",
       "    </tr>\n",
       "    <tr>\n",
       "      <th>9974</th>\n",
       "      <td>-70.692160</td>\n",
       "      <td>-33.451695</td>\n",
       "      <td>-70.646795</td>\n",
       "      <td>-33.432885</td>\n",
       "    </tr>\n",
       "    <tr>\n",
       "      <th>9975</th>\n",
       "      <td>-70.568075</td>\n",
       "      <td>-33.386547</td>\n",
       "      <td>-70.582943</td>\n",
       "      <td>-33.424562</td>\n",
       "    </tr>\n",
       "    <tr>\n",
       "      <th>9976</th>\n",
       "      <td>-70.568075</td>\n",
       "      <td>-33.386547</td>\n",
       "      <td>-70.598500</td>\n",
       "      <td>-33.413806</td>\n",
       "    </tr>\n",
       "    <tr>\n",
       "      <th>9977</th>\n",
       "      <td>-70.512420</td>\n",
       "      <td>-33.370765</td>\n",
       "      <td>-70.502880</td>\n",
       "      <td>-33.387383</td>\n",
       "    </tr>\n",
       "  </tbody>\n",
       "</table>\n",
       "<p>9978 rows × 4 columns</p>\n",
       "</div>"
      ],
      "text/plain": [
       "      lng_origin  lat_origin  lng_destination  lat_destination\n",
       "0     -70.579250  -33.485280       -70.579369       -33.501675\n",
       "1     -70.535450  -33.441246       -70.556283       -33.440584\n",
       "2     -71.545615  -33.008213       -71.544842       -32.987022\n",
       "3     -70.537787  -33.355258       -70.512659       -33.328075\n",
       "4     -70.568075  -33.386547       -70.564020       -33.403239\n",
       "...          ...         ...              ...              ...\n",
       "9973  -70.516727  -33.402024       -70.508377       -33.417677\n",
       "9974  -70.692160  -33.451695       -70.646795       -33.432885\n",
       "9975  -70.568075  -33.386547       -70.582943       -33.424562\n",
       "9976  -70.568075  -33.386547       -70.598500       -33.413806\n",
       "9977  -70.512420  -33.370765       -70.502880       -33.387383\n",
       "\n",
       "[9978 rows x 4 columns]"
      ]
     },
     "execution_count": 93,
     "metadata": {},
     "output_type": "execute_result"
    }
   ],
   "source": [
    "new = full[['lng_origin', 'lat_origin', 'lng_destination', 'lat_destination']]\n",
    "new"
   ]
  },
  {
   "cell_type": "code",
   "execution_count": null,
   "metadata": {},
   "outputs": [],
   "source": [
    "'lng_origin', 'lat_origin', 'lng_destination', 'lat_destination'"
   ]
  },
  {
   "cell_type": "code",
   "execution_count": 249,
   "metadata": {},
   "outputs": [],
   "source": [
    "df = full[['lng_origin', 'lat_origin', 'lng_destination', 'lat_destination']]"
   ]
  },
  {
   "cell_type": "code",
   "execution_count": 252,
   "metadata": {},
   "outputs": [
    {
     "ename": "KeyError",
     "evalue": "'routes'",
     "output_type": "error",
     "traceback": [
      "\u001b[0;31m---------------------------------------------------------------------------\u001b[0m",
      "\u001b[0;31mKeyError\u001b[0m                                  Traceback (most recent call last)",
      "\u001b[0;32m<ipython-input-252-04bdb743d87b>\u001b[0m in \u001b[0;36m<module>\u001b[0;34m\u001b[0m\n\u001b[1;32m     24\u001b[0m \u001b[0;31m# OSRM is down now but this return [ \"Metamorfosenallee\", \"Burgemeester Matsersingel\", \"Burgemeester Matsersingel\", \"Batavierenweg\" ]\u001b[0m\u001b[0;34m\u001b[0m\u001b[0;34m\u001b[0m\u001b[0;34m\u001b[0m\u001b[0m\n\u001b[1;32m     25\u001b[0m \u001b[0;31m#matched = [tp['waypoints'] for tp in requests.get(url).json().get(\"routes\")[0]['distance']]\u001b[0m\u001b[0;34m\u001b[0m\u001b[0;34m\u001b[0m\u001b[0;34m\u001b[0m\u001b[0m\n\u001b[0;32m---> 26\u001b[0;31m \u001b[0mmatched\u001b[0m \u001b[0;34m=\u001b[0m \u001b[0;34m[\u001b[0m\u001b[0mtp\u001b[0m\u001b[0;34m[\u001b[0m\u001b[0;34m'distance'\u001b[0m\u001b[0;34m]\u001b[0m \u001b[0;32mfor\u001b[0m \u001b[0mtp\u001b[0m \u001b[0;32min\u001b[0m \u001b[0mrequests\u001b[0m\u001b[0;34m.\u001b[0m\u001b[0mpost\u001b[0m\u001b[0;34m(\u001b[0m\u001b[0murl\u001b[0m\u001b[0;34m)\u001b[0m\u001b[0;34m.\u001b[0m\u001b[0mjson\u001b[0m\u001b[0;34m(\u001b[0m\u001b[0;34m)\u001b[0m\u001b[0;34m[\u001b[0m\u001b[0;34m'routes'\u001b[0m\u001b[0;34m]\u001b[0m\u001b[0;34m[\u001b[0m\u001b[0;36m0\u001b[0m\u001b[0;34m]\u001b[0m\u001b[0;34m[\u001b[0m\u001b[0;34m'legs'\u001b[0m\u001b[0;34m]\u001b[0m\u001b[0;34m]\u001b[0m\u001b[0;34m\u001b[0m\u001b[0;34m\u001b[0m\u001b[0m\n\u001b[0m",
      "\u001b[0;31mKeyError\u001b[0m: 'routes'"
     ]
    }
   ],
   "source": [
    "import pandas as pd\n",
    "import numpy as np\n",
    "import requests\n",
    "import json\n",
    "\n",
    "path = [\n",
    "-70.57925,\n",
    " -33.48528,\n",
    " -70.5793685999999,\n",
    " -33.5016745551528,\n",
    " -70.53545,\n",
    " -33.441246,\n",
    " -70.5562828195387,\n",
    " -33.4405840012576,\n",
    "]\n",
    "path = [ {'t': t, 'lat1': c[1], 'lon1': c[2], 'lat2': c[3], 'lon2': c[2]} for t, c in enumerate(zip(*[path[i::4] for i in range(4)]))]\n",
    "df = pd.DataFrame(path)\n",
    "\n",
    "path = '&'.join(list(df[pd.notnull(df.lat1)].apply(lambda x: str(x.lon1) + ',' + str(x.lat1) + ';' + str(x.lon2) + ',' + str(x.lat2), axis=1)))\n",
    "osrm = 'http://router.project-osrm.org' # currently down\n",
    "#osrm = 'http://localhost:5000'\n",
    "url = osrm + '/route/v1/car/' + path + '?overview=false'\n",
    "\n",
    "# OSRM is down now but this return [ \"Metamorfosenallee\", \"Burgemeester Matsersingel\", \"Burgemeester Matsersingel\", \"Batavierenweg\" ]\n",
    "#matched = [tp['waypoints'] for tp in requests.get(url).json().get(\"routes\")[0]['distance']]\n",
    "matched = [tp['distance'] for tp in requests.post(url).json()['routes'][0]['legs']]\n"
   ]
  },
  {
   "cell_type": "code",
   "execution_count": 253,
   "metadata": {},
   "outputs": [
    {
     "data": {
      "text/plain": [
       "'http://router.project-osrm.org/route/v1/car/-70.5793685999999,-33.48528;-70.5793685999999,-33.5016745551528&-70.5562828195387,-33.441246;-70.5562828195387,-33.4405840012576?overview=false'"
      ]
     },
     "execution_count": 253,
     "metadata": {},
     "output_type": "execute_result"
    }
   ],
   "source": [
    "url"
   ]
  },
  {
   "cell_type": "code",
   "execution_count": 205,
   "metadata": {},
   "outputs": [
    {
     "data": {
      "text/plain": [
       "[3364.4, 8857, 397.3]"
      ]
     },
     "execution_count": 205,
     "metadata": {},
     "output_type": "execute_result"
    }
   ],
   "source": [
    "matched"
   ]
  },
  {
   "cell_type": "code",
   "execution_count": 188,
   "metadata": {},
   "outputs": [
    {
     "data": {
      "text/plain": [
       "[{'steps': [],\n",
       "  'weight': 380.1,\n",
       "  'distance': 3364.4,\n",
       "  'summary': '',\n",
       "  'duration': 380.1},\n",
       " {'steps': [],\n",
       "  'weight': 644.7,\n",
       "  'distance': 8857,\n",
       "  'summary': '',\n",
       "  'duration': 644.7},\n",
       " {'steps': [],\n",
       "  'weight': 86.7,\n",
       "  'distance': 397.3,\n",
       "  'summary': '',\n",
       "  'duration': 86.7}]"
      ]
     },
     "execution_count": 188,
     "metadata": {},
     "output_type": "execute_result"
    }
   ],
   "source": [
    "requests.get(url).json().get(\"routes\")[0]['legs']"
   ]
  },
  {
   "cell_type": "code",
   "execution_count": 143,
   "metadata": {},
   "outputs": [
    {
     "ename": "NameError",
     "evalue": "name 'distance' is not defined",
     "output_type": "error",
     "traceback": [
      "\u001b[0;31m---------------------------------------------------------------------------\u001b[0m",
      "\u001b[0;31mNameError\u001b[0m                                 Traceback (most recent call last)",
      "\u001b[0;32m<ipython-input-143-6ef7dcfd5051>\u001b[0m in \u001b[0;36m<module>\u001b[0;34m\u001b[0m\n\u001b[1;32m      1\u001b[0m \u001b[0mroutes\u001b[0m \u001b[0;34m=\u001b[0m \u001b[0mrequests\u001b[0m\u001b[0;34m.\u001b[0m\u001b[0mpost\u001b[0m\u001b[0;34m(\u001b[0m\u001b[0murl\u001b[0m\u001b[0;34m)\u001b[0m\u001b[0;34m.\u001b[0m\u001b[0mjson\u001b[0m\u001b[0;34m(\u001b[0m\u001b[0;34m)\u001b[0m\u001b[0;34m\u001b[0m\u001b[0;34m\u001b[0m\u001b[0m\n\u001b[1;32m      2\u001b[0m \u001b[0mroute_1\u001b[0m \u001b[0;34m=\u001b[0m \u001b[0mroutes\u001b[0m\u001b[0;34m.\u001b[0m\u001b[0mget\u001b[0m\u001b[0;34m(\u001b[0m\u001b[0;34m\"routes\"\u001b[0m\u001b[0;34m)\u001b[0m\u001b[0;34m[\u001b[0m\u001b[0;36m0\u001b[0m\u001b[0;34m]\u001b[0m\u001b[0;34m\u001b[0m\u001b[0;34m\u001b[0m\u001b[0m\n\u001b[0;32m----> 3\u001b[0;31m \u001b[0mdistance\u001b[0m\u001b[0;34m.\u001b[0m\u001b[0mappend\u001b[0m\u001b[0;34m(\u001b[0m\u001b[0mroute_1\u001b[0m\u001b[0;34m[\u001b[0m\u001b[0;34m'distance'\u001b[0m\u001b[0;34m]\u001b[0m\u001b[0;34m)\u001b[0m\u001b[0;34m\u001b[0m\u001b[0;34m\u001b[0m\u001b[0m\n\u001b[0m",
      "\u001b[0;31mNameError\u001b[0m: name 'distance' is not defined"
     ]
    }
   ],
   "source": [
    "r = requests.get(f\"http://router.project-osrm.org/route/v1/car/{df[long1][i]},{df[lat1][i]};{df[long2][i]},{df[lat2][i]}?overview=false\"\"\")\n",
    "routes = json.loads(r.content)\n",
    "route_1 = routes.get(\"routes\")[0]\n",
    "distance.append(route_1['distance'])"
   ]
  },
  {
   "cell_type": "code",
   "execution_count": 125,
   "metadata": {},
   "outputs": [
    {
     "data": {
      "text/plain": [
       "{'legs': [{'steps': [],\n",
       "   'weight': 380.1,\n",
       "   'distance': 3364.4,\n",
       "   'summary': '',\n",
       "   'duration': 380.1}],\n",
       " 'weight_name': 'routability',\n",
       " 'weight': 380.1,\n",
       " 'distance': 3364.4,\n",
       " 'duration': 380.1}"
      ]
     },
     "execution_count": 125,
     "metadata": {},
     "output_type": "execute_result"
    }
   ],
   "source": [
    "r = requests.get(url)\n",
    "routes = json.loads(r.content)\n",
    "route_1 = routes.get(\"routes\")[0]\n",
    "route_1\n"
   ]
  },
  {
   "cell_type": "code",
   "execution_count": 104,
   "metadata": {},
   "outputs": [
    {
     "data": {
      "text/plain": [
       "{'legs': [{'steps': [],\n",
       "   'weight': 380.8,\n",
       "   'distance': 3367.1,\n",
       "   'summary': '',\n",
       "   'duration': 380.8}],\n",
       " 'weight_name': 'routability',\n",
       " 'weight': 380.8,\n",
       " 'distance': 3367.1,\n",
       " 'duration': 380.8}"
      ]
     },
     "execution_count": 104,
     "metadata": {},
     "output_type": "execute_result"
    }
   ],
   "source": [
    "r = requests.get(f\"http://router.project-osrm.org/route/v1/car/{-70.57925},{-33.48528};{-70.579369},{-33.501675}?overview=false\"\"\")\n",
    "routes = json.loads(r.content)\n",
    "route_1 = routes.get(\"routes\")[0]\n",
    "route_1"
   ]
  },
  {
   "cell_type": "code",
   "execution_count": null,
   "metadata": {},
   "outputs": [],
   "source": [
    "path = [\n",
    "  ,\n",
    " ,\n",
    " ,\n",
    " ,\n",
    "]"
   ]
  },
  {
   "cell_type": "code",
   "execution_count": 82,
   "metadata": {},
   "outputs": [
    {
     "data": {
      "text/plain": [
       "{'legs': [{'steps': [],\n",
       "   'weight': 0,\n",
       "   'distance': 0,\n",
       "   'summary': '',\n",
       "   'duration': 0}],\n",
       " 'weight_name': 'routability',\n",
       " 'weight': 0,\n",
       " 'distance': 0,\n",
       " 'duration': 0}"
      ]
     },
     "execution_count": 82,
     "metadata": {},
     "output_type": "execute_result"
    }
   ],
   "source": [
    "r = requests.get('http://router.project-osrm.org/route/v1/car/-33.48528,-70.57925;-33.5016745551528,-70.5793685999999?overview=false')\n",
    "routes = json.loads(r.content)\n",
    "route_1 = routes.get(\"routes\")[0]\n",
    "route_1\n"
   ]
  },
  {
   "cell_type": "code",
   "execution_count": null,
   "metadata": {},
   "outputs": [],
   "source": []
  },
  {
   "cell_type": "code",
   "execution_count": null,
   "metadata": {},
   "outputs": [],
   "source": []
  },
  {
   "cell_type": "code",
   "execution_count": 158,
   "metadata": {},
   "outputs": [],
   "source": [
    "import pandas as pd\n",
    "import numpy as np\n",
    "import requests\n",
    "import json\n",
    "\n",
    "path = [\n",
    "  51.954974, 5.857131,\n",
    "  51.955014, 5.860725,\n",
    "  51.954168, 5.866390,\n",
    "  51.954889, 5.868611,\n",
    "]\n",
    "path = [ {'t': t, 'lat': c[0], 'lon': c[1]} for t, c in enumerate(zip(*[path[i::2] for i in range(2)]))]\n",
    "df = pd.DataFrame(path)\n",
    "\n",
    "path = ';'.join(list(df[pd.notnull(df.lat)].apply(lambda x: str(x.lon) + ',' + str(x.lat), axis=1)))\n",
    "osrm = 'http://router.project-osrm.org' # currently down\n",
    "#osrm = 'http://localhost:5000'\n",
    "url = osrm + '/match/v1/car/' + path + '?overview=full&annotations=nodes&tidy=true'\n",
    "\n",
    "# OSRM is down now but this return [ \"Metamorfosenallee\", \"Burgemeester Matsersingel\", \"Burgemeester Matsersingel\", \"Batavierenweg\" ]\n",
    "matched = [tp['name'] for tp in requests.post(url).json()['tracepoints']]"
   ]
  },
  {
   "cell_type": "code",
   "execution_count": 159,
   "metadata": {},
   "outputs": [
    {
     "data": {
      "text/plain": [
       "{'code': 'Ok',\n",
       " 'tracepoints': [{'alternatives_count': 0,\n",
       "   'location': [5.857128, 51.954998],\n",
       "   'distance': 2.678366,\n",
       "   'hint': 'B3rKjP___38tAAAAYQAAAPIAAAApAAAA5xtMQisvZUIIrYZD3b6-QS0AAABhAAAA8gAAACkAAABO6AAAaF9ZADbFGANrX1kAHsUYAwQAXwXAC-yX',\n",
       "   'name': 'Metamorfosenallee',\n",
       "   'matchings_index': 0,\n",
       "   'waypoint_index': 0},\n",
       "  {'alternatives_count': 0,\n",
       "   'location': [5.860727, 51.955036],\n",
       "   'distance': 2.45174,\n",
       "   'hint': 's8Qzgf___38eAAAAOgAAAGkAAAC4AAAALGIIQhXe9kFDO-pC1K42Qx4AAAA6AAAAaQAAALgAAABO6AAAd21ZAFzFGAN1bVkARsUYAwIA3wXAC-yX',\n",
       "   'name': 'Burgemeester Matsersingel',\n",
       "   'matchings_index': 0,\n",
       "   'waypoint_index': 1},\n",
       "  {'alternatives_count': 0,\n",
       "   'location': [5.866385, 51.954161],\n",
       "   'distance': 0.851292,\n",
       "   'hint': 'u8Qzgf___38XAAAAIgAAAJMAAABbAAAAJwfPQYRRO0G9fSND7UieQhcAAAAiAAAAkwAAAFsAAABO6AAAkYNZAPHBGAOWg1kA-MEYAwUAPwfAC-yX',\n",
       "   'name': 'Burgemeester Matsersingel',\n",
       "   'matchings_index': 0,\n",
       "   'waypoint_index': 2},\n",
       "  {'alternatives_count': 1,\n",
       "   'location': [5.868628, 51.954885],\n",
       "   'distance': 1.250127,\n",
       "   'hint': 'zMQzgf___39GAAAAGwEAAAUAAAAOAQAApafbQqmXpUPKS-9AyQbDQ0YAAAAbAQAABQAAAA4BAABO6AAAVIxZAMXEGANDjFkAycQYAwEAfwHAC-yX',\n",
       "   'name': 'Batavierenweg',\n",
       "   'matchings_index': 0,\n",
       "   'waypoint_index': 3}],\n",
       " 'matchings': [{'duration': 88.4,\n",
       "   'distance': 892.8,\n",
       "   'weight': 88.4,\n",
       "   'geometry': 'wmb|Ha~vb@GeDCeA?k@?qH?a@BcBByABy@F{AHgBHoAR_CDi@@QB[RiBPcBTeBZsBRcAF]f@wCN{@Lo@]UKGuD_C',\n",
       "   'confidence': 0.338505,\n",
       "   'weight_name': 'routability',\n",
       "   'legs': [{'steps': [],\n",
       "     'weight': 24.2,\n",
       "     'distance': 247.1,\n",
       "     'annotation': {'nodes': [6625041942,\n",
       "       6625041944,\n",
       "       44578806,\n",
       "       44578809,\n",
       "       44578903,\n",
       "       7099741317,\n",
       "       6768799771]},\n",
       "     'summary': '',\n",
       "     'duration': 24.2},\n",
       "    {'steps': [],\n",
       "     'weight': 38.2,\n",
       "     'distance': 402,\n",
       "     'annotation': {'nodes': [7099741317,\n",
       "       6768799771,\n",
       "       6768799772,\n",
       "       1856990590,\n",
       "       7738026365,\n",
       "       302387182,\n",
       "       7100004764,\n",
       "       7038640924,\n",
       "       302387184,\n",
       "       7038640929,\n",
       "       7738026364,\n",
       "       302387185,\n",
       "       1856990563,\n",
       "       44574154,\n",
       "       44573603]},\n",
       "     'summary': '',\n",
       "     'duration': 38.2},\n",
       "    {'steps': [],\n",
       "     'weight': 26,\n",
       "     'distance': 243.7,\n",
       "     'annotation': {'nodes': [44574154,\n",
       "       44573603,\n",
       "       566359872,\n",
       "       44572106,\n",
       "       44571744,\n",
       "       44572476,\n",
       "       44572610,\n",
       "       44592025]},\n",
       "     'summary': '',\n",
       "     'duration': 26}]}]}"
      ]
     },
     "execution_count": 159,
     "metadata": {},
     "output_type": "execute_result"
    }
   ],
   "source": [
    "requests.post(url).json()"
   ]
  },
  {
   "cell_type": "code",
   "execution_count": null,
   "metadata": {},
   "outputs": [],
   "source": [
    "r = requests.get(f\"http://router.project-osrm.org/route/v1/car/{df[long1][i]},{df[lat1][i]};{df[long2][i]},{df[lat2][i]}?overview=false\"\"\")\n",
    "        routes = json.loads(r.content)\n",
    "        route_1 = routes.get(\"routes\")[0]"
   ]
  }
 ],
 "metadata": {
  "kernelspec": {
   "display_name": "Python 3",
   "language": "python",
   "name": "python3"
  },
  "language_info": {
   "codemirror_mode": {
    "name": "ipython",
    "version": 3
   },
   "file_extension": ".py",
   "mimetype": "text/x-python",
   "name": "python",
   "nbconvert_exporter": "python",
   "pygments_lexer": "ipython3",
   "version": "3.7.6"
  }
 },
 "nbformat": 4,
 "nbformat_minor": 4
}
