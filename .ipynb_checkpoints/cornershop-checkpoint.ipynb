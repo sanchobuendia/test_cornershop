{
 "cells": [
  {
   "cell_type": "code",
   "execution_count": 1,
   "metadata": {},
   "outputs": [],
   "source": [
    "# Data manipulation\n",
    "import numpy as np\n",
    "import pandas as pd\n",
    "from math import *\n",
    "import seaborn as sns\n",
    "\n",
    "# Visualization.\n",
    "import matplotlib.pyplot as plt\n",
    "\n",
    "# Saving models\n",
    "from datetime import datetime\n",
    "import joblib\n",
    "\n",
    "# Display all columns\n",
    "pd.set_option('display.max_columns', 150,\n",
    "             'display.max_rows', 150)\n",
    "\n",
    "# ML\n",
    "from sklearn.model_selection import RandomizedSearchCV\n",
    "from sklearn.model_selection import StratifiedKFold\n",
    "from sklearn.model_selection import train_test_split\n",
    "from sklearn.model_selection import cross_validate, cross_val_score \n",
    "from sklearn.preprocessing import StandardScaler, MinMaxScaler\n",
    "from sklearn.feature_selection import  SelectKBest, chi2\n",
    "from sklearn.metrics import r2_score, explained_variance_score, mean_squared_error, median_absolute_error\n",
    "from sklearn.linear_model import LinearRegression"
   ]
  },
  {
   "cell_type": "code",
   "execution_count": 2,
   "metadata": {},
   "outputs": [],
   "source": [
    "def distance(s_lat, s_lng, e_lat, e_lng):\n",
    "\n",
    "    # approximate radius of earth in km\n",
    "    R = 6373.0\n",
    "\n",
    "    s_lat = s_lat*np.pi/180.0                      \n",
    "    s_lng = np.deg2rad(s_lng)     \n",
    "    e_lat = np.deg2rad(e_lat)                       \n",
    "    e_lng = np.deg2rad(e_lng)  \n",
    "\n",
    "    d = np.sin((e_lat - s_lat)/2)**2 + np.cos(s_lat)*np.cos(e_lat) * np.sin((e_lng - s_lng)/2)**2\n",
    "\n",
    "    return 2 * R * np.arcsin(np.sqrt(d))"
   ]
  },
  {
   "cell_type": "markdown",
   "metadata": {},
   "source": [
    "### Read the data\n",
    "   * Dataset order_products"
   ]
  },
  {
   "cell_type": "code",
   "execution_count": 3,
   "metadata": {},
   "outputs": [],
   "source": [
    "order_products = pd.read_csv(\"/Users/aurelianosancho/Documents/GitHub/teste_cornershop/order_products.csv\")"
   ]
  },
  {
   "cell_type": "code",
   "execution_count": 4,
   "metadata": {},
   "outputs": [
    {
     "data": {
      "text/plain": [
       "order_id      0\n",
       "product_id    0\n",
       "quantity      0\n",
       "buy_unit      0\n",
       "dtype: int64"
      ]
     },
     "execution_count": 4,
     "metadata": {},
     "output_type": "execute_result"
    }
   ],
   "source": [
    "order_products.isnull().sum()"
   ]
  },
  {
   "cell_type": "code",
   "execution_count": 5,
   "metadata": {},
   "outputs": [
    {
     "name": "stdout",
     "output_type": "stream",
     "text": [
      "<class 'pandas.core.frame.DataFrame'>\n",
      "RangeIndex: 198500 entries, 0 to 198499\n",
      "Data columns (total 4 columns):\n",
      " #   Column      Non-Null Count   Dtype  \n",
      "---  ------      --------------   -----  \n",
      " 0   order_id    198500 non-null  object \n",
      " 1   product_id  198500 non-null  object \n",
      " 2   quantity    198500 non-null  float64\n",
      " 3   buy_unit    198500 non-null  object \n",
      "dtypes: float64(1), object(3)\n",
      "memory usage: 6.1+ MB\n"
     ]
    }
   ],
   "source": [
    "order_products.info()"
   ]
  },
  {
   "cell_type": "code",
   "execution_count": 6,
   "metadata": {},
   "outputs": [],
   "source": [
    "order_products.loc[order_products['buy_unit'] == 'UN', 'quantity_UN'] = order_products['quantity']\n",
    "order_products.loc[order_products['quantity_UN'].isnull(), 'quantity_UN'] = 0\n",
    "\n",
    "order_products.loc[order_products['buy_unit'] == 'KG', 'quantity_KG'] = order_products['quantity']\n",
    "order_products.loc[order_products['quantity_KG'].isnull(), 'quantity_KG'] = 0"
   ]
  },
  {
   "cell_type": "code",
   "execution_count": 7,
   "metadata": {},
   "outputs": [
    {
     "data": {
      "text/html": [
       "<div>\n",
       "<style scoped>\n",
       "    .dataframe tbody tr th:only-of-type {\n",
       "        vertical-align: middle;\n",
       "    }\n",
       "\n",
       "    .dataframe tbody tr th {\n",
       "        vertical-align: top;\n",
       "    }\n",
       "\n",
       "    .dataframe thead th {\n",
       "        text-align: right;\n",
       "    }\n",
       "</style>\n",
       "<table border=\"1\" class=\"dataframe\">\n",
       "  <thead>\n",
       "    <tr style=\"text-align: right;\">\n",
       "      <th></th>\n",
       "      <th>order_id</th>\n",
       "      <th>product_id</th>\n",
       "      <th>quantity</th>\n",
       "      <th>buy_unit</th>\n",
       "      <th>quantity_UN</th>\n",
       "      <th>quantity_KG</th>\n",
       "    </tr>\n",
       "  </thead>\n",
       "  <tbody>\n",
       "    <tr>\n",
       "      <th>0</th>\n",
       "      <td>47099653730fb1b76537fc10ad876255</td>\n",
       "      <td>c1244453d731c77416cb4766e3bd76cb</td>\n",
       "      <td>1.0</td>\n",
       "      <td>UN</td>\n",
       "      <td>1.0</td>\n",
       "      <td>0.0</td>\n",
       "    </tr>\n",
       "    <tr>\n",
       "      <th>1</th>\n",
       "      <td>689d8866915acf87e851c2591a23a82f</td>\n",
       "      <td>43cc2b100bec640fe563cd16f2db669f</td>\n",
       "      <td>1.0</td>\n",
       "      <td>KG</td>\n",
       "      <td>0.0</td>\n",
       "      <td>1.0</td>\n",
       "    </tr>\n",
       "    <tr>\n",
       "      <th>2</th>\n",
       "      <td>f26d16bf6f38c9e31d0be877f4013a9e</td>\n",
       "      <td>b8f880759d014134e272d881d49989a2</td>\n",
       "      <td>1.0</td>\n",
       "      <td>UN</td>\n",
       "      <td>1.0</td>\n",
       "      <td>0.0</td>\n",
       "    </tr>\n",
       "  </tbody>\n",
       "</table>\n",
       "</div>"
      ],
      "text/plain": [
       "                           order_id                        product_id  \\\n",
       "0  47099653730fb1b76537fc10ad876255  c1244453d731c77416cb4766e3bd76cb   \n",
       "1  689d8866915acf87e851c2591a23a82f  43cc2b100bec640fe563cd16f2db669f   \n",
       "2  f26d16bf6f38c9e31d0be877f4013a9e  b8f880759d014134e272d881d49989a2   \n",
       "\n",
       "   quantity buy_unit  quantity_UN  quantity_KG  \n",
       "0       1.0       UN          1.0          0.0  \n",
       "1       1.0       KG          0.0          1.0  \n",
       "2       1.0       UN          1.0          0.0  "
      ]
     },
     "execution_count": 7,
     "metadata": {},
     "output_type": "execute_result"
    }
   ],
   "source": [
    "order_products.head(3)"
   ]
  },
  {
   "cell_type": "code",
   "execution_count": 8,
   "metadata": {},
   "outputs": [],
   "source": [
    "order_products = order_products.groupby('order_id').aggregate(\n",
    "                            {'quantity_UN': 'sum',\n",
    "                             'quantity_KG': 'sum'\n",
    "                            }).reset_index()"
   ]
  },
  {
   "cell_type": "code",
   "execution_count": 9,
   "metadata": {},
   "outputs": [],
   "source": [
    "order_products.loc[order_products['quantity_UN'] >= order_products['quantity_KG'], 'is_more_UN'] = 1\n",
    "order_products.loc[order_products['is_more_UN'].isnull(), 'is_more_UN'] = 0"
   ]
  },
  {
   "cell_type": "code",
   "execution_count": 10,
   "metadata": {},
   "outputs": [],
   "source": [
    "order_products['UN_plus_KG'] = order_products['quantity_UN'] + order_products['quantity_KG']\n",
    "order_products['UN_mult_KG'] = order_products['quantity_UN']*order_products['quantity_KG']"
   ]
  },
  {
   "cell_type": "code",
   "execution_count": 11,
   "metadata": {},
   "outputs": [
    {
     "data": {
      "text/html": [
       "<div>\n",
       "<style scoped>\n",
       "    .dataframe tbody tr th:only-of-type {\n",
       "        vertical-align: middle;\n",
       "    }\n",
       "\n",
       "    .dataframe tbody tr th {\n",
       "        vertical-align: top;\n",
       "    }\n",
       "\n",
       "    .dataframe thead th {\n",
       "        text-align: right;\n",
       "    }\n",
       "</style>\n",
       "<table border=\"1\" class=\"dataframe\">\n",
       "  <thead>\n",
       "    <tr style=\"text-align: right;\">\n",
       "      <th></th>\n",
       "      <th>order_id</th>\n",
       "      <th>quantity_UN</th>\n",
       "      <th>quantity_KG</th>\n",
       "      <th>is_more_UN</th>\n",
       "      <th>UN_plus_KG</th>\n",
       "      <th>UN_mult_KG</th>\n",
       "    </tr>\n",
       "  </thead>\n",
       "  <tbody>\n",
       "    <tr>\n",
       "      <th>0</th>\n",
       "      <td>0004a3841c1eeb6c6e77585a941c21e0</td>\n",
       "      <td>8.0</td>\n",
       "      <td>0.000</td>\n",
       "      <td>1.0</td>\n",
       "      <td>8.000</td>\n",
       "      <td>0.000</td>\n",
       "    </tr>\n",
       "    <tr>\n",
       "      <th>1</th>\n",
       "      <td>0005a6ecbbde1e8d273f5577bcff2c9c</td>\n",
       "      <td>2.0</td>\n",
       "      <td>0.000</td>\n",
       "      <td>1.0</td>\n",
       "      <td>2.000</td>\n",
       "      <td>0.000</td>\n",
       "    </tr>\n",
       "    <tr>\n",
       "      <th>2</th>\n",
       "      <td>0007baeb6700fc203be2d1f1e11222d7</td>\n",
       "      <td>39.0</td>\n",
       "      <td>0.000</td>\n",
       "      <td>1.0</td>\n",
       "      <td>39.000</td>\n",
       "      <td>0.000</td>\n",
       "    </tr>\n",
       "    <tr>\n",
       "      <th>3</th>\n",
       "      <td>0012195a6a8ca9ec308a3010eeea8ebc</td>\n",
       "      <td>13.0</td>\n",
       "      <td>0.000</td>\n",
       "      <td>1.0</td>\n",
       "      <td>13.000</td>\n",
       "      <td>0.000</td>\n",
       "    </tr>\n",
       "    <tr>\n",
       "      <th>4</th>\n",
       "      <td>0013011fa72b498b9feb84f4e7104980</td>\n",
       "      <td>63.0</td>\n",
       "      <td>1.636</td>\n",
       "      <td>1.0</td>\n",
       "      <td>64.636</td>\n",
       "      <td>103.068</td>\n",
       "    </tr>\n",
       "  </tbody>\n",
       "</table>\n",
       "</div>"
      ],
      "text/plain": [
       "                           order_id  quantity_UN  quantity_KG  is_more_UN  \\\n",
       "0  0004a3841c1eeb6c6e77585a941c21e0          8.0        0.000         1.0   \n",
       "1  0005a6ecbbde1e8d273f5577bcff2c9c          2.0        0.000         1.0   \n",
       "2  0007baeb6700fc203be2d1f1e11222d7         39.0        0.000         1.0   \n",
       "3  0012195a6a8ca9ec308a3010eeea8ebc         13.0        0.000         1.0   \n",
       "4  0013011fa72b498b9feb84f4e7104980         63.0        1.636         1.0   \n",
       "\n",
       "   UN_plus_KG  UN_mult_KG  \n",
       "0       8.000       0.000  \n",
       "1       2.000       0.000  \n",
       "2      39.000       0.000  \n",
       "3      13.000       0.000  \n",
       "4      64.636     103.068  "
      ]
     },
     "execution_count": 11,
     "metadata": {},
     "output_type": "execute_result"
    }
   ],
   "source": [
    "order_products.head()"
   ]
  },
  {
   "cell_type": "code",
   "execution_count": 12,
   "metadata": {},
   "outputs": [
    {
     "data": {
      "text/plain": [
       "order_id       0\n",
       "quantity_UN    0\n",
       "quantity_KG    0\n",
       "is_more_UN     0\n",
       "UN_plus_KG     0\n",
       "UN_mult_KG     0\n",
       "dtype: int64"
      ]
     },
     "execution_count": 12,
     "metadata": {},
     "output_type": "execute_result"
    }
   ],
   "source": [
    "order_products.isnull().sum()"
   ]
  },
  {
   "cell_type": "markdown",
   "metadata": {},
   "source": [
    "* Dataset orders"
   ]
  },
  {
   "cell_type": "code",
   "execution_count": 13,
   "metadata": {},
   "outputs": [],
   "source": [
    "orders = pd.read_csv(\"/Users/aurelianosancho/Documents/GitHub/teste_cornershop/orders.csv\")"
   ]
  },
  {
   "cell_type": "code",
   "execution_count": 14,
   "metadata": {},
   "outputs": [
    {
     "data": {
      "text/plain": [
       "order_id              0\n",
       "lat                   0\n",
       "lng                   0\n",
       "promised_time         0\n",
       "on_demand             0\n",
       "shopper_id            0\n",
       "store_branch_id       0\n",
       "total_minutes      2000\n",
       "dtype: int64"
      ]
     },
     "execution_count": 14,
     "metadata": {},
     "output_type": "execute_result"
    }
   ],
   "source": [
    "orders.isnull().sum()"
   ]
  },
  {
   "cell_type": "code",
   "execution_count": 15,
   "metadata": {},
   "outputs": [
    {
     "name": "stdout",
     "output_type": "stream",
     "text": [
      "<class 'pandas.core.frame.DataFrame'>\n",
      "RangeIndex: 10000 entries, 0 to 9999\n",
      "Data columns (total 8 columns):\n",
      " #   Column           Non-Null Count  Dtype  \n",
      "---  ------           --------------  -----  \n",
      " 0   order_id         10000 non-null  object \n",
      " 1   lat              10000 non-null  float64\n",
      " 2   lng              10000 non-null  float64\n",
      " 3   promised_time    10000 non-null  object \n",
      " 4   on_demand        10000 non-null  bool   \n",
      " 5   shopper_id       10000 non-null  object \n",
      " 6   store_branch_id  10000 non-null  object \n",
      " 7   total_minutes    8000 non-null   float64\n",
      "dtypes: bool(1), float64(3), object(4)\n",
      "memory usage: 556.8+ KB\n"
     ]
    }
   ],
   "source": [
    "orders.info()"
   ]
  },
  {
   "cell_type": "code",
   "execution_count": 16,
   "metadata": {},
   "outputs": [
    {
     "data": {
      "text/html": [
       "<div>\n",
       "<style scoped>\n",
       "    .dataframe tbody tr th:only-of-type {\n",
       "        vertical-align: middle;\n",
       "    }\n",
       "\n",
       "    .dataframe tbody tr th {\n",
       "        vertical-align: top;\n",
       "    }\n",
       "\n",
       "    .dataframe thead th {\n",
       "        text-align: right;\n",
       "    }\n",
       "</style>\n",
       "<table border=\"1\" class=\"dataframe\">\n",
       "  <thead>\n",
       "    <tr style=\"text-align: right;\">\n",
       "      <th></th>\n",
       "      <th>order_id</th>\n",
       "      <th>lat</th>\n",
       "      <th>lng</th>\n",
       "      <th>promised_time</th>\n",
       "      <th>on_demand</th>\n",
       "      <th>shopper_id</th>\n",
       "      <th>store_branch_id</th>\n",
       "      <th>total_minutes</th>\n",
       "    </tr>\n",
       "  </thead>\n",
       "  <tbody>\n",
       "    <tr>\n",
       "      <th>0</th>\n",
       "      <td>e750294655c2c7c34d83cc3181c09de4</td>\n",
       "      <td>-33.501675</td>\n",
       "      <td>-70.579369</td>\n",
       "      <td>2019-10-18 20:48:00+00:00</td>\n",
       "      <td>True</td>\n",
       "      <td>e63bc83a1a952fa2b3cc9d558fb943cf</td>\n",
       "      <td>65ded5353c5ee48d0b7d48c591b8f430</td>\n",
       "      <td>67.684264</td>\n",
       "    </tr>\n",
       "    <tr>\n",
       "      <th>1</th>\n",
       "      <td>6581174846221cb6c467348e87f57641</td>\n",
       "      <td>-33.440584</td>\n",
       "      <td>-70.556283</td>\n",
       "      <td>2019-10-19 01:00:00+00:00</td>\n",
       "      <td>False</td>\n",
       "      <td>195f9e9d84a4ba9033c4b6a756334d8b</td>\n",
       "      <td>45fbc6d3e05ebd93369ce542e8f2322d</td>\n",
       "      <td>57.060632</td>\n",
       "    </tr>\n",
       "    <tr>\n",
       "      <th>2</th>\n",
       "      <td>3a226ea48debc0a7ae9950d5540f2f34</td>\n",
       "      <td>-32.987022</td>\n",
       "      <td>-71.544842</td>\n",
       "      <td>2019-10-19 14:54:00+00:00</td>\n",
       "      <td>True</td>\n",
       "      <td>a5b9ddc0d82e61582fca19ad43dbaacb</td>\n",
       "      <td>07563a3fe3bbe7e3ba84431ad9d055af</td>\n",
       "      <td>NaN</td>\n",
       "    </tr>\n",
       "  </tbody>\n",
       "</table>\n",
       "</div>"
      ],
      "text/plain": [
       "                           order_id        lat        lng  \\\n",
       "0  e750294655c2c7c34d83cc3181c09de4 -33.501675 -70.579369   \n",
       "1  6581174846221cb6c467348e87f57641 -33.440584 -70.556283   \n",
       "2  3a226ea48debc0a7ae9950d5540f2f34 -32.987022 -71.544842   \n",
       "\n",
       "               promised_time  on_demand                        shopper_id  \\\n",
       "0  2019-10-18 20:48:00+00:00       True  e63bc83a1a952fa2b3cc9d558fb943cf   \n",
       "1  2019-10-19 01:00:00+00:00      False  195f9e9d84a4ba9033c4b6a756334d8b   \n",
       "2  2019-10-19 14:54:00+00:00       True  a5b9ddc0d82e61582fca19ad43dbaacb   \n",
       "\n",
       "                    store_branch_id  total_minutes  \n",
       "0  65ded5353c5ee48d0b7d48c591b8f430      67.684264  \n",
       "1  45fbc6d3e05ebd93369ce542e8f2322d      57.060632  \n",
       "2  07563a3fe3bbe7e3ba84431ad9d055af            NaN  "
      ]
     },
     "execution_count": 16,
     "metadata": {},
     "output_type": "execute_result"
    }
   ],
   "source": [
    "orders.head(3)"
   ]
  },
  {
   "cell_type": "markdown",
   "metadata": {},
   "source": [
    "#### Join the datasets"
   ]
  },
  {
   "cell_type": "code",
   "execution_count": 17,
   "metadata": {},
   "outputs": [],
   "source": [
    "full = pd.merge(orders, order_products, how='inner', on='order_id')"
   ]
  },
  {
   "cell_type": "code",
   "execution_count": 18,
   "metadata": {},
   "outputs": [
    {
     "data": {
      "text/plain": [
       "order_id              0\n",
       "lat                   0\n",
       "lng                   0\n",
       "promised_time         0\n",
       "on_demand             0\n",
       "shopper_id            0\n",
       "store_branch_id       0\n",
       "total_minutes      1995\n",
       "quantity_UN           0\n",
       "quantity_KG           0\n",
       "is_more_UN            0\n",
       "UN_plus_KG            0\n",
       "UN_mult_KG            0\n",
       "dtype: int64"
      ]
     },
     "execution_count": 18,
     "metadata": {},
     "output_type": "execute_result"
    }
   ],
   "source": [
    "full.isnull().sum()"
   ]
  },
  {
   "cell_type": "markdown",
   "metadata": {},
   "source": [
    "   * Dataset shoppers"
   ]
  },
  {
   "cell_type": "code",
   "execution_count": 19,
   "metadata": {},
   "outputs": [],
   "source": [
    "shoppers = pd.read_csv(\"/Users/aurelianosancho/Documents/GitHub/teste_cornershop/shoppers.csv\")"
   ]
  },
  {
   "cell_type": "code",
   "execution_count": 20,
   "metadata": {},
   "outputs": [
    {
     "data": {
      "text/plain": [
       "shopper_id         0\n",
       "seniority          0\n",
       "found_rate       101\n",
       "picking_speed      0\n",
       "accepted_rate     27\n",
       "rating            84\n",
       "dtype: int64"
      ]
     },
     "execution_count": 20,
     "metadata": {},
     "output_type": "execute_result"
    }
   ],
   "source": [
    "shoppers.isnull().sum()"
   ]
  },
  {
   "cell_type": "code",
   "execution_count": 21,
   "metadata": {},
   "outputs": [
    {
     "name": "stdout",
     "output_type": "stream",
     "text": [
      "<class 'pandas.core.frame.DataFrame'>\n",
      "RangeIndex: 2864 entries, 0 to 2863\n",
      "Data columns (total 6 columns):\n",
      " #   Column         Non-Null Count  Dtype  \n",
      "---  ------         --------------  -----  \n",
      " 0   shopper_id     2864 non-null   object \n",
      " 1   seniority      2864 non-null   object \n",
      " 2   found_rate     2763 non-null   float64\n",
      " 3   picking_speed  2864 non-null   float64\n",
      " 4   accepted_rate  2837 non-null   float64\n",
      " 5   rating         2780 non-null   float64\n",
      "dtypes: float64(4), object(2)\n",
      "memory usage: 134.4+ KB\n"
     ]
    }
   ],
   "source": [
    "shoppers.info()"
   ]
  },
  {
   "cell_type": "code",
   "execution_count": 22,
   "metadata": {},
   "outputs": [
    {
     "data": {
      "text/html": [
       "<div>\n",
       "<style scoped>\n",
       "    .dataframe tbody tr th:only-of-type {\n",
       "        vertical-align: middle;\n",
       "    }\n",
       "\n",
       "    .dataframe tbody tr th {\n",
       "        vertical-align: top;\n",
       "    }\n",
       "\n",
       "    .dataframe thead th {\n",
       "        text-align: right;\n",
       "    }\n",
       "</style>\n",
       "<table border=\"1\" class=\"dataframe\">\n",
       "  <thead>\n",
       "    <tr style=\"text-align: right;\">\n",
       "      <th></th>\n",
       "      <th>shopper_id</th>\n",
       "      <th>seniority</th>\n",
       "      <th>found_rate</th>\n",
       "      <th>picking_speed</th>\n",
       "      <th>accepted_rate</th>\n",
       "      <th>rating</th>\n",
       "    </tr>\n",
       "  </thead>\n",
       "  <tbody>\n",
       "    <tr>\n",
       "      <th>0</th>\n",
       "      <td>1fc20b0bdf697ac13dd6a15cbd2fe60a</td>\n",
       "      <td>41dc7c9e385c4d2b6c1f7836973951bf</td>\n",
       "      <td>0.8606</td>\n",
       "      <td>1.94</td>\n",
       "      <td>1.00</td>\n",
       "      <td>4.87</td>\n",
       "    </tr>\n",
       "    <tr>\n",
       "      <th>1</th>\n",
       "      <td>e1c679ac73a69c01981fdd3c5ab8beda</td>\n",
       "      <td>6c90661e6d2c7579f5ce337c3391dbb9</td>\n",
       "      <td>0.8446</td>\n",
       "      <td>1.23</td>\n",
       "      <td>0.92</td>\n",
       "      <td>4.92</td>\n",
       "    </tr>\n",
       "    <tr>\n",
       "      <th>2</th>\n",
       "      <td>09d369c66ca86ebeffacb133410c5ee1</td>\n",
       "      <td>6c90661e6d2c7579f5ce337c3391dbb9</td>\n",
       "      <td>0.8559</td>\n",
       "      <td>1.56</td>\n",
       "      <td>1.00</td>\n",
       "      <td>4.88</td>\n",
       "    </tr>\n",
       "  </tbody>\n",
       "</table>\n",
       "</div>"
      ],
      "text/plain": [
       "                         shopper_id                         seniority  \\\n",
       "0  1fc20b0bdf697ac13dd6a15cbd2fe60a  41dc7c9e385c4d2b6c1f7836973951bf   \n",
       "1  e1c679ac73a69c01981fdd3c5ab8beda  6c90661e6d2c7579f5ce337c3391dbb9   \n",
       "2  09d369c66ca86ebeffacb133410c5ee1  6c90661e6d2c7579f5ce337c3391dbb9   \n",
       "\n",
       "   found_rate  picking_speed  accepted_rate  rating  \n",
       "0      0.8606           1.94           1.00    4.87  \n",
       "1      0.8446           1.23           0.92    4.92  \n",
       "2      0.8559           1.56           1.00    4.88  "
      ]
     },
     "execution_count": 22,
     "metadata": {},
     "output_type": "execute_result"
    }
   ],
   "source": [
    "shoppers.head(3)"
   ]
  },
  {
   "cell_type": "code",
   "execution_count": 23,
   "metadata": {},
   "outputs": [],
   "source": [
    "found_rate = shoppers[shoppers.found_rate.isnull()]"
   ]
  },
  {
   "cell_type": "code",
   "execution_count": 24,
   "metadata": {},
   "outputs": [
    {
     "data": {
      "text/html": [
       "<div>\n",
       "<style scoped>\n",
       "    .dataframe tbody tr th:only-of-type {\n",
       "        vertical-align: middle;\n",
       "    }\n",
       "\n",
       "    .dataframe tbody tr th {\n",
       "        vertical-align: top;\n",
       "    }\n",
       "\n",
       "    .dataframe thead th {\n",
       "        text-align: right;\n",
       "    }\n",
       "</style>\n",
       "<table border=\"1\" class=\"dataframe\">\n",
       "  <thead>\n",
       "    <tr style=\"text-align: right;\">\n",
       "      <th></th>\n",
       "      <th>shopper_id</th>\n",
       "      <th>seniority</th>\n",
       "      <th>found_rate</th>\n",
       "      <th>picking_speed</th>\n",
       "      <th>accepted_rate</th>\n",
       "      <th>rating</th>\n",
       "    </tr>\n",
       "  </thead>\n",
       "  <tbody>\n",
       "    <tr>\n",
       "      <th>3</th>\n",
       "      <td>db39866e62b95bb04ebb1e470f2d1347</td>\n",
       "      <td>50e13ee63f086c2fe84229348bc91b5b</td>\n",
       "      <td>NaN</td>\n",
       "      <td>2.41</td>\n",
       "      <td>NaN</td>\n",
       "      <td>NaN</td>\n",
       "    </tr>\n",
       "    <tr>\n",
       "      <th>41</th>\n",
       "      <td>3037b3b45878cc009165ab18046545e2</td>\n",
       "      <td>bb29b8d0d196b5db5a5350e5e3ae2b1f</td>\n",
       "      <td>NaN</td>\n",
       "      <td>2.19</td>\n",
       "      <td>1.0</td>\n",
       "      <td>NaN</td>\n",
       "    </tr>\n",
       "    <tr>\n",
       "      <th>48</th>\n",
       "      <td>767014694eecb27868fcab3e18bbeb2d</td>\n",
       "      <td>bb29b8d0d196b5db5a5350e5e3ae2b1f</td>\n",
       "      <td>NaN</td>\n",
       "      <td>2.19</td>\n",
       "      <td>0.8</td>\n",
       "      <td>NaN</td>\n",
       "    </tr>\n",
       "    <tr>\n",
       "      <th>50</th>\n",
       "      <td>43ad600bfd3b16b220d90a1f6e25681e</td>\n",
       "      <td>bb29b8d0d196b5db5a5350e5e3ae2b1f</td>\n",
       "      <td>NaN</td>\n",
       "      <td>2.19</td>\n",
       "      <td>NaN</td>\n",
       "      <td>NaN</td>\n",
       "    </tr>\n",
       "    <tr>\n",
       "      <th>83</th>\n",
       "      <td>32cee31f8f74a1573a8e07fc90d456b9</td>\n",
       "      <td>50e13ee63f086c2fe84229348bc91b5b</td>\n",
       "      <td>NaN</td>\n",
       "      <td>2.19</td>\n",
       "      <td>0.8</td>\n",
       "      <td>NaN</td>\n",
       "    </tr>\n",
       "  </tbody>\n",
       "</table>\n",
       "</div>"
      ],
      "text/plain": [
       "                          shopper_id                         seniority  \\\n",
       "3   db39866e62b95bb04ebb1e470f2d1347  50e13ee63f086c2fe84229348bc91b5b   \n",
       "41  3037b3b45878cc009165ab18046545e2  bb29b8d0d196b5db5a5350e5e3ae2b1f   \n",
       "48  767014694eecb27868fcab3e18bbeb2d  bb29b8d0d196b5db5a5350e5e3ae2b1f   \n",
       "50  43ad600bfd3b16b220d90a1f6e25681e  bb29b8d0d196b5db5a5350e5e3ae2b1f   \n",
       "83  32cee31f8f74a1573a8e07fc90d456b9  50e13ee63f086c2fe84229348bc91b5b   \n",
       "\n",
       "    found_rate  picking_speed  accepted_rate  rating  \n",
       "3          NaN           2.41            NaN     NaN  \n",
       "41         NaN           2.19            1.0     NaN  \n",
       "48         NaN           2.19            0.8     NaN  \n",
       "50         NaN           2.19            NaN     NaN  \n",
       "83         NaN           2.19            0.8     NaN  "
      ]
     },
     "execution_count": 24,
     "metadata": {},
     "output_type": "execute_result"
    }
   ],
   "source": [
    "found_rate.head()"
   ]
  },
  {
   "cell_type": "code",
   "execution_count": 25,
   "metadata": {},
   "outputs": [
    {
     "data": {
      "text/plain": [
       "array([2.41, 2.19, 2.33])"
      ]
     },
     "execution_count": 25,
     "metadata": {},
     "output_type": "execute_result"
    }
   ],
   "source": [
    "found_rate.picking_speed.unique()"
   ]
  },
  {
   "cell_type": "code",
   "execution_count": 26,
   "metadata": {},
   "outputs": [],
   "source": [
    "found_rate2 = shoppers[(shoppers.picking_speed == 2.41) | (shoppers.picking_speed == 2.19) | (shoppers.picking_speed == 2.33)]"
   ]
  },
  {
   "cell_type": "code",
   "execution_count": 27,
   "metadata": {},
   "outputs": [
    {
     "data": {
      "text/plain": [
       "0.7754"
      ]
     },
     "execution_count": 27,
     "metadata": {},
     "output_type": "execute_result"
    }
   ],
   "source": [
    "found_rate2['found_rate'].mode().iat[0]"
   ]
  },
  {
   "cell_type": "code",
   "execution_count": 28,
   "metadata": {},
   "outputs": [],
   "source": [
    "shoppers.loc[shoppers['found_rate'].isnull(), 'found_rate'] = 0.7754"
   ]
  },
  {
   "cell_type": "code",
   "execution_count": 29,
   "metadata": {},
   "outputs": [
    {
     "data": {
      "text/plain": [
       "shopper_id        0\n",
       "seniority         0\n",
       "found_rate        0\n",
       "picking_speed     0\n",
       "accepted_rate    27\n",
       "rating           84\n",
       "dtype: int64"
      ]
     },
     "execution_count": 29,
     "metadata": {},
     "output_type": "execute_result"
    }
   ],
   "source": [
    "shoppers.isnull().sum()"
   ]
  },
  {
   "cell_type": "code",
   "execution_count": 30,
   "metadata": {},
   "outputs": [],
   "source": [
    "shoppers.loc[shoppers['accepted_rate'].isnull(), 'accepted_rate'] = shoppers['accepted_rate'].mode().iat[0]\n",
    "shoppers.loc[shoppers['rating'].isnull(), 'rating'] = shoppers['rating'].mode().iat[0]"
   ]
  },
  {
   "cell_type": "code",
   "execution_count": 31,
   "metadata": {},
   "outputs": [
    {
     "data": {
      "text/plain": [
       "shopper_id       0\n",
       "seniority        0\n",
       "found_rate       0\n",
       "picking_speed    0\n",
       "accepted_rate    0\n",
       "rating           0\n",
       "dtype: int64"
      ]
     },
     "execution_count": 31,
     "metadata": {},
     "output_type": "execute_result"
    }
   ],
   "source": [
    "shoppers.isnull().sum()"
   ]
  },
  {
   "cell_type": "code",
   "execution_count": 32,
   "metadata": {},
   "outputs": [
    {
     "data": {
      "text/plain": [
       "order_id              0\n",
       "lat                   0\n",
       "lng                   0\n",
       "promised_time         0\n",
       "on_demand             0\n",
       "shopper_id            0\n",
       "store_branch_id       0\n",
       "total_minutes      1995\n",
       "quantity_UN           0\n",
       "quantity_KG           0\n",
       "is_more_UN            0\n",
       "UN_plus_KG            0\n",
       "UN_mult_KG            0\n",
       "dtype: int64"
      ]
     },
     "execution_count": 32,
     "metadata": {},
     "output_type": "execute_result"
    }
   ],
   "source": [
    "full.isnull().sum()"
   ]
  },
  {
   "cell_type": "code",
   "execution_count": 33,
   "metadata": {},
   "outputs": [],
   "source": [
    "full = pd.merge(full, shoppers, how='left', on='shopper_id')"
   ]
  },
  {
   "cell_type": "code",
   "execution_count": 34,
   "metadata": {},
   "outputs": [
    {
     "data": {
      "text/plain": [
       "order_id              0\n",
       "lat                   0\n",
       "lng                   0\n",
       "promised_time         0\n",
       "on_demand             0\n",
       "shopper_id            0\n",
       "store_branch_id       0\n",
       "total_minutes      1995\n",
       "quantity_UN           0\n",
       "quantity_KG           0\n",
       "is_more_UN            0\n",
       "UN_plus_KG            0\n",
       "UN_mult_KG            0\n",
       "seniority             0\n",
       "found_rate            0\n",
       "picking_speed         0\n",
       "accepted_rate         0\n",
       "rating                0\n",
       "dtype: int64"
      ]
     },
     "execution_count": 34,
     "metadata": {},
     "output_type": "execute_result"
    }
   ],
   "source": [
    "full.isnull().sum()"
   ]
  },
  {
   "cell_type": "markdown",
   "metadata": {},
   "source": [
    "   * Dataset storebranch"
   ]
  },
  {
   "cell_type": "code",
   "execution_count": 35,
   "metadata": {},
   "outputs": [],
   "source": [
    "storebranch = pd.read_csv(\"/Users/aurelianosancho/Documents/GitHub/teste_cornershop/storebranch.csv\")"
   ]
  },
  {
   "cell_type": "code",
   "execution_count": 36,
   "metadata": {},
   "outputs": [
    {
     "data": {
      "text/plain": [
       "store_branch_id    0\n",
       "store_id           0\n",
       "lat                0\n",
       "lng                0\n",
       "dtype: int64"
      ]
     },
     "execution_count": 36,
     "metadata": {},
     "output_type": "execute_result"
    }
   ],
   "source": [
    "storebranch.isnull().sum()"
   ]
  },
  {
   "cell_type": "code",
   "execution_count": 37,
   "metadata": {},
   "outputs": [
    {
     "name": "stdout",
     "output_type": "stream",
     "text": [
      "<class 'pandas.core.frame.DataFrame'>\n",
      "RangeIndex: 476 entries, 0 to 475\n",
      "Data columns (total 4 columns):\n",
      " #   Column           Non-Null Count  Dtype  \n",
      "---  ------           --------------  -----  \n",
      " 0   store_branch_id  476 non-null    object \n",
      " 1   store_id         476 non-null    object \n",
      " 2   lat              476 non-null    float64\n",
      " 3   lng              476 non-null    float64\n",
      "dtypes: float64(2), object(2)\n",
      "memory usage: 15.0+ KB\n"
     ]
    }
   ],
   "source": [
    "storebranch.info()"
   ]
  },
  {
   "cell_type": "code",
   "execution_count": 38,
   "metadata": {},
   "outputs": [
    {
     "data": {
      "text/html": [
       "<div>\n",
       "<style scoped>\n",
       "    .dataframe tbody tr th:only-of-type {\n",
       "        vertical-align: middle;\n",
       "    }\n",
       "\n",
       "    .dataframe tbody tr th {\n",
       "        vertical-align: top;\n",
       "    }\n",
       "\n",
       "    .dataframe thead th {\n",
       "        text-align: right;\n",
       "    }\n",
       "</style>\n",
       "<table border=\"1\" class=\"dataframe\">\n",
       "  <thead>\n",
       "    <tr style=\"text-align: right;\">\n",
       "      <th></th>\n",
       "      <th>store_branch_id</th>\n",
       "      <th>store_id</th>\n",
       "      <th>lat</th>\n",
       "      <th>lng</th>\n",
       "    </tr>\n",
       "  </thead>\n",
       "  <tbody>\n",
       "    <tr>\n",
       "      <th>0</th>\n",
       "      <td>aff1621254f7c1be92f64550478c56e6</td>\n",
       "      <td>92cc227532d17e56e07902b254dfad10</td>\n",
       "      <td>-33.422497</td>\n",
       "      <td>-70.609231</td>\n",
       "    </tr>\n",
       "    <tr>\n",
       "      <th>1</th>\n",
       "      <td>56352739f59643540a3a6e16985f62c7</td>\n",
       "      <td>0336dcbab05b9d5ad24f4333c7658a0e</td>\n",
       "      <td>-33.385484</td>\n",
       "      <td>-70.555579</td>\n",
       "    </tr>\n",
       "    <tr>\n",
       "      <th>2</th>\n",
       "      <td>7d04bbbe5494ae9d2f5a76aa1c00fa2f</td>\n",
       "      <td>9bf31c7ff062936a96d3c8bd1f8f2ff3</td>\n",
       "      <td>-33.416579</td>\n",
       "      <td>-70.565224</td>\n",
       "    </tr>\n",
       "  </tbody>\n",
       "</table>\n",
       "</div>"
      ],
      "text/plain": [
       "                    store_branch_id                          store_id  \\\n",
       "0  aff1621254f7c1be92f64550478c56e6  92cc227532d17e56e07902b254dfad10   \n",
       "1  56352739f59643540a3a6e16985f62c7  0336dcbab05b9d5ad24f4333c7658a0e   \n",
       "2  7d04bbbe5494ae9d2f5a76aa1c00fa2f  9bf31c7ff062936a96d3c8bd1f8f2ff3   \n",
       "\n",
       "         lat        lng  \n",
       "0 -33.422497 -70.609231  \n",
       "1 -33.385484 -70.555579  \n",
       "2 -33.416579 -70.565224  "
      ]
     },
     "execution_count": 38,
     "metadata": {},
     "output_type": "execute_result"
    }
   ],
   "source": [
    "storebranch.head(3)"
   ]
  },
  {
   "cell_type": "code",
   "execution_count": 39,
   "metadata": {},
   "outputs": [],
   "source": [
    "full = pd.merge(full, storebranch, how='left', on='store_branch_id')"
   ]
  },
  {
   "cell_type": "code",
   "execution_count": 40,
   "metadata": {},
   "outputs": [
    {
     "data": {
      "text/plain": [
       "order_id              0\n",
       "lat_x                 0\n",
       "lng_x                 0\n",
       "promised_time         0\n",
       "on_demand             0\n",
       "shopper_id            0\n",
       "store_branch_id       0\n",
       "total_minutes      1995\n",
       "quantity_UN           0\n",
       "quantity_KG           0\n",
       "is_more_UN            0\n",
       "UN_plus_KG            0\n",
       "UN_mult_KG            0\n",
       "seniority             0\n",
       "found_rate            0\n",
       "picking_speed         0\n",
       "accepted_rate         0\n",
       "rating                0\n",
       "store_id              0\n",
       "lat_y                 0\n",
       "lng_y                 0\n",
       "dtype: int64"
      ]
     },
     "execution_count": 40,
     "metadata": {},
     "output_type": "execute_result"
    }
   ],
   "source": [
    "full.isnull().sum()"
   ]
  },
  {
   "cell_type": "code",
   "execution_count": 41,
   "metadata": {},
   "outputs": [],
   "source": [
    "full['promised_time'] = pd.to_datetime(full['promised_time'])"
   ]
  },
  {
   "cell_type": "code",
   "execution_count": 42,
   "metadata": {},
   "outputs": [],
   "source": [
    "full['Hour'] = full['promised_time'].apply(lambda time: time.hour)\n",
    "full['Month'] = full['promised_time'].apply(lambda time: time.month)\n",
    "full['Day_of_Week'] = full['promised_time'].apply(lambda time: time.dayofweek)\n",
    "full['Year'] = full['promised_time'].apply(lambda t: t.year)\n",
    "full['Date'] = full['promised_time'].apply(lambda t: t.day)"
   ]
  },
  {
   "cell_type": "code",
   "execution_count": 43,
   "metadata": {},
   "outputs": [
    {
     "data": {
      "text/html": [
       "<div>\n",
       "<style scoped>\n",
       "    .dataframe tbody tr th:only-of-type {\n",
       "        vertical-align: middle;\n",
       "    }\n",
       "\n",
       "    .dataframe tbody tr th {\n",
       "        vertical-align: top;\n",
       "    }\n",
       "\n",
       "    .dataframe thead th {\n",
       "        text-align: right;\n",
       "    }\n",
       "</style>\n",
       "<table border=\"1\" class=\"dataframe\">\n",
       "  <thead>\n",
       "    <tr style=\"text-align: right;\">\n",
       "      <th></th>\n",
       "      <th>order_id</th>\n",
       "      <th>lat_x</th>\n",
       "      <th>lng_x</th>\n",
       "      <th>promised_time</th>\n",
       "      <th>on_demand</th>\n",
       "      <th>shopper_id</th>\n",
       "      <th>store_branch_id</th>\n",
       "      <th>total_minutes</th>\n",
       "      <th>quantity_UN</th>\n",
       "      <th>quantity_KG</th>\n",
       "      <th>is_more_UN</th>\n",
       "      <th>UN_plus_KG</th>\n",
       "      <th>UN_mult_KG</th>\n",
       "      <th>seniority</th>\n",
       "      <th>found_rate</th>\n",
       "      <th>picking_speed</th>\n",
       "      <th>accepted_rate</th>\n",
       "      <th>rating</th>\n",
       "      <th>store_id</th>\n",
       "      <th>lat_y</th>\n",
       "      <th>lng_y</th>\n",
       "      <th>Hour</th>\n",
       "      <th>Month</th>\n",
       "      <th>Day_of_Week</th>\n",
       "      <th>Year</th>\n",
       "      <th>Date</th>\n",
       "    </tr>\n",
       "  </thead>\n",
       "  <tbody>\n",
       "    <tr>\n",
       "      <th>0</th>\n",
       "      <td>e750294655c2c7c34d83cc3181c09de4</td>\n",
       "      <td>-33.501675</td>\n",
       "      <td>-70.579369</td>\n",
       "      <td>2019-10-18 20:48:00+00:00</td>\n",
       "      <td>True</td>\n",
       "      <td>e63bc83a1a952fa2b3cc9d558fb943cf</td>\n",
       "      <td>65ded5353c5ee48d0b7d48c591b8f430</td>\n",
       "      <td>67.684264</td>\n",
       "      <td>16.0</td>\n",
       "      <td>2.756</td>\n",
       "      <td>1.0</td>\n",
       "      <td>18.756</td>\n",
       "      <td>44.096</td>\n",
       "      <td>6c90661e6d2c7579f5ce337c3391dbb9</td>\n",
       "      <td>0.9024</td>\n",
       "      <td>1.30</td>\n",
       "      <td>0.92</td>\n",
       "      <td>4.76</td>\n",
       "      <td>c4ca4238a0b923820dcc509a6f75849b</td>\n",
       "      <td>-33.485280</td>\n",
       "      <td>-70.579250</td>\n",
       "      <td>20</td>\n",
       "      <td>10</td>\n",
       "      <td>4</td>\n",
       "      <td>2019</td>\n",
       "      <td>18</td>\n",
       "    </tr>\n",
       "    <tr>\n",
       "      <th>1</th>\n",
       "      <td>6581174846221cb6c467348e87f57641</td>\n",
       "      <td>-33.440584</td>\n",
       "      <td>-70.556283</td>\n",
       "      <td>2019-10-19 01:00:00+00:00</td>\n",
       "      <td>False</td>\n",
       "      <td>195f9e9d84a4ba9033c4b6a756334d8b</td>\n",
       "      <td>45fbc6d3e05ebd93369ce542e8f2322d</td>\n",
       "      <td>57.060632</td>\n",
       "      <td>11.0</td>\n",
       "      <td>0.000</td>\n",
       "      <td>1.0</td>\n",
       "      <td>11.000</td>\n",
       "      <td>0.000</td>\n",
       "      <td>41dc7c9e385c4d2b6c1f7836973951bf</td>\n",
       "      <td>0.7610</td>\n",
       "      <td>2.54</td>\n",
       "      <td>0.92</td>\n",
       "      <td>4.96</td>\n",
       "      <td>c4ca4238a0b923820dcc509a6f75849b</td>\n",
       "      <td>-33.441246</td>\n",
       "      <td>-70.535450</td>\n",
       "      <td>1</td>\n",
       "      <td>10</td>\n",
       "      <td>5</td>\n",
       "      <td>2019</td>\n",
       "      <td>19</td>\n",
       "    </tr>\n",
       "    <tr>\n",
       "      <th>2</th>\n",
       "      <td>3a226ea48debc0a7ae9950d5540f2f34</td>\n",
       "      <td>-32.987022</td>\n",
       "      <td>-71.544842</td>\n",
       "      <td>2019-10-19 14:54:00+00:00</td>\n",
       "      <td>True</td>\n",
       "      <td>a5b9ddc0d82e61582fca19ad43dbaacb</td>\n",
       "      <td>07563a3fe3bbe7e3ba84431ad9d055af</td>\n",
       "      <td>NaN</td>\n",
       "      <td>18.0</td>\n",
       "      <td>0.000</td>\n",
       "      <td>1.0</td>\n",
       "      <td>18.000</td>\n",
       "      <td>0.000</td>\n",
       "      <td>50e13ee63f086c2fe84229348bc91b5b</td>\n",
       "      <td>0.8313</td>\n",
       "      <td>2.57</td>\n",
       "      <td>0.76</td>\n",
       "      <td>4.92</td>\n",
       "      <td>c4ca4238a0b923820dcc509a6f75849b</td>\n",
       "      <td>-33.008213</td>\n",
       "      <td>-71.545615</td>\n",
       "      <td>14</td>\n",
       "      <td>10</td>\n",
       "      <td>5</td>\n",
       "      <td>2019</td>\n",
       "      <td>19</td>\n",
       "    </tr>\n",
       "  </tbody>\n",
       "</table>\n",
       "</div>"
      ],
      "text/plain": [
       "                           order_id      lat_x      lng_x  \\\n",
       "0  e750294655c2c7c34d83cc3181c09de4 -33.501675 -70.579369   \n",
       "1  6581174846221cb6c467348e87f57641 -33.440584 -70.556283   \n",
       "2  3a226ea48debc0a7ae9950d5540f2f34 -32.987022 -71.544842   \n",
       "\n",
       "              promised_time  on_demand                        shopper_id  \\\n",
       "0 2019-10-18 20:48:00+00:00       True  e63bc83a1a952fa2b3cc9d558fb943cf   \n",
       "1 2019-10-19 01:00:00+00:00      False  195f9e9d84a4ba9033c4b6a756334d8b   \n",
       "2 2019-10-19 14:54:00+00:00       True  a5b9ddc0d82e61582fca19ad43dbaacb   \n",
       "\n",
       "                    store_branch_id  total_minutes  quantity_UN  quantity_KG  \\\n",
       "0  65ded5353c5ee48d0b7d48c591b8f430      67.684264         16.0        2.756   \n",
       "1  45fbc6d3e05ebd93369ce542e8f2322d      57.060632         11.0        0.000   \n",
       "2  07563a3fe3bbe7e3ba84431ad9d055af            NaN         18.0        0.000   \n",
       "\n",
       "   is_more_UN  UN_plus_KG  UN_mult_KG                         seniority  \\\n",
       "0         1.0      18.756      44.096  6c90661e6d2c7579f5ce337c3391dbb9   \n",
       "1         1.0      11.000       0.000  41dc7c9e385c4d2b6c1f7836973951bf   \n",
       "2         1.0      18.000       0.000  50e13ee63f086c2fe84229348bc91b5b   \n",
       "\n",
       "   found_rate  picking_speed  accepted_rate  rating  \\\n",
       "0      0.9024           1.30           0.92    4.76   \n",
       "1      0.7610           2.54           0.92    4.96   \n",
       "2      0.8313           2.57           0.76    4.92   \n",
       "\n",
       "                           store_id      lat_y      lng_y  Hour  Month  \\\n",
       "0  c4ca4238a0b923820dcc509a6f75849b -33.485280 -70.579250    20     10   \n",
       "1  c4ca4238a0b923820dcc509a6f75849b -33.441246 -70.535450     1     10   \n",
       "2  c4ca4238a0b923820dcc509a6f75849b -33.008213 -71.545615    14     10   \n",
       "\n",
       "   Day_of_Week  Year  Date  \n",
       "0            4  2019    18  \n",
       "1            5  2019    19  \n",
       "2            5  2019    19  "
      ]
     },
     "execution_count": 43,
     "metadata": {},
     "output_type": "execute_result"
    }
   ],
   "source": [
    "full.head(3)"
   ]
  },
  {
   "cell_type": "code",
   "execution_count": 44,
   "metadata": {},
   "outputs": [],
   "source": [
    "full.loc[(full['Hour'] >= 6) & (full['Hour'] < 12), 'period'] = 'morning'\n",
    "full.loc[(full['Hour'] >= 12) & (full['Hour'] < 18), 'period'] = 'afternoon'\n",
    "full.loc[(full['Hour'] >= 18) & (full['Hour'] <= 24), 'period'] = 'night'\n",
    "full.loc[(full['Hour'] < 6), 'period'] = 'dawn'"
   ]
  },
  {
   "cell_type": "code",
   "execution_count": 45,
   "metadata": {},
   "outputs": [],
   "source": [
    "full['distance'] = distance(full.lat_x, full.lng_x, full.lat_y, full.lng_y)"
   ]
  },
  {
   "cell_type": "code",
   "execution_count": 46,
   "metadata": {},
   "outputs": [
    {
     "data": {
      "text/plain": [
       "order_id              0\n",
       "lat_x                 0\n",
       "lng_x                 0\n",
       "promised_time         0\n",
       "on_demand             0\n",
       "shopper_id            0\n",
       "store_branch_id       0\n",
       "total_minutes      1995\n",
       "quantity_UN           0\n",
       "quantity_KG           0\n",
       "is_more_UN            0\n",
       "UN_plus_KG            0\n",
       "UN_mult_KG            0\n",
       "seniority             0\n",
       "found_rate            0\n",
       "picking_speed         0\n",
       "accepted_rate         0\n",
       "rating                0\n",
       "store_id              0\n",
       "lat_y                 0\n",
       "lng_y                 0\n",
       "Hour                  0\n",
       "Month                 0\n",
       "Day_of_Week           0\n",
       "Year                  0\n",
       "Date                  0\n",
       "period                0\n",
       "distance              0\n",
       "dtype: int64"
      ]
     },
     "execution_count": 46,
     "metadata": {},
     "output_type": "execute_result"
    }
   ],
   "source": [
    "full.isnull().sum()"
   ]
  },
  {
   "cell_type": "code",
   "execution_count": 47,
   "metadata": {},
   "outputs": [
    {
     "data": {
      "text/html": [
       "<div>\n",
       "<style scoped>\n",
       "    .dataframe tbody tr th:only-of-type {\n",
       "        vertical-align: middle;\n",
       "    }\n",
       "\n",
       "    .dataframe tbody tr th {\n",
       "        vertical-align: top;\n",
       "    }\n",
       "\n",
       "    .dataframe thead th {\n",
       "        text-align: right;\n",
       "    }\n",
       "</style>\n",
       "<table border=\"1\" class=\"dataframe\">\n",
       "  <thead>\n",
       "    <tr style=\"text-align: right;\">\n",
       "      <th></th>\n",
       "      <th>found_rate</th>\n",
       "      <th>picking_speed</th>\n",
       "      <th>accepted_rate</th>\n",
       "      <th>rating</th>\n",
       "    </tr>\n",
       "  </thead>\n",
       "  <tbody>\n",
       "    <tr>\n",
       "      <th>0</th>\n",
       "      <td>0.9024</td>\n",
       "      <td>1.30</td>\n",
       "      <td>0.920000</td>\n",
       "      <td>4.76</td>\n",
       "    </tr>\n",
       "    <tr>\n",
       "      <th>1</th>\n",
       "      <td>0.7610</td>\n",
       "      <td>2.54</td>\n",
       "      <td>0.920000</td>\n",
       "      <td>4.96</td>\n",
       "    </tr>\n",
       "    <tr>\n",
       "      <th>2</th>\n",
       "      <td>0.8313</td>\n",
       "      <td>2.57</td>\n",
       "      <td>0.760000</td>\n",
       "      <td>4.92</td>\n",
       "    </tr>\n",
       "    <tr>\n",
       "      <th>3</th>\n",
       "      <td>0.8776</td>\n",
       "      <td>2.80</td>\n",
       "      <td>0.960000</td>\n",
       "      <td>4.76</td>\n",
       "    </tr>\n",
       "    <tr>\n",
       "      <th>4</th>\n",
       "      <td>0.7838</td>\n",
       "      <td>2.40</td>\n",
       "      <td>0.960000</td>\n",
       "      <td>4.96</td>\n",
       "    </tr>\n",
       "    <tr>\n",
       "      <th>...</th>\n",
       "      <td>...</td>\n",
       "      <td>...</td>\n",
       "      <td>...</td>\n",
       "      <td>...</td>\n",
       "    </tr>\n",
       "    <tr>\n",
       "      <th>9973</th>\n",
       "      <td>0.8658</td>\n",
       "      <td>1.30</td>\n",
       "      <td>0.960000</td>\n",
       "      <td>4.92</td>\n",
       "    </tr>\n",
       "    <tr>\n",
       "      <th>9974</th>\n",
       "      <td>0.8970</td>\n",
       "      <td>1.41</td>\n",
       "      <td>1.000000</td>\n",
       "      <td>4.68</td>\n",
       "    </tr>\n",
       "    <tr>\n",
       "      <th>9975</th>\n",
       "      <td>0.8424</td>\n",
       "      <td>1.40</td>\n",
       "      <td>1.000000</td>\n",
       "      <td>4.76</td>\n",
       "    </tr>\n",
       "    <tr>\n",
       "      <th>9976</th>\n",
       "      <td>0.8529</td>\n",
       "      <td>1.98</td>\n",
       "      <td>0.933333</td>\n",
       "      <td>4.86</td>\n",
       "    </tr>\n",
       "    <tr>\n",
       "      <th>9977</th>\n",
       "      <td>0.8946</td>\n",
       "      <td>1.82</td>\n",
       "      <td>1.000000</td>\n",
       "      <td>4.84</td>\n",
       "    </tr>\n",
       "  </tbody>\n",
       "</table>\n",
       "<p>9978 rows × 4 columns</p>\n",
       "</div>"
      ],
      "text/plain": [
       "      found_rate  picking_speed  accepted_rate  rating\n",
       "0         0.9024           1.30       0.920000    4.76\n",
       "1         0.7610           2.54       0.920000    4.96\n",
       "2         0.8313           2.57       0.760000    4.92\n",
       "3         0.8776           2.80       0.960000    4.76\n",
       "4         0.7838           2.40       0.960000    4.96\n",
       "...          ...            ...            ...     ...\n",
       "9973      0.8658           1.30       0.960000    4.92\n",
       "9974      0.8970           1.41       1.000000    4.68\n",
       "9975      0.8424           1.40       1.000000    4.76\n",
       "9976      0.8529           1.98       0.933333    4.86\n",
       "9977      0.8946           1.82       1.000000    4.84\n",
       "\n",
       "[9978 rows x 4 columns]"
      ]
     },
     "execution_count": 47,
     "metadata": {},
     "output_type": "execute_result"
    }
   ],
   "source": [
    "full[['found_rate', 'picking_speed',\n",
    "       'accepted_rate', 'rating']]"
   ]
  },
  {
   "cell_type": "code",
   "execution_count": 48,
   "metadata": {},
   "outputs": [],
   "source": [
    "var_cat = ['on_demand', 'seniority', 'Hour', 'Day_of_Week', 'period']\n",
    "var_num = ['quantity_UN', 'quantity_KG', 'UN_plus_KG', 'UN_mult_KG',\n",
    "           'distance', \n",
    "           'found_rate', 'picking_speed',\n",
    "       'accepted_rate', 'rating']"
   ]
  },
  {
   "cell_type": "code",
   "execution_count": 49,
   "metadata": {},
   "outputs": [],
   "source": [
    "full = pd.get_dummies(full, columns = var_cat)"
   ]
  },
  {
   "cell_type": "code",
   "execution_count": 50,
   "metadata": {},
   "outputs": [
    {
     "data": {
      "text/plain": [
       "Index(['order_id', 'lat_x', 'lng_x', 'promised_time', 'shopper_id',\n",
       "       'store_branch_id', 'total_minutes', 'quantity_UN', 'quantity_KG',\n",
       "       'is_more_UN', 'UN_plus_KG', 'UN_mult_KG', 'found_rate', 'picking_speed',\n",
       "       'accepted_rate', 'rating', 'store_id', 'lat_y', 'lng_y', 'Month',\n",
       "       'Year', 'Date', 'distance', 'on_demand_False', 'on_demand_True',\n",
       "       'seniority_41dc7c9e385c4d2b6c1f7836973951bf',\n",
       "       'seniority_50e13ee63f086c2fe84229348bc91b5b',\n",
       "       'seniority_6c90661e6d2c7579f5ce337c3391dbb9',\n",
       "       'seniority_bb29b8d0d196b5db5a5350e5e3ae2b1f', 'Hour_0', 'Hour_1',\n",
       "       'Hour_2', 'Hour_3', 'Hour_11', 'Hour_12', 'Hour_13', 'Hour_14',\n",
       "       'Hour_15', 'Hour_16', 'Hour_17', 'Hour_18', 'Hour_19', 'Hour_20',\n",
       "       'Hour_21', 'Hour_22', 'Hour_23', 'Day_of_Week_4', 'Day_of_Week_5',\n",
       "       'Day_of_Week_6', 'period_afternoon', 'period_dawn', 'period_morning',\n",
       "       'period_night'],\n",
       "      dtype='object')"
      ]
     },
     "execution_count": 50,
     "metadata": {},
     "output_type": "execute_result"
    }
   ],
   "source": [
    "full.columns"
   ]
  },
  {
   "cell_type": "code",
   "execution_count": 51,
   "metadata": {},
   "outputs": [],
   "source": [
    "cdrop = ['order_id', 'shopper_id', 'store_branch_id', 'store_id',\n",
    "         'Month', 'Year', 'Date']"
   ]
  },
  {
   "cell_type": "code",
   "execution_count": 52,
   "metadata": {},
   "outputs": [],
   "source": [
    "full = full.drop(cdrop, axis = 1)"
   ]
  },
  {
   "cell_type": "code",
   "execution_count": 53,
   "metadata": {},
   "outputs": [],
   "source": [
    "var = ['total_minutes', 'quantity_UN',\n",
    "       'quantity_KG', 'is_more_UN', 'UN_plus_KG', 'UN_mult_KG', 'found_rate',\n",
    "       'picking_speed', 'accepted_rate', 'rating',\n",
    "       'distance', \n",
    "       'on_demand_False', 'on_demand_True',\n",
    "       'seniority_41dc7c9e385c4d2b6c1f7836973951bf',\n",
    "       'seniority_50e13ee63f086c2fe84229348bc91b5b',\n",
    "       'seniority_6c90661e6d2c7579f5ce337c3391dbb9',\n",
    "       'seniority_bb29b8d0d196b5db5a5350e5e3ae2b1f', 'Hour_0', 'Hour_1',\n",
    "       'Hour_2', 'Hour_3', 'Hour_11', 'Hour_12', 'Hour_13', 'Hour_14',\n",
    "       'Hour_15', 'Hour_16', 'Hour_17', 'Hour_18', 'Hour_19', 'Hour_20',\n",
    "       'Hour_21', 'Hour_22', 'Hour_23', 'Day_of_Week_4', 'Day_of_Week_5',\n",
    "       'Day_of_Week_6', 'period_afternoon', 'period_dawn', 'period_morning',\n",
    "       'period_night']\n",
    "\n",
    "full = full[var]"
   ]
  },
  {
   "cell_type": "code",
   "execution_count": null,
   "metadata": {},
   "outputs": [],
   "source": [
    "sns.set(rc={'figure.figsize':(10,8)})\n",
    "corr = full[var_num].corr()\n",
    "\n",
    "ax = sns.heatmap(\n",
    "    corr, \n",
    "    #vmin=-1, vmax=1, center=0,\n",
    "    #cmap=sns.diverging_palette(20, 220, n=200),\n",
    "    square=True, annot= True\n",
    ")\n",
    "ax.set_xticklabels(\n",
    "    ax.get_xticklabels(),\n",
    "    rotation=45,\n",
    "    horizontalalignment='right'\n",
    ");"
   ]
  },
  {
   "cell_type": "code",
   "execution_count": 76,
   "metadata": {},
   "outputs": [
    {
     "data": {
      "image/png": "[encoded data removed]",
      "text/plain": [
       "<Figure size 720x576 with 2 Axes>"
      ]
     },
     "metadata": {},
     "output_type": "display_data"
    }
   ],
   "source": [
    "sns.set(rc={'figure.figsize':(10,8)})\n",
    "corr = full[var_num].corr()\n",
    "\n",
    "ax = sns.heatmap(\n",
    "    corr, \n",
    "    #vmin=-1, vmax=1, center=0,\n",
    "    #cmap=sns.diverging_palette(20, 220, n=200),\n",
    "    square=True, annot= True\n",
    ")\n",
    "ax.set_xticklabels(\n",
    "    ax.get_xticklabels(),\n",
    "    rotation=45,\n",
    "    horizontalalignment='right'\n",
    ");"
   ]
  },
  {
   "cell_type": "markdown",
   "metadata": {},
   "source": [
    "### out of sample"
   ]
  },
  {
   "cell_type": "code",
   "execution_count": 54,
   "metadata": {},
   "outputs": [],
   "source": [
    "ofs = full[full.total_minutes.isnull()]"
   ]
  },
  {
   "cell_type": "code",
   "execution_count": 55,
   "metadata": {},
   "outputs": [
    {
     "data": {
      "text/html": [
       "<div>\n",
       "<style scoped>\n",
       "    .dataframe tbody tr th:only-of-type {\n",
       "        vertical-align: middle;\n",
       "    }\n",
       "\n",
       "    .dataframe tbody tr th {\n",
       "        vertical-align: top;\n",
       "    }\n",
       "\n",
       "    .dataframe thead th {\n",
       "        text-align: right;\n",
       "    }\n",
       "</style>\n",
       "<table border=\"1\" class=\"dataframe\">\n",
       "  <thead>\n",
       "    <tr style=\"text-align: right;\">\n",
       "      <th></th>\n",
       "      <th>total_minutes</th>\n",
       "      <th>quantity_UN</th>\n",
       "      <th>quantity_KG</th>\n",
       "      <th>is_more_UN</th>\n",
       "      <th>UN_plus_KG</th>\n",
       "      <th>UN_mult_KG</th>\n",
       "      <th>found_rate</th>\n",
       "      <th>picking_speed</th>\n",
       "      <th>accepted_rate</th>\n",
       "      <th>rating</th>\n",
       "      <th>distance</th>\n",
       "      <th>on_demand_False</th>\n",
       "      <th>on_demand_True</th>\n",
       "      <th>seniority_41dc7c9e385c4d2b6c1f7836973951bf</th>\n",
       "      <th>seniority_50e13ee63f086c2fe84229348bc91b5b</th>\n",
       "      <th>seniority_6c90661e6d2c7579f5ce337c3391dbb9</th>\n",
       "      <th>seniority_bb29b8d0d196b5db5a5350e5e3ae2b1f</th>\n",
       "      <th>Hour_0</th>\n",
       "      <th>Hour_1</th>\n",
       "      <th>Hour_2</th>\n",
       "      <th>Hour_3</th>\n",
       "      <th>Hour_11</th>\n",
       "      <th>Hour_12</th>\n",
       "      <th>Hour_13</th>\n",
       "      <th>Hour_14</th>\n",
       "      <th>Hour_15</th>\n",
       "      <th>Hour_16</th>\n",
       "      <th>Hour_17</th>\n",
       "      <th>Hour_18</th>\n",
       "      <th>Hour_19</th>\n",
       "      <th>Hour_20</th>\n",
       "      <th>Hour_21</th>\n",
       "      <th>Hour_22</th>\n",
       "      <th>Hour_23</th>\n",
       "      <th>Day_of_Week_4</th>\n",
       "      <th>Day_of_Week_5</th>\n",
       "      <th>Day_of_Week_6</th>\n",
       "      <th>period_afternoon</th>\n",
       "      <th>period_dawn</th>\n",
       "      <th>period_morning</th>\n",
       "      <th>period_night</th>\n",
       "    </tr>\n",
       "  </thead>\n",
       "  <tbody>\n",
       "    <tr>\n",
       "      <th>2</th>\n",
       "      <td>NaN</td>\n",
       "      <td>18.0</td>\n",
       "      <td>0.000</td>\n",
       "      <td>1.0</td>\n",
       "      <td>18.000</td>\n",
       "      <td>0.000</td>\n",
       "      <td>0.8313</td>\n",
       "      <td>2.57</td>\n",
       "      <td>0.76</td>\n",
       "      <td>4.92</td>\n",
       "      <td>2.358128</td>\n",
       "      <td>0</td>\n",
       "      <td>1</td>\n",
       "      <td>0</td>\n",
       "      <td>1</td>\n",
       "      <td>0</td>\n",
       "      <td>0</td>\n",
       "      <td>0</td>\n",
       "      <td>0</td>\n",
       "      <td>0</td>\n",
       "      <td>0</td>\n",
       "      <td>0</td>\n",
       "      <td>0</td>\n",
       "      <td>0</td>\n",
       "      <td>1</td>\n",
       "      <td>0</td>\n",
       "      <td>0</td>\n",
       "      <td>0</td>\n",
       "      <td>0</td>\n",
       "      <td>0</td>\n",
       "      <td>0</td>\n",
       "      <td>0</td>\n",
       "      <td>0</td>\n",
       "      <td>0</td>\n",
       "      <td>0</td>\n",
       "      <td>1</td>\n",
       "      <td>0</td>\n",
       "      <td>1</td>\n",
       "      <td>0</td>\n",
       "      <td>0</td>\n",
       "      <td>0</td>\n",
       "    </tr>\n",
       "    <tr>\n",
       "      <th>5</th>\n",
       "      <td>NaN</td>\n",
       "      <td>15.0</td>\n",
       "      <td>0.000</td>\n",
       "      <td>1.0</td>\n",
       "      <td>15.000</td>\n",
       "      <td>0.000</td>\n",
       "      <td>0.8946</td>\n",
       "      <td>1.82</td>\n",
       "      <td>1.00</td>\n",
       "      <td>4.84</td>\n",
       "      <td>4.190793</td>\n",
       "      <td>0</td>\n",
       "      <td>1</td>\n",
       "      <td>0</td>\n",
       "      <td>0</td>\n",
       "      <td>1</td>\n",
       "      <td>0</td>\n",
       "      <td>0</td>\n",
       "      <td>0</td>\n",
       "      <td>0</td>\n",
       "      <td>0</td>\n",
       "      <td>0</td>\n",
       "      <td>0</td>\n",
       "      <td>0</td>\n",
       "      <td>0</td>\n",
       "      <td>0</td>\n",
       "      <td>0</td>\n",
       "      <td>0</td>\n",
       "      <td>0</td>\n",
       "      <td>0</td>\n",
       "      <td>0</td>\n",
       "      <td>0</td>\n",
       "      <td>0</td>\n",
       "      <td>1</td>\n",
       "      <td>1</td>\n",
       "      <td>0</td>\n",
       "      <td>0</td>\n",
       "      <td>0</td>\n",
       "      <td>0</td>\n",
       "      <td>0</td>\n",
       "      <td>1</td>\n",
       "    </tr>\n",
       "    <tr>\n",
       "      <th>9</th>\n",
       "      <td>NaN</td>\n",
       "      <td>94.0</td>\n",
       "      <td>2.852</td>\n",
       "      <td>1.0</td>\n",
       "      <td>96.852</td>\n",
       "      <td>268.088</td>\n",
       "      <td>0.9363</td>\n",
       "      <td>1.67</td>\n",
       "      <td>1.00</td>\n",
       "      <td>4.84</td>\n",
       "      <td>2.512359</td>\n",
       "      <td>0</td>\n",
       "      <td>1</td>\n",
       "      <td>0</td>\n",
       "      <td>0</td>\n",
       "      <td>1</td>\n",
       "      <td>0</td>\n",
       "      <td>0</td>\n",
       "      <td>0</td>\n",
       "      <td>0</td>\n",
       "      <td>0</td>\n",
       "      <td>0</td>\n",
       "      <td>0</td>\n",
       "      <td>0</td>\n",
       "      <td>0</td>\n",
       "      <td>0</td>\n",
       "      <td>0</td>\n",
       "      <td>0</td>\n",
       "      <td>0</td>\n",
       "      <td>0</td>\n",
       "      <td>0</td>\n",
       "      <td>1</td>\n",
       "      <td>0</td>\n",
       "      <td>0</td>\n",
       "      <td>1</td>\n",
       "      <td>0</td>\n",
       "      <td>0</td>\n",
       "      <td>0</td>\n",
       "      <td>0</td>\n",
       "      <td>0</td>\n",
       "      <td>1</td>\n",
       "    </tr>\n",
       "  </tbody>\n",
       "</table>\n",
       "</div>"
      ],
      "text/plain": [
       "   total_minutes  quantity_UN  quantity_KG  is_more_UN  UN_plus_KG  \\\n",
       "2            NaN         18.0        0.000         1.0      18.000   \n",
       "5            NaN         15.0        0.000         1.0      15.000   \n",
       "9            NaN         94.0        2.852         1.0      96.852   \n",
       "\n",
       "   UN_mult_KG  found_rate  picking_speed  accepted_rate  rating  distance  \\\n",
       "2       0.000      0.8313           2.57           0.76    4.92  2.358128   \n",
       "5       0.000      0.8946           1.82           1.00    4.84  4.190793   \n",
       "9     268.088      0.9363           1.67           1.00    4.84  2.512359   \n",
       "\n",
       "   on_demand_False  on_demand_True  \\\n",
       "2                0               1   \n",
       "5                0               1   \n",
       "9                0               1   \n",
       "\n",
       "   seniority_41dc7c9e385c4d2b6c1f7836973951bf  \\\n",
       "2                                           0   \n",
       "5                                           0   \n",
       "9                                           0   \n",
       "\n",
       "   seniority_50e13ee63f086c2fe84229348bc91b5b  \\\n",
       "2                                           1   \n",
       "5                                           0   \n",
       "9                                           0   \n",
       "\n",
       "   seniority_6c90661e6d2c7579f5ce337c3391dbb9  \\\n",
       "2                                           0   \n",
       "5                                           1   \n",
       "9                                           1   \n",
       "\n",
       "   seniority_bb29b8d0d196b5db5a5350e5e3ae2b1f  Hour_0  Hour_1  Hour_2  Hour_3  \\\n",
       "2                                           0       0       0       0       0   \n",
       "5                                           0       0       0       0       0   \n",
       "9                                           0       0       0       0       0   \n",
       "\n",
       "   Hour_11  Hour_12  Hour_13  Hour_14  Hour_15  Hour_16  Hour_17  Hour_18  \\\n",
       "2        0        0        0        1        0        0        0        0   \n",
       "5        0        0        0        0        0        0        0        0   \n",
       "9        0        0        0        0        0        0        0        0   \n",
       "\n",
       "   Hour_19  Hour_20  Hour_21  Hour_22  Hour_23  Day_of_Week_4  Day_of_Week_5  \\\n",
       "2        0        0        0        0        0              0              1   \n",
       "5        0        0        0        0        1              1              0   \n",
       "9        0        0        1        0        0              1              0   \n",
       "\n",
       "   Day_of_Week_6  period_afternoon  period_dawn  period_morning  period_night  \n",
       "2              0                 1            0               0             0  \n",
       "5              0                 0            0               0             1  \n",
       "9              0                 0            0               0             1  "
      ]
     },
     "execution_count": 55,
     "metadata": {},
     "output_type": "execute_result"
    }
   ],
   "source": [
    "ofs.head(3)"
   ]
  },
  {
   "cell_type": "code",
   "execution_count": 56,
   "metadata": {},
   "outputs": [
    {
     "data": {
      "text/plain": [
       "total_minutes                                 1995\n",
       "quantity_UN                                      0\n",
       "quantity_KG                                      0\n",
       "is_more_UN                                       0\n",
       "UN_plus_KG                                       0\n",
       "UN_mult_KG                                       0\n",
       "found_rate                                       0\n",
       "picking_speed                                    0\n",
       "accepted_rate                                    0\n",
       "rating                                           0\n",
       "distance                                         0\n",
       "on_demand_False                                  0\n",
       "on_demand_True                                   0\n",
       "seniority_41dc7c9e385c4d2b6c1f7836973951bf       0\n",
       "seniority_50e13ee63f086c2fe84229348bc91b5b       0\n",
       "seniority_6c90661e6d2c7579f5ce337c3391dbb9       0\n",
       "seniority_bb29b8d0d196b5db5a5350e5e3ae2b1f       0\n",
       "Hour_0                                           0\n",
       "Hour_1                                           0\n",
       "Hour_2                                           0\n",
       "Hour_3                                           0\n",
       "Hour_11                                          0\n",
       "Hour_12                                          0\n",
       "Hour_13                                          0\n",
       "Hour_14                                          0\n",
       "Hour_15                                          0\n",
       "Hour_16                                          0\n",
       "Hour_17                                          0\n",
       "Hour_18                                          0\n",
       "Hour_19                                          0\n",
       "Hour_20                                          0\n",
       "Hour_21                                          0\n",
       "Hour_22                                          0\n",
       "Hour_23                                          0\n",
       "Day_of_Week_4                                    0\n",
       "Day_of_Week_5                                    0\n",
       "Day_of_Week_6                                    0\n",
       "period_afternoon                                 0\n",
       "period_dawn                                      0\n",
       "period_morning                                   0\n",
       "period_night                                     0\n",
       "dtype: int64"
      ]
     },
     "execution_count": 56,
     "metadata": {},
     "output_type": "execute_result"
    }
   ],
   "source": [
    "ofs.isnull().sum()"
   ]
  },
  {
   "cell_type": "markdown",
   "metadata": {},
   "source": [
    "### modeling data"
   ]
  },
  {
   "cell_type": "code",
   "execution_count": 57,
   "metadata": {},
   "outputs": [],
   "source": [
    "modeling = full[~full.total_minutes.isnull()]"
   ]
  },
  {
   "cell_type": "code",
   "execution_count": 58,
   "metadata": {},
   "outputs": [
    {
     "data": {
      "text/html": [
       "<div>\n",
       "<style scoped>\n",
       "    .dataframe tbody tr th:only-of-type {\n",
       "        vertical-align: middle;\n",
       "    }\n",
       "\n",
       "    .dataframe tbody tr th {\n",
       "        vertical-align: top;\n",
       "    }\n",
       "\n",
       "    .dataframe thead th {\n",
       "        text-align: right;\n",
       "    }\n",
       "</style>\n",
       "<table border=\"1\" class=\"dataframe\">\n",
       "  <thead>\n",
       "    <tr style=\"text-align: right;\">\n",
       "      <th></th>\n",
       "      <th>total_minutes</th>\n",
       "      <th>quantity_UN</th>\n",
       "      <th>quantity_KG</th>\n",
       "      <th>is_more_UN</th>\n",
       "      <th>UN_plus_KG</th>\n",
       "      <th>UN_mult_KG</th>\n",
       "      <th>found_rate</th>\n",
       "      <th>picking_speed</th>\n",
       "      <th>accepted_rate</th>\n",
       "      <th>rating</th>\n",
       "      <th>distance</th>\n",
       "      <th>on_demand_False</th>\n",
       "      <th>on_demand_True</th>\n",
       "      <th>seniority_41dc7c9e385c4d2b6c1f7836973951bf</th>\n",
       "      <th>seniority_50e13ee63f086c2fe84229348bc91b5b</th>\n",
       "      <th>seniority_6c90661e6d2c7579f5ce337c3391dbb9</th>\n",
       "      <th>seniority_bb29b8d0d196b5db5a5350e5e3ae2b1f</th>\n",
       "      <th>Hour_0</th>\n",
       "      <th>Hour_1</th>\n",
       "      <th>Hour_2</th>\n",
       "      <th>Hour_3</th>\n",
       "      <th>Hour_11</th>\n",
       "      <th>Hour_12</th>\n",
       "      <th>Hour_13</th>\n",
       "      <th>Hour_14</th>\n",
       "      <th>Hour_15</th>\n",
       "      <th>Hour_16</th>\n",
       "      <th>Hour_17</th>\n",
       "      <th>Hour_18</th>\n",
       "      <th>Hour_19</th>\n",
       "      <th>Hour_20</th>\n",
       "      <th>Hour_21</th>\n",
       "      <th>Hour_22</th>\n",
       "      <th>Hour_23</th>\n",
       "      <th>Day_of_Week_4</th>\n",
       "      <th>Day_of_Week_5</th>\n",
       "      <th>Day_of_Week_6</th>\n",
       "      <th>period_afternoon</th>\n",
       "      <th>period_dawn</th>\n",
       "      <th>period_morning</th>\n",
       "      <th>period_night</th>\n",
       "    </tr>\n",
       "  </thead>\n",
       "  <tbody>\n",
       "    <tr>\n",
       "      <th>0</th>\n",
       "      <td>67.684264</td>\n",
       "      <td>16.0</td>\n",
       "      <td>2.756</td>\n",
       "      <td>1.0</td>\n",
       "      <td>18.756</td>\n",
       "      <td>44.096</td>\n",
       "      <td>0.9024</td>\n",
       "      <td>1.30</td>\n",
       "      <td>0.92</td>\n",
       "      <td>4.76</td>\n",
       "      <td>1.823597</td>\n",
       "      <td>0</td>\n",
       "      <td>1</td>\n",
       "      <td>0</td>\n",
       "      <td>0</td>\n",
       "      <td>1</td>\n",
       "      <td>0</td>\n",
       "      <td>0</td>\n",
       "      <td>0</td>\n",
       "      <td>0</td>\n",
       "      <td>0</td>\n",
       "      <td>0</td>\n",
       "      <td>0</td>\n",
       "      <td>0</td>\n",
       "      <td>0</td>\n",
       "      <td>0</td>\n",
       "      <td>0</td>\n",
       "      <td>0</td>\n",
       "      <td>0</td>\n",
       "      <td>0</td>\n",
       "      <td>1</td>\n",
       "      <td>0</td>\n",
       "      <td>0</td>\n",
       "      <td>0</td>\n",
       "      <td>1</td>\n",
       "      <td>0</td>\n",
       "      <td>0</td>\n",
       "      <td>0</td>\n",
       "      <td>0</td>\n",
       "      <td>0</td>\n",
       "      <td>1</td>\n",
       "    </tr>\n",
       "    <tr>\n",
       "      <th>1</th>\n",
       "      <td>57.060632</td>\n",
       "      <td>11.0</td>\n",
       "      <td>0.000</td>\n",
       "      <td>1.0</td>\n",
       "      <td>11.000</td>\n",
       "      <td>0.000</td>\n",
       "      <td>0.7610</td>\n",
       "      <td>2.54</td>\n",
       "      <td>0.92</td>\n",
       "      <td>4.96</td>\n",
       "      <td>1.935026</td>\n",
       "      <td>1</td>\n",
       "      <td>0</td>\n",
       "      <td>1</td>\n",
       "      <td>0</td>\n",
       "      <td>0</td>\n",
       "      <td>0</td>\n",
       "      <td>0</td>\n",
       "      <td>1</td>\n",
       "      <td>0</td>\n",
       "      <td>0</td>\n",
       "      <td>0</td>\n",
       "      <td>0</td>\n",
       "      <td>0</td>\n",
       "      <td>0</td>\n",
       "      <td>0</td>\n",
       "      <td>0</td>\n",
       "      <td>0</td>\n",
       "      <td>0</td>\n",
       "      <td>0</td>\n",
       "      <td>0</td>\n",
       "      <td>0</td>\n",
       "      <td>0</td>\n",
       "      <td>0</td>\n",
       "      <td>0</td>\n",
       "      <td>1</td>\n",
       "      <td>0</td>\n",
       "      <td>0</td>\n",
       "      <td>1</td>\n",
       "      <td>0</td>\n",
       "      <td>0</td>\n",
       "    </tr>\n",
       "    <tr>\n",
       "      <th>3</th>\n",
       "      <td>52.067742</td>\n",
       "      <td>1.0</td>\n",
       "      <td>0.000</td>\n",
       "      <td>1.0</td>\n",
       "      <td>1.000</td>\n",
       "      <td>0.000</td>\n",
       "      <td>0.8776</td>\n",
       "      <td>2.80</td>\n",
       "      <td>0.96</td>\n",
       "      <td>4.76</td>\n",
       "      <td>3.820244</td>\n",
       "      <td>0</td>\n",
       "      <td>1</td>\n",
       "      <td>1</td>\n",
       "      <td>0</td>\n",
       "      <td>0</td>\n",
       "      <td>0</td>\n",
       "      <td>0</td>\n",
       "      <td>0</td>\n",
       "      <td>0</td>\n",
       "      <td>0</td>\n",
       "      <td>0</td>\n",
       "      <td>0</td>\n",
       "      <td>0</td>\n",
       "      <td>0</td>\n",
       "      <td>0</td>\n",
       "      <td>0</td>\n",
       "      <td>0</td>\n",
       "      <td>0</td>\n",
       "      <td>0</td>\n",
       "      <td>0</td>\n",
       "      <td>1</td>\n",
       "      <td>0</td>\n",
       "      <td>0</td>\n",
       "      <td>1</td>\n",
       "      <td>0</td>\n",
       "      <td>0</td>\n",
       "      <td>0</td>\n",
       "      <td>0</td>\n",
       "      <td>0</td>\n",
       "      <td>1</td>\n",
       "    </tr>\n",
       "  </tbody>\n",
       "</table>\n",
       "</div>"
      ],
      "text/plain": [
       "   total_minutes  quantity_UN  quantity_KG  is_more_UN  UN_plus_KG  \\\n",
       "0      67.684264         16.0        2.756         1.0      18.756   \n",
       "1      57.060632         11.0        0.000         1.0      11.000   \n",
       "3      52.067742          1.0        0.000         1.0       1.000   \n",
       "\n",
       "   UN_mult_KG  found_rate  picking_speed  accepted_rate  rating  distance  \\\n",
       "0      44.096      0.9024           1.30           0.92    4.76  1.823597   \n",
       "1       0.000      0.7610           2.54           0.92    4.96  1.935026   \n",
       "3       0.000      0.8776           2.80           0.96    4.76  3.820244   \n",
       "\n",
       "   on_demand_False  on_demand_True  \\\n",
       "0                0               1   \n",
       "1                1               0   \n",
       "3                0               1   \n",
       "\n",
       "   seniority_41dc7c9e385c4d2b6c1f7836973951bf  \\\n",
       "0                                           0   \n",
       "1                                           1   \n",
       "3                                           1   \n",
       "\n",
       "   seniority_50e13ee63f086c2fe84229348bc91b5b  \\\n",
       "0                                           0   \n",
       "1                                           0   \n",
       "3                                           0   \n",
       "\n",
       "   seniority_6c90661e6d2c7579f5ce337c3391dbb9  \\\n",
       "0                                           1   \n",
       "1                                           0   \n",
       "3                                           0   \n",
       "\n",
       "   seniority_bb29b8d0d196b5db5a5350e5e3ae2b1f  Hour_0  Hour_1  Hour_2  Hour_3  \\\n",
       "0                                           0       0       0       0       0   \n",
       "1                                           0       0       1       0       0   \n",
       "3                                           0       0       0       0       0   \n",
       "\n",
       "   Hour_11  Hour_12  Hour_13  Hour_14  Hour_15  Hour_16  Hour_17  Hour_18  \\\n",
       "0        0        0        0        0        0        0        0        0   \n",
       "1        0        0        0        0        0        0        0        0   \n",
       "3        0        0        0        0        0        0        0        0   \n",
       "\n",
       "   Hour_19  Hour_20  Hour_21  Hour_22  Hour_23  Day_of_Week_4  Day_of_Week_5  \\\n",
       "0        0        1        0        0        0              1              0   \n",
       "1        0        0        0        0        0              0              1   \n",
       "3        0        0        1        0        0              1              0   \n",
       "\n",
       "   Day_of_Week_6  period_afternoon  period_dawn  period_morning  period_night  \n",
       "0              0                 0            0               0             1  \n",
       "1              0                 0            1               0             0  \n",
       "3              0                 0            0               0             1  "
      ]
     },
     "execution_count": 58,
     "metadata": {},
     "output_type": "execute_result"
    }
   ],
   "source": [
    "modeling.head(3)"
   ]
  },
  {
   "cell_type": "code",
   "execution_count": 59,
   "metadata": {},
   "outputs": [
    {
     "data": {
      "text/plain": [
       "total_minutes                                 0\n",
       "quantity_UN                                   0\n",
       "quantity_KG                                   0\n",
       "is_more_UN                                    0\n",
       "UN_plus_KG                                    0\n",
       "UN_mult_KG                                    0\n",
       "found_rate                                    0\n",
       "picking_speed                                 0\n",
       "accepted_rate                                 0\n",
       "rating                                        0\n",
       "distance                                      0\n",
       "on_demand_False                               0\n",
       "on_demand_True                                0\n",
       "seniority_41dc7c9e385c4d2b6c1f7836973951bf    0\n",
       "seniority_50e13ee63f086c2fe84229348bc91b5b    0\n",
       "seniority_6c90661e6d2c7579f5ce337c3391dbb9    0\n",
       "seniority_bb29b8d0d196b5db5a5350e5e3ae2b1f    0\n",
       "Hour_0                                        0\n",
       "Hour_1                                        0\n",
       "Hour_2                                        0\n",
       "Hour_3                                        0\n",
       "Hour_11                                       0\n",
       "Hour_12                                       0\n",
       "Hour_13                                       0\n",
       "Hour_14                                       0\n",
       "Hour_15                                       0\n",
       "Hour_16                                       0\n",
       "Hour_17                                       0\n",
       "Hour_18                                       0\n",
       "Hour_19                                       0\n",
       "Hour_20                                       0\n",
       "Hour_21                                       0\n",
       "Hour_22                                       0\n",
       "Hour_23                                       0\n",
       "Day_of_Week_4                                 0\n",
       "Day_of_Week_5                                 0\n",
       "Day_of_Week_6                                 0\n",
       "period_afternoon                              0\n",
       "period_dawn                                   0\n",
       "period_morning                                0\n",
       "period_night                                  0\n",
       "dtype: int64"
      ]
     },
     "execution_count": 59,
     "metadata": {},
     "output_type": "execute_result"
    }
   ],
   "source": [
    "modeling.isnull().sum()"
   ]
  },
  {
   "cell_type": "code",
   "execution_count": 60,
   "metadata": {},
   "outputs": [],
   "source": [
    "# Getting the data:\n",
    "X = modeling.drop(['total_minutes'], axis = 1)\n",
    "\n",
    "y = modeling['total_minutes']"
   ]
  },
  {
   "cell_type": "code",
   "execution_count": 61,
   "metadata": {},
   "outputs": [],
   "source": [
    "X_train, X_test, y_train, y_test = train_test_split(X, y, random_state = 451, test_size= .25)"
   ]
  },
  {
   "cell_type": "code",
   "execution_count": 62,
   "metadata": {},
   "outputs": [
    {
     "name": "stderr",
     "output_type": "stream",
     "text": [
      "/opt/anaconda3/lib/python3.7/site-packages/pandas/core/frame.py:3191: SettingWithCopyWarning: \n",
      "A value is trying to be set on a copy of a slice from a DataFrame.\n",
      "Try using .loc[row_indexer,col_indexer] = value instead\n",
      "\n",
      "See the caveats in the documentation: https://pandas.pydata.org/pandas-docs/stable/user_guide/indexing.html#returning-a-view-versus-a-copy\n",
      "  self[k1] = value[k2]\n",
      "/opt/anaconda3/lib/python3.7/site-packages/pandas/core/frame.py:3191: SettingWithCopyWarning: \n",
      "A value is trying to be set on a copy of a slice from a DataFrame.\n",
      "Try using .loc[row_indexer,col_indexer] = value instead\n",
      "\n",
      "See the caveats in the documentation: https://pandas.pydata.org/pandas-docs/stable/user_guide/indexing.html#returning-a-view-versus-a-copy\n",
      "  self[k1] = value[k2]\n"
     ]
    }
   ],
   "source": [
    "StdSca = StandardScaler() ## or standerscaler \n",
    "X_train[var_num] = pd.DataFrame(StdSca.fit_transform(X_train[var_num]), columns = var_num, index = X_train.index)\n",
    "X_test[var_num] = pd.DataFrame(StdSca.transform(X_test[var_num]), columns = var_num, index = X_test.index)"
   ]
  },
  {
   "cell_type": "code",
   "execution_count": 63,
   "metadata": {},
   "outputs": [
    {
     "name": "stderr",
     "output_type": "stream",
     "text": [
      "/opt/anaconda3/lib/python3.7/site-packages/ipykernel_launcher.py:1: SettingWithCopyWarning: \n",
      "A value is trying to be set on a copy of a slice from a DataFrame.\n",
      "Try using .loc[row_indexer,col_indexer] = value instead\n",
      "\n",
      "See the caveats in the documentation: https://pandas.pydata.org/pandas-docs/stable/user_guide/indexing.html#returning-a-view-versus-a-copy\n",
      "  \"\"\"Entry point for launching an IPython kernel.\n",
      "/opt/anaconda3/lib/python3.7/site-packages/pandas/core/indexing.py:1738: SettingWithCopyWarning: \n",
      "A value is trying to be set on a copy of a slice from a DataFrame.\n",
      "Try using .loc[row_indexer,col_indexer] = value instead\n",
      "\n",
      "See the caveats in the documentation: https://pandas.pydata.org/pandas-docs/stable/user_guide/indexing.html#returning-a-view-versus-a-copy\n",
      "  self._setitem_single_column(loc, value[:, i].tolist(), pi)\n"
     ]
    }
   ],
   "source": [
    "ofs[var_num] = StdSca.transform(ofs[var_num])"
   ]
  },
  {
   "cell_type": "markdown",
   "metadata": {},
   "source": [
    "## Model"
   ]
  },
  {
   "cell_type": "code",
   "execution_count": 64,
   "metadata": {},
   "outputs": [],
   "source": [
    "CV = cross_validate(estimator = LinearRegression(), \n",
    "                    cv = 5, \n",
    "                    #scoring = \"r2\", \n",
    "                    scoring = [\"r2\", \"explained_variance\", \"neg_root_mean_squared_error\", \"neg_median_absolute_error\"], \n",
    "                    X = X_train,\n",
    "                    y = y_train)"
   ]
  },
  {
   "cell_type": "code",
   "execution_count": 65,
   "metadata": {},
   "outputs": [
    {
     "data": {
      "text/html": [
       "<div>\n",
       "<style scoped>\n",
       "    .dataframe tbody tr th:only-of-type {\n",
       "        vertical-align: middle;\n",
       "    }\n",
       "\n",
       "    .dataframe tbody tr th {\n",
       "        vertical-align: top;\n",
       "    }\n",
       "\n",
       "    .dataframe thead th {\n",
       "        text-align: right;\n",
       "    }\n",
       "</style>\n",
       "<table border=\"1\" class=\"dataframe\">\n",
       "  <thead>\n",
       "    <tr style=\"text-align: right;\">\n",
       "      <th></th>\n",
       "      <th>fit_time</th>\n",
       "      <th>score_time</th>\n",
       "      <th>test_r2</th>\n",
       "      <th>test_explained_variance</th>\n",
       "      <th>test_neg_root_mean_squared_error</th>\n",
       "      <th>test_neg_median_absolute_error</th>\n",
       "    </tr>\n",
       "  </thead>\n",
       "  <tbody>\n",
       "    <tr>\n",
       "      <th>0</th>\n",
       "      <td>0.342368</td>\n",
       "      <td>0.008681</td>\n",
       "      <td>0.409319</td>\n",
       "      <td>0.409538</td>\n",
       "      <td>-26.576634</td>\n",
       "      <td>-16.835801</td>\n",
       "    </tr>\n",
       "    <tr>\n",
       "      <th>1</th>\n",
       "      <td>0.022451</td>\n",
       "      <td>0.007076</td>\n",
       "      <td>0.349698</td>\n",
       "      <td>0.350754</td>\n",
       "      <td>-28.060047</td>\n",
       "      <td>-15.921310</td>\n",
       "    </tr>\n",
       "    <tr>\n",
       "      <th>2</th>\n",
       "      <td>0.016384</td>\n",
       "      <td>0.006807</td>\n",
       "      <td>0.382454</td>\n",
       "      <td>0.384593</td>\n",
       "      <td>-27.191109</td>\n",
       "      <td>-16.369156</td>\n",
       "    </tr>\n",
       "    <tr>\n",
       "      <th>3</th>\n",
       "      <td>0.012878</td>\n",
       "      <td>0.006372</td>\n",
       "      <td>0.435129</td>\n",
       "      <td>0.435722</td>\n",
       "      <td>-25.852322</td>\n",
       "      <td>-16.383563</td>\n",
       "    </tr>\n",
       "    <tr>\n",
       "      <th>4</th>\n",
       "      <td>0.012056</td>\n",
       "      <td>0.006992</td>\n",
       "      <td>0.479246</td>\n",
       "      <td>0.480840</td>\n",
       "      <td>-24.808525</td>\n",
       "      <td>-16.225689</td>\n",
       "    </tr>\n",
       "  </tbody>\n",
       "</table>\n",
       "</div>"
      ],
      "text/plain": [
       "   fit_time  score_time   test_r2  test_explained_variance  \\\n",
       "0  0.342368    0.008681  0.409319                 0.409538   \n",
       "1  0.022451    0.007076  0.349698                 0.350754   \n",
       "2  0.016384    0.006807  0.382454                 0.384593   \n",
       "3  0.012878    0.006372  0.435129                 0.435722   \n",
       "4  0.012056    0.006992  0.479246                 0.480840   \n",
       "\n",
       "   test_neg_root_mean_squared_error  test_neg_median_absolute_error  \n",
       "0                        -26.576634                      -16.835801  \n",
       "1                        -28.060047                      -15.921310  \n",
       "2                        -27.191109                      -16.369156  \n",
       "3                        -25.852322                      -16.383563  \n",
       "4                        -24.808525                      -16.225689  "
      ]
     },
     "execution_count": 65,
     "metadata": {},
     "output_type": "execute_result"
    }
   ],
   "source": [
    "cv_df = pd.DataFrame(CV)\n",
    "cv_df"
   ]
  },
  {
   "cell_type": "code",
   "execution_count": null,
   "metadata": {},
   "outputs": [],
   "source": []
  }
 ],
 "metadata": {
  "kernelspec": {
   "display_name": "Python 3",
   "language": "python",
   "name": "python3"
  },
  "language_info": {
   "codemirror_mode": {
    "name": "ipython",
    "version": 3
   },
   "file_extension": ".py",
   "mimetype": "text/x-python",
   "name": "python",
   "nbconvert_exporter": "python",
   "pygments_lexer": "ipython3",
   "version": "3.7.6"
  }
 },
 "nbformat": 4,
 "nbformat_minor": 4
}
