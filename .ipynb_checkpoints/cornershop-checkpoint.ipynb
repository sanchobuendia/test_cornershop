{
 "cells": [
  {
   "cell_type": "code",
   "execution_count": 1,
   "metadata": {},
   "outputs": [],
   "source": [
    "# Data manipulation\n",
    "import numpy as np\n",
    "import pandas as pd\n",
    "\n",
    "\n",
    "# Visualization.\n",
    "import matplotlib.pyplot as plt\n",
    "\n",
    "# Saving models\n",
    "from datetime import datetime\n",
    "import joblib\n",
    "\n",
    "# Display all columns\n",
    "pd.set_option('display.max_columns', 150,\n",
    "             'display.max_rows', 150)"
   ]
  },
  {
   "cell_type": "markdown",
   "metadata": {},
   "source": [
    "### Read the data\n",
    "   * Dataset order_products"
   ]
  },
  {
   "cell_type": "code",
   "execution_count": 2,
   "metadata": {},
   "outputs": [],
   "source": [
    "order_products = pd.read_csv(\"/Users/aurelianosancho/Documents/GitHub/teste_cornershop/order_products.csv\")"
   ]
  },
  {
   "cell_type": "code",
   "execution_count": 3,
   "metadata": {},
   "outputs": [
    {
     "data": {
      "text/plain": [
       "order_id      0\n",
       "product_id    0\n",
       "quantity      0\n",
       "buy_unit      0\n",
       "dtype: int64"
      ]
     },
     "execution_count": 3,
     "metadata": {},
     "output_type": "execute_result"
    }
   ],
   "source": [
    "order_products.isnull().sum()"
   ]
  },
  {
   "cell_type": "code",
   "execution_count": 4,
   "metadata": {},
   "outputs": [
    {
     "name": "stdout",
     "output_type": "stream",
     "text": [
      "<class 'pandas.core.frame.DataFrame'>\n",
      "RangeIndex: 198500 entries, 0 to 198499\n",
      "Data columns (total 4 columns):\n",
      " #   Column      Non-Null Count   Dtype  \n",
      "---  ------      --------------   -----  \n",
      " 0   order_id    198500 non-null  object \n",
      " 1   product_id  198500 non-null  object \n",
      " 2   quantity    198500 non-null  float64\n",
      " 3   buy_unit    198500 non-null  object \n",
      "dtypes: float64(1), object(3)\n",
      "memory usage: 6.1+ MB\n"
     ]
    }
   ],
   "source": [
    "order_products.info()"
   ]
  },
  {
   "cell_type": "code",
   "execution_count": 5,
   "metadata": {},
   "outputs": [
    {
     "data": {
      "text/html": [
       "<div>\n",
       "<style scoped>\n",
       "    .dataframe tbody tr th:only-of-type {\n",
       "        vertical-align: middle;\n",
       "    }\n",
       "\n",
       "    .dataframe tbody tr th {\n",
       "        vertical-align: top;\n",
       "    }\n",
       "\n",
       "    .dataframe thead th {\n",
       "        text-align: right;\n",
       "    }\n",
       "</style>\n",
       "<table border=\"1\" class=\"dataframe\">\n",
       "  <thead>\n",
       "    <tr style=\"text-align: right;\">\n",
       "      <th></th>\n",
       "      <th>order_id</th>\n",
       "      <th>product_id</th>\n",
       "      <th>quantity</th>\n",
       "      <th>buy_unit</th>\n",
       "    </tr>\n",
       "  </thead>\n",
       "  <tbody>\n",
       "    <tr>\n",
       "      <th>0</th>\n",
       "      <td>47099653730fb1b76537fc10ad876255</td>\n",
       "      <td>c1244453d731c77416cb4766e3bd76cb</td>\n",
       "      <td>1.0</td>\n",
       "      <td>UN</td>\n",
       "    </tr>\n",
       "    <tr>\n",
       "      <th>1</th>\n",
       "      <td>689d8866915acf87e851c2591a23a82f</td>\n",
       "      <td>43cc2b100bec640fe563cd16f2db669f</td>\n",
       "      <td>1.0</td>\n",
       "      <td>KG</td>\n",
       "    </tr>\n",
       "    <tr>\n",
       "      <th>2</th>\n",
       "      <td>f26d16bf6f38c9e31d0be877f4013a9e</td>\n",
       "      <td>b8f880759d014134e272d881d49989a2</td>\n",
       "      <td>1.0</td>\n",
       "      <td>UN</td>\n",
       "    </tr>\n",
       "  </tbody>\n",
       "</table>\n",
       "</div>"
      ],
      "text/plain": [
       "                           order_id                        product_id  \\\n",
       "0  47099653730fb1b76537fc10ad876255  c1244453d731c77416cb4766e3bd76cb   \n",
       "1  689d8866915acf87e851c2591a23a82f  43cc2b100bec640fe563cd16f2db669f   \n",
       "2  f26d16bf6f38c9e31d0be877f4013a9e  b8f880759d014134e272d881d49989a2   \n",
       "\n",
       "   quantity buy_unit  \n",
       "0       1.0       UN  \n",
       "1       1.0       KG  \n",
       "2       1.0       UN  "
      ]
     },
     "execution_count": 5,
     "metadata": {},
     "output_type": "execute_result"
    }
   ],
   "source": [
    "order_products.head(3)"
   ]
  },
  {
   "cell_type": "markdown",
   "metadata": {},
   "source": [
    "* Dataset orders"
   ]
  },
  {
   "cell_type": "code",
   "execution_count": 6,
   "metadata": {},
   "outputs": [],
   "source": [
    "orders = pd.read_csv(\"/Users/aurelianosancho/Documents/GitHub/teste_cornershop/orders.csv\")"
   ]
  },
  {
   "cell_type": "code",
   "execution_count": 7,
   "metadata": {},
   "outputs": [
    {
     "data": {
      "text/plain": [
       "order_id              0\n",
       "lat                   0\n",
       "lng                   0\n",
       "promised_time         0\n",
       "on_demand             0\n",
       "shopper_id            0\n",
       "store_branch_id       0\n",
       "total_minutes      2000\n",
       "dtype: int64"
      ]
     },
     "execution_count": 7,
     "metadata": {},
     "output_type": "execute_result"
    }
   ],
   "source": [
    "orders.isnull().sum()"
   ]
  },
  {
   "cell_type": "code",
   "execution_count": 8,
   "metadata": {},
   "outputs": [
    {
     "name": "stdout",
     "output_type": "stream",
     "text": [
      "<class 'pandas.core.frame.DataFrame'>\n",
      "RangeIndex: 10000 entries, 0 to 9999\n",
      "Data columns (total 8 columns):\n",
      " #   Column           Non-Null Count  Dtype  \n",
      "---  ------           --------------  -----  \n",
      " 0   order_id         10000 non-null  object \n",
      " 1   lat              10000 non-null  float64\n",
      " 2   lng              10000 non-null  float64\n",
      " 3   promised_time    10000 non-null  object \n",
      " 4   on_demand        10000 non-null  bool   \n",
      " 5   shopper_id       10000 non-null  object \n",
      " 6   store_branch_id  10000 non-null  object \n",
      " 7   total_minutes    8000 non-null   float64\n",
      "dtypes: bool(1), float64(3), object(4)\n",
      "memory usage: 556.8+ KB\n"
     ]
    }
   ],
   "source": [
    "orders.info()"
   ]
  },
  {
   "cell_type": "code",
   "execution_count": 9,
   "metadata": {},
   "outputs": [
    {
     "data": {
      "text/html": [
       "<div>\n",
       "<style scoped>\n",
       "    .dataframe tbody tr th:only-of-type {\n",
       "        vertical-align: middle;\n",
       "    }\n",
       "\n",
       "    .dataframe tbody tr th {\n",
       "        vertical-align: top;\n",
       "    }\n",
       "\n",
       "    .dataframe thead th {\n",
       "        text-align: right;\n",
       "    }\n",
       "</style>\n",
       "<table border=\"1\" class=\"dataframe\">\n",
       "  <thead>\n",
       "    <tr style=\"text-align: right;\">\n",
       "      <th></th>\n",
       "      <th>order_id</th>\n",
       "      <th>lat</th>\n",
       "      <th>lng</th>\n",
       "      <th>promised_time</th>\n",
       "      <th>on_demand</th>\n",
       "      <th>shopper_id</th>\n",
       "      <th>store_branch_id</th>\n",
       "      <th>total_minutes</th>\n",
       "    </tr>\n",
       "  </thead>\n",
       "  <tbody>\n",
       "    <tr>\n",
       "      <th>0</th>\n",
       "      <td>e750294655c2c7c34d83cc3181c09de4</td>\n",
       "      <td>-33.501675</td>\n",
       "      <td>-70.579369</td>\n",
       "      <td>2019-10-18 20:48:00+00:00</td>\n",
       "      <td>True</td>\n",
       "      <td>e63bc83a1a952fa2b3cc9d558fb943cf</td>\n",
       "      <td>65ded5353c5ee48d0b7d48c591b8f430</td>\n",
       "      <td>67.684264</td>\n",
       "    </tr>\n",
       "    <tr>\n",
       "      <th>1</th>\n",
       "      <td>6581174846221cb6c467348e87f57641</td>\n",
       "      <td>-33.440584</td>\n",
       "      <td>-70.556283</td>\n",
       "      <td>2019-10-19 01:00:00+00:00</td>\n",
       "      <td>False</td>\n",
       "      <td>195f9e9d84a4ba9033c4b6a756334d8b</td>\n",
       "      <td>45fbc6d3e05ebd93369ce542e8f2322d</td>\n",
       "      <td>57.060632</td>\n",
       "    </tr>\n",
       "    <tr>\n",
       "      <th>2</th>\n",
       "      <td>3a226ea48debc0a7ae9950d5540f2f34</td>\n",
       "      <td>-32.987022</td>\n",
       "      <td>-71.544842</td>\n",
       "      <td>2019-10-19 14:54:00+00:00</td>\n",
       "      <td>True</td>\n",
       "      <td>a5b9ddc0d82e61582fca19ad43dbaacb</td>\n",
       "      <td>07563a3fe3bbe7e3ba84431ad9d055af</td>\n",
       "      <td>NaN</td>\n",
       "    </tr>\n",
       "  </tbody>\n",
       "</table>\n",
       "</div>"
      ],
      "text/plain": [
       "                           order_id        lat        lng  \\\n",
       "0  e750294655c2c7c34d83cc3181c09de4 -33.501675 -70.579369   \n",
       "1  6581174846221cb6c467348e87f57641 -33.440584 -70.556283   \n",
       "2  3a226ea48debc0a7ae9950d5540f2f34 -32.987022 -71.544842   \n",
       "\n",
       "               promised_time  on_demand                        shopper_id  \\\n",
       "0  2019-10-18 20:48:00+00:00       True  e63bc83a1a952fa2b3cc9d558fb943cf   \n",
       "1  2019-10-19 01:00:00+00:00      False  195f9e9d84a4ba9033c4b6a756334d8b   \n",
       "2  2019-10-19 14:54:00+00:00       True  a5b9ddc0d82e61582fca19ad43dbaacb   \n",
       "\n",
       "                    store_branch_id  total_minutes  \n",
       "0  65ded5353c5ee48d0b7d48c591b8f430      67.684264  \n",
       "1  45fbc6d3e05ebd93369ce542e8f2322d      57.060632  \n",
       "2  07563a3fe3bbe7e3ba84431ad9d055af            NaN  "
      ]
     },
     "execution_count": 9,
     "metadata": {},
     "output_type": "execute_result"
    }
   ],
   "source": [
    "orders.head(3)"
   ]
  },
  {
   "cell_type": "markdown",
   "metadata": {},
   "source": [
    "   * Dataset shoppers"
   ]
  },
  {
   "cell_type": "code",
   "execution_count": 10,
   "metadata": {},
   "outputs": [],
   "source": [
    "shoppers = pd.read_csv(\"/Users/aurelianosancho/Documents/GitHub/teste_cornershop/shoppers.csv\")"
   ]
  },
  {
   "cell_type": "code",
   "execution_count": 11,
   "metadata": {},
   "outputs": [
    {
     "data": {
      "text/plain": [
       "shopper_id         0\n",
       "seniority          0\n",
       "found_rate       101\n",
       "picking_speed      0\n",
       "accepted_rate     27\n",
       "rating            84\n",
       "dtype: int64"
      ]
     },
     "execution_count": 11,
     "metadata": {},
     "output_type": "execute_result"
    }
   ],
   "source": [
    "shoppers.isnull().sum()"
   ]
  },
  {
   "cell_type": "code",
   "execution_count": 12,
   "metadata": {},
   "outputs": [
    {
     "name": "stdout",
     "output_type": "stream",
     "text": [
      "<class 'pandas.core.frame.DataFrame'>\n",
      "RangeIndex: 2864 entries, 0 to 2863\n",
      "Data columns (total 6 columns):\n",
      " #   Column         Non-Null Count  Dtype  \n",
      "---  ------         --------------  -----  \n",
      " 0   shopper_id     2864 non-null   object \n",
      " 1   seniority      2864 non-null   object \n",
      " 2   found_rate     2763 non-null   float64\n",
      " 3   picking_speed  2864 non-null   float64\n",
      " 4   accepted_rate  2837 non-null   float64\n",
      " 5   rating         2780 non-null   float64\n",
      "dtypes: float64(4), object(2)\n",
      "memory usage: 134.4+ KB\n"
     ]
    }
   ],
   "source": [
    "shoppers.info()"
   ]
  },
  {
   "cell_type": "code",
   "execution_count": 13,
   "metadata": {},
   "outputs": [
    {
     "data": {
      "text/html": [
       "<div>\n",
       "<style scoped>\n",
       "    .dataframe tbody tr th:only-of-type {\n",
       "        vertical-align: middle;\n",
       "    }\n",
       "\n",
       "    .dataframe tbody tr th {\n",
       "        vertical-align: top;\n",
       "    }\n",
       "\n",
       "    .dataframe thead th {\n",
       "        text-align: right;\n",
       "    }\n",
       "</style>\n",
       "<table border=\"1\" class=\"dataframe\">\n",
       "  <thead>\n",
       "    <tr style=\"text-align: right;\">\n",
       "      <th></th>\n",
       "      <th>shopper_id</th>\n",
       "      <th>seniority</th>\n",
       "      <th>found_rate</th>\n",
       "      <th>picking_speed</th>\n",
       "      <th>accepted_rate</th>\n",
       "      <th>rating</th>\n",
       "    </tr>\n",
       "  </thead>\n",
       "  <tbody>\n",
       "    <tr>\n",
       "      <th>0</th>\n",
       "      <td>1fc20b0bdf697ac13dd6a15cbd2fe60a</td>\n",
       "      <td>41dc7c9e385c4d2b6c1f7836973951bf</td>\n",
       "      <td>0.8606</td>\n",
       "      <td>1.94</td>\n",
       "      <td>1.00</td>\n",
       "      <td>4.87</td>\n",
       "    </tr>\n",
       "    <tr>\n",
       "      <th>1</th>\n",
       "      <td>e1c679ac73a69c01981fdd3c5ab8beda</td>\n",
       "      <td>6c90661e6d2c7579f5ce337c3391dbb9</td>\n",
       "      <td>0.8446</td>\n",
       "      <td>1.23</td>\n",
       "      <td>0.92</td>\n",
       "      <td>4.92</td>\n",
       "    </tr>\n",
       "    <tr>\n",
       "      <th>2</th>\n",
       "      <td>09d369c66ca86ebeffacb133410c5ee1</td>\n",
       "      <td>6c90661e6d2c7579f5ce337c3391dbb9</td>\n",
       "      <td>0.8559</td>\n",
       "      <td>1.56</td>\n",
       "      <td>1.00</td>\n",
       "      <td>4.88</td>\n",
       "    </tr>\n",
       "  </tbody>\n",
       "</table>\n",
       "</div>"
      ],
      "text/plain": [
       "                         shopper_id                         seniority  \\\n",
       "0  1fc20b0bdf697ac13dd6a15cbd2fe60a  41dc7c9e385c4d2b6c1f7836973951bf   \n",
       "1  e1c679ac73a69c01981fdd3c5ab8beda  6c90661e6d2c7579f5ce337c3391dbb9   \n",
       "2  09d369c66ca86ebeffacb133410c5ee1  6c90661e6d2c7579f5ce337c3391dbb9   \n",
       "\n",
       "   found_rate  picking_speed  accepted_rate  rating  \n",
       "0      0.8606           1.94           1.00    4.87  \n",
       "1      0.8446           1.23           0.92    4.92  \n",
       "2      0.8559           1.56           1.00    4.88  "
      ]
     },
     "execution_count": 13,
     "metadata": {},
     "output_type": "execute_result"
    }
   ],
   "source": [
    "shoppers.head(3)"
   ]
  },
  {
   "cell_type": "markdown",
   "metadata": {},
   "source": [
    "   * Dataset storebranch"
   ]
  },
  {
   "cell_type": "code",
   "execution_count": 14,
   "metadata": {},
   "outputs": [],
   "source": [
    "storebranch = pd.read_csv(\"/Users/aurelianosancho/Documents/GitHub/teste_cornershop/storebranch.csv\")"
   ]
  },
  {
   "cell_type": "code",
   "execution_count": 15,
   "metadata": {},
   "outputs": [
    {
     "data": {
      "text/plain": [
       "store_branch_id    0\n",
       "store_id           0\n",
       "lat                0\n",
       "lng                0\n",
       "dtype: int64"
      ]
     },
     "execution_count": 15,
     "metadata": {},
     "output_type": "execute_result"
    }
   ],
   "source": [
    "storebranch.isnull().sum()"
   ]
  },
  {
   "cell_type": "code",
   "execution_count": 16,
   "metadata": {},
   "outputs": [
    {
     "name": "stdout",
     "output_type": "stream",
     "text": [
      "<class 'pandas.core.frame.DataFrame'>\n",
      "RangeIndex: 476 entries, 0 to 475\n",
      "Data columns (total 4 columns):\n",
      " #   Column           Non-Null Count  Dtype  \n",
      "---  ------           --------------  -----  \n",
      " 0   store_branch_id  476 non-null    object \n",
      " 1   store_id         476 non-null    object \n",
      " 2   lat              476 non-null    float64\n",
      " 3   lng              476 non-null    float64\n",
      "dtypes: float64(2), object(2)\n",
      "memory usage: 15.0+ KB\n"
     ]
    }
   ],
   "source": [
    "storebranch.info()"
   ]
  },
  {
   "cell_type": "code",
   "execution_count": 17,
   "metadata": {},
   "outputs": [
    {
     "data": {
      "text/html": [
       "<div>\n",
       "<style scoped>\n",
       "    .dataframe tbody tr th:only-of-type {\n",
       "        vertical-align: middle;\n",
       "    }\n",
       "\n",
       "    .dataframe tbody tr th {\n",
       "        vertical-align: top;\n",
       "    }\n",
       "\n",
       "    .dataframe thead th {\n",
       "        text-align: right;\n",
       "    }\n",
       "</style>\n",
       "<table border=\"1\" class=\"dataframe\">\n",
       "  <thead>\n",
       "    <tr style=\"text-align: right;\">\n",
       "      <th></th>\n",
       "      <th>store_branch_id</th>\n",
       "      <th>store_id</th>\n",
       "      <th>lat</th>\n",
       "      <th>lng</th>\n",
       "    </tr>\n",
       "  </thead>\n",
       "  <tbody>\n",
       "    <tr>\n",
       "      <th>0</th>\n",
       "      <td>aff1621254f7c1be92f64550478c56e6</td>\n",
       "      <td>92cc227532d17e56e07902b254dfad10</td>\n",
       "      <td>-33.422497</td>\n",
       "      <td>-70.609231</td>\n",
       "    </tr>\n",
       "    <tr>\n",
       "      <th>1</th>\n",
       "      <td>56352739f59643540a3a6e16985f62c7</td>\n",
       "      <td>0336dcbab05b9d5ad24f4333c7658a0e</td>\n",
       "      <td>-33.385484</td>\n",
       "      <td>-70.555579</td>\n",
       "    </tr>\n",
       "    <tr>\n",
       "      <th>2</th>\n",
       "      <td>7d04bbbe5494ae9d2f5a76aa1c00fa2f</td>\n",
       "      <td>9bf31c7ff062936a96d3c8bd1f8f2ff3</td>\n",
       "      <td>-33.416579</td>\n",
       "      <td>-70.565224</td>\n",
       "    </tr>\n",
       "  </tbody>\n",
       "</table>\n",
       "</div>"
      ],
      "text/plain": [
       "                    store_branch_id                          store_id  \\\n",
       "0  aff1621254f7c1be92f64550478c56e6  92cc227532d17e56e07902b254dfad10   \n",
       "1  56352739f59643540a3a6e16985f62c7  0336dcbab05b9d5ad24f4333c7658a0e   \n",
       "2  7d04bbbe5494ae9d2f5a76aa1c00fa2f  9bf31c7ff062936a96d3c8bd1f8f2ff3   \n",
       "\n",
       "         lat        lng  \n",
       "0 -33.422497 -70.609231  \n",
       "1 -33.385484 -70.555579  \n",
       "2 -33.416579 -70.565224  "
      ]
     },
     "execution_count": 17,
     "metadata": {},
     "output_type": "execute_result"
    }
   ],
   "source": [
    "storebranch.head(3)"
   ]
  },
  {
   "cell_type": "markdown",
   "metadata": {},
   "source": [
    "### Join tha datasets"
   ]
  },
  {
   "cell_type": "code",
   "execution_count": 18,
   "metadata": {},
   "outputs": [],
   "source": [
    "full = pd.merge(orders, order_products, how='left', on='order_id')\n",
    "full = pd.merge(full, shoppers, how='left', on='shopper_id')\n",
    "full = pd.merge(full, storebranch, how='left', on='store_branch_id')"
   ]
  },
  {
   "cell_type": "code",
   "execution_count": 19,
   "metadata": {},
   "outputs": [
    {
     "data": {
      "text/plain": [
       "198522"
      ]
     },
     "execution_count": 19,
     "metadata": {},
     "output_type": "execute_result"
    }
   ],
   "source": [
    "len(full)"
   ]
  },
  {
   "cell_type": "code",
   "execution_count": 20,
   "metadata": {},
   "outputs": [
    {
     "data": {
      "text/plain": [
       "order_id               0\n",
       "lat_x                  0\n",
       "lng_x                  0\n",
       "promised_time          0\n",
       "on_demand              0\n",
       "shopper_id             0\n",
       "store_branch_id        0\n",
       "total_minutes      40197\n",
       "product_id            22\n",
       "quantity              22\n",
       "buy_unit              22\n",
       "seniority              0\n",
       "found_rate          2181\n",
       "picking_speed          0\n",
       "accepted_rate        602\n",
       "rating              2021\n",
       "store_id               0\n",
       "lat_y                  0\n",
       "lng_y                  0\n",
       "dtype: int64"
      ]
     },
     "execution_count": 20,
     "metadata": {},
     "output_type": "execute_result"
    }
   ],
   "source": [
    "full.isnull().sum()"
   ]
  },
  {
   "cell_type": "code",
   "execution_count": 22,
   "metadata": {},
   "outputs": [
    {
     "data": {
      "text/plain": [
       "Index(['order_id', 'lat_x', 'lng_x', 'promised_time', 'on_demand',\n",
       "       'shopper_id', 'store_branch_id', 'total_minutes', 'product_id',\n",
       "       'quantity', 'buy_unit', 'seniority', 'found_rate', 'picking_speed',\n",
       "       'accepted_rate', 'rating', 'store_id', 'lat_y', 'lng_y'],\n",
       "      dtype='object')"
      ]
     },
     "execution_count": 22,
     "metadata": {},
     "output_type": "execute_result"
    }
   ],
   "source": [
    "full.columns"
   ]
  },
  {
   "cell_type": "code",
   "execution_count": 24,
   "metadata": {},
   "outputs": [
    {
     "data": {
      "text/html": [
       "<div>\n",
       "<style scoped>\n",
       "    .dataframe tbody tr th:only-of-type {\n",
       "        vertical-align: middle;\n",
       "    }\n",
       "\n",
       "    .dataframe tbody tr th {\n",
       "        vertical-align: top;\n",
       "    }\n",
       "\n",
       "    .dataframe thead th {\n",
       "        text-align: right;\n",
       "    }\n",
       "</style>\n",
       "<table border=\"1\" class=\"dataframe\">\n",
       "  <thead>\n",
       "    <tr style=\"text-align: right;\">\n",
       "      <th></th>\n",
       "      <th>order_id</th>\n",
       "      <th>lat_x</th>\n",
       "      <th>lng_x</th>\n",
       "      <th>promised_time</th>\n",
       "      <th>on_demand</th>\n",
       "      <th>shopper_id</th>\n",
       "      <th>store_branch_id</th>\n",
       "      <th>total_minutes</th>\n",
       "      <th>product_id</th>\n",
       "      <th>quantity</th>\n",
       "      <th>buy_unit</th>\n",
       "      <th>seniority</th>\n",
       "      <th>found_rate</th>\n",
       "      <th>picking_speed</th>\n",
       "      <th>accepted_rate</th>\n",
       "      <th>rating</th>\n",
       "      <th>store_id</th>\n",
       "    </tr>\n",
       "  </thead>\n",
       "  <tbody>\n",
       "    <tr>\n",
       "      <th>24</th>\n",
       "      <td>3a226ea48debc0a7ae9950d5540f2f34</td>\n",
       "      <td>-32.987022</td>\n",
       "      <td>-71.544842</td>\n",
       "      <td>2019-10-19 14:54:00+00:00</td>\n",
       "      <td>True</td>\n",
       "      <td>a5b9ddc0d82e61582fca19ad43dbaacb</td>\n",
       "      <td>07563a3fe3bbe7e3ba84431ad9d055af</td>\n",
       "      <td>NaN</td>\n",
       "      <td>d2a7c010a3c78a3199cd79623a4be51e</td>\n",
       "      <td>5.0</td>\n",
       "      <td>UN</td>\n",
       "      <td>50e13ee63f086c2fe84229348bc91b5b</td>\n",
       "      <td>0.8313</td>\n",
       "      <td>2.57</td>\n",
       "      <td>0.76</td>\n",
       "      <td>4.92</td>\n",
       "      <td>c4ca4238a0b923820dcc509a6f75849b</td>\n",
       "    </tr>\n",
       "    <tr>\n",
       "      <th>25</th>\n",
       "      <td>3a226ea48debc0a7ae9950d5540f2f34</td>\n",
       "      <td>-32.987022</td>\n",
       "      <td>-71.544842</td>\n",
       "      <td>2019-10-19 14:54:00+00:00</td>\n",
       "      <td>True</td>\n",
       "      <td>a5b9ddc0d82e61582fca19ad43dbaacb</td>\n",
       "      <td>07563a3fe3bbe7e3ba84431ad9d055af</td>\n",
       "      <td>NaN</td>\n",
       "      <td>6d416af51a52cc688f4898eb199d49bc</td>\n",
       "      <td>5.0</td>\n",
       "      <td>UN</td>\n",
       "      <td>50e13ee63f086c2fe84229348bc91b5b</td>\n",
       "      <td>0.8313</td>\n",
       "      <td>2.57</td>\n",
       "      <td>0.76</td>\n",
       "      <td>4.92</td>\n",
       "      <td>c4ca4238a0b923820dcc509a6f75849b</td>\n",
       "    </tr>\n",
       "    <tr>\n",
       "      <th>26</th>\n",
       "      <td>3a226ea48debc0a7ae9950d5540f2f34</td>\n",
       "      <td>-32.987022</td>\n",
       "      <td>-71.544842</td>\n",
       "      <td>2019-10-19 14:54:00+00:00</td>\n",
       "      <td>True</td>\n",
       "      <td>a5b9ddc0d82e61582fca19ad43dbaacb</td>\n",
       "      <td>07563a3fe3bbe7e3ba84431ad9d055af</td>\n",
       "      <td>NaN</td>\n",
       "      <td>81cc6dc9a2924e1657015db4bfb2f340</td>\n",
       "      <td>1.0</td>\n",
       "      <td>UN</td>\n",
       "      <td>50e13ee63f086c2fe84229348bc91b5b</td>\n",
       "      <td>0.8313</td>\n",
       "      <td>2.57</td>\n",
       "      <td>0.76</td>\n",
       "      <td>4.92</td>\n",
       "      <td>c4ca4238a0b923820dcc509a6f75849b</td>\n",
       "    </tr>\n",
       "    <tr>\n",
       "      <th>27</th>\n",
       "      <td>3a226ea48debc0a7ae9950d5540f2f34</td>\n",
       "      <td>-32.987022</td>\n",
       "      <td>-71.544842</td>\n",
       "      <td>2019-10-19 14:54:00+00:00</td>\n",
       "      <td>True</td>\n",
       "      <td>a5b9ddc0d82e61582fca19ad43dbaacb</td>\n",
       "      <td>07563a3fe3bbe7e3ba84431ad9d055af</td>\n",
       "      <td>NaN</td>\n",
       "      <td>d0fd09285ad305f0513c784e1774f05c</td>\n",
       "      <td>2.0</td>\n",
       "      <td>UN</td>\n",
       "      <td>50e13ee63f086c2fe84229348bc91b5b</td>\n",
       "      <td>0.8313</td>\n",
       "      <td>2.57</td>\n",
       "      <td>0.76</td>\n",
       "      <td>4.92</td>\n",
       "      <td>c4ca4238a0b923820dcc509a6f75849b</td>\n",
       "    </tr>\n",
       "    <tr>\n",
       "      <th>28</th>\n",
       "      <td>3a226ea48debc0a7ae9950d5540f2f34</td>\n",
       "      <td>-32.987022</td>\n",
       "      <td>-71.544842</td>\n",
       "      <td>2019-10-19 14:54:00+00:00</td>\n",
       "      <td>True</td>\n",
       "      <td>a5b9ddc0d82e61582fca19ad43dbaacb</td>\n",
       "      <td>07563a3fe3bbe7e3ba84431ad9d055af</td>\n",
       "      <td>NaN</td>\n",
       "      <td>e89201074287fe0f9d85b00a48361762</td>\n",
       "      <td>5.0</td>\n",
       "      <td>UN</td>\n",
       "      <td>50e13ee63f086c2fe84229348bc91b5b</td>\n",
       "      <td>0.8313</td>\n",
       "      <td>2.57</td>\n",
       "      <td>0.76</td>\n",
       "      <td>4.92</td>\n",
       "      <td>c4ca4238a0b923820dcc509a6f75849b</td>\n",
       "    </tr>\n",
       "    <tr>\n",
       "      <th>...</th>\n",
       "      <td>...</td>\n",
       "      <td>...</td>\n",
       "      <td>...</td>\n",
       "      <td>...</td>\n",
       "      <td>...</td>\n",
       "      <td>...</td>\n",
       "      <td>...</td>\n",
       "      <td>...</td>\n",
       "      <td>...</td>\n",
       "      <td>...</td>\n",
       "      <td>...</td>\n",
       "      <td>...</td>\n",
       "      <td>...</td>\n",
       "      <td>...</td>\n",
       "      <td>...</td>\n",
       "      <td>...</td>\n",
       "      <td>...</td>\n",
       "    </tr>\n",
       "    <tr>\n",
       "      <th>198353</th>\n",
       "      <td>b8a1cc826cc9a7190a79e45d41a0a7e2</td>\n",
       "      <td>-33.504379</td>\n",
       "      <td>-70.663026</td>\n",
       "      <td>2019-10-19 19:00:00+00:00</td>\n",
       "      <td>False</td>\n",
       "      <td>fab3dd62cf0a2047ee28023a9b0c99ef</td>\n",
       "      <td>2b24d495052a8ce66358eb576b8912c8</td>\n",
       "      <td>NaN</td>\n",
       "      <td>bbdcc2f622da50305253f13c7c9f27ac</td>\n",
       "      <td>2.0</td>\n",
       "      <td>UN</td>\n",
       "      <td>6c90661e6d2c7579f5ce337c3391dbb9</td>\n",
       "      <td>0.8594</td>\n",
       "      <td>1.38</td>\n",
       "      <td>0.96</td>\n",
       "      <td>4.80</td>\n",
       "      <td>c4ca4238a0b923820dcc509a6f75849b</td>\n",
       "    </tr>\n",
       "    <tr>\n",
       "      <th>198354</th>\n",
       "      <td>b8a1cc826cc9a7190a79e45d41a0a7e2</td>\n",
       "      <td>-33.504379</td>\n",
       "      <td>-70.663026</td>\n",
       "      <td>2019-10-19 19:00:00+00:00</td>\n",
       "      <td>False</td>\n",
       "      <td>fab3dd62cf0a2047ee28023a9b0c99ef</td>\n",
       "      <td>2b24d495052a8ce66358eb576b8912c8</td>\n",
       "      <td>NaN</td>\n",
       "      <td>d038566383839dc56c44f865cc70d0ee</td>\n",
       "      <td>1.0</td>\n",
       "      <td>UN</td>\n",
       "      <td>6c90661e6d2c7579f5ce337c3391dbb9</td>\n",
       "      <td>0.8594</td>\n",
       "      <td>1.38</td>\n",
       "      <td>0.96</td>\n",
       "      <td>4.80</td>\n",
       "      <td>c4ca4238a0b923820dcc509a6f75849b</td>\n",
       "    </tr>\n",
       "    <tr>\n",
       "      <th>198355</th>\n",
       "      <td>b8a1cc826cc9a7190a79e45d41a0a7e2</td>\n",
       "      <td>-33.504379</td>\n",
       "      <td>-70.663026</td>\n",
       "      <td>2019-10-19 19:00:00+00:00</td>\n",
       "      <td>False</td>\n",
       "      <td>fab3dd62cf0a2047ee28023a9b0c99ef</td>\n",
       "      <td>2b24d495052a8ce66358eb576b8912c8</td>\n",
       "      <td>NaN</td>\n",
       "      <td>6b7033651e48a9fbf437e816cc229770</td>\n",
       "      <td>1.0</td>\n",
       "      <td>UN</td>\n",
       "      <td>6c90661e6d2c7579f5ce337c3391dbb9</td>\n",
       "      <td>0.8594</td>\n",
       "      <td>1.38</td>\n",
       "      <td>0.96</td>\n",
       "      <td>4.80</td>\n",
       "      <td>c4ca4238a0b923820dcc509a6f75849b</td>\n",
       "    </tr>\n",
       "    <tr>\n",
       "      <th>198356</th>\n",
       "      <td>b8a1cc826cc9a7190a79e45d41a0a7e2</td>\n",
       "      <td>-33.504379</td>\n",
       "      <td>-70.663026</td>\n",
       "      <td>2019-10-19 19:00:00+00:00</td>\n",
       "      <td>False</td>\n",
       "      <td>fab3dd62cf0a2047ee28023a9b0c99ef</td>\n",
       "      <td>2b24d495052a8ce66358eb576b8912c8</td>\n",
       "      <td>NaN</td>\n",
       "      <td>7ba5ec0bb63d8fedce74213beea905b5</td>\n",
       "      <td>2.0</td>\n",
       "      <td>UN</td>\n",
       "      <td>6c90661e6d2c7579f5ce337c3391dbb9</td>\n",
       "      <td>0.8594</td>\n",
       "      <td>1.38</td>\n",
       "      <td>0.96</td>\n",
       "      <td>4.80</td>\n",
       "      <td>c4ca4238a0b923820dcc509a6f75849b</td>\n",
       "    </tr>\n",
       "    <tr>\n",
       "      <th>198373</th>\n",
       "      <td>f1d910271fe4182d87bdea049b7749c4</td>\n",
       "      <td>-33.440763</td>\n",
       "      <td>-70.603306</td>\n",
       "      <td>2019-10-19 14:00:00+00:00</td>\n",
       "      <td>False</td>\n",
       "      <td>07b121dbae684d1b2b824a3320872874</td>\n",
       "      <td>b5a1d925221b37e2e399f7b319038ba0</td>\n",
       "      <td>NaN</td>\n",
       "      <td>745d9f7d187df629a455287dbd7daad6</td>\n",
       "      <td>1.0</td>\n",
       "      <td>UN</td>\n",
       "      <td>6c90661e6d2c7579f5ce337c3391dbb9</td>\n",
       "      <td>0.8787</td>\n",
       "      <td>1.19</td>\n",
       "      <td>0.88</td>\n",
       "      <td>4.92</td>\n",
       "      <td>160c88652d47d0be60bfbfed25111412</td>\n",
       "    </tr>\n",
       "  </tbody>\n",
       "</table>\n",
       "<p>40197 rows × 17 columns</p>\n",
       "</div>"
      ],
      "text/plain": [
       "                                order_id      lat_x      lng_x  \\\n",
       "24      3a226ea48debc0a7ae9950d5540f2f34 -32.987022 -71.544842   \n",
       "25      3a226ea48debc0a7ae9950d5540f2f34 -32.987022 -71.544842   \n",
       "26      3a226ea48debc0a7ae9950d5540f2f34 -32.987022 -71.544842   \n",
       "27      3a226ea48debc0a7ae9950d5540f2f34 -32.987022 -71.544842   \n",
       "28      3a226ea48debc0a7ae9950d5540f2f34 -32.987022 -71.544842   \n",
       "...                                  ...        ...        ...   \n",
       "198353  b8a1cc826cc9a7190a79e45d41a0a7e2 -33.504379 -70.663026   \n",
       "198354  b8a1cc826cc9a7190a79e45d41a0a7e2 -33.504379 -70.663026   \n",
       "198355  b8a1cc826cc9a7190a79e45d41a0a7e2 -33.504379 -70.663026   \n",
       "198356  b8a1cc826cc9a7190a79e45d41a0a7e2 -33.504379 -70.663026   \n",
       "198373  f1d910271fe4182d87bdea049b7749c4 -33.440763 -70.603306   \n",
       "\n",
       "                    promised_time  on_demand  \\\n",
       "24      2019-10-19 14:54:00+00:00       True   \n",
       "25      2019-10-19 14:54:00+00:00       True   \n",
       "26      2019-10-19 14:54:00+00:00       True   \n",
       "27      2019-10-19 14:54:00+00:00       True   \n",
       "28      2019-10-19 14:54:00+00:00       True   \n",
       "...                           ...        ...   \n",
       "198353  2019-10-19 19:00:00+00:00      False   \n",
       "198354  2019-10-19 19:00:00+00:00      False   \n",
       "198355  2019-10-19 19:00:00+00:00      False   \n",
       "198356  2019-10-19 19:00:00+00:00      False   \n",
       "198373  2019-10-19 14:00:00+00:00      False   \n",
       "\n",
       "                              shopper_id                   store_branch_id  \\\n",
       "24      a5b9ddc0d82e61582fca19ad43dbaacb  07563a3fe3bbe7e3ba84431ad9d055af   \n",
       "25      a5b9ddc0d82e61582fca19ad43dbaacb  07563a3fe3bbe7e3ba84431ad9d055af   \n",
       "26      a5b9ddc0d82e61582fca19ad43dbaacb  07563a3fe3bbe7e3ba84431ad9d055af   \n",
       "27      a5b9ddc0d82e61582fca19ad43dbaacb  07563a3fe3bbe7e3ba84431ad9d055af   \n",
       "28      a5b9ddc0d82e61582fca19ad43dbaacb  07563a3fe3bbe7e3ba84431ad9d055af   \n",
       "...                                  ...                               ...   \n",
       "198353  fab3dd62cf0a2047ee28023a9b0c99ef  2b24d495052a8ce66358eb576b8912c8   \n",
       "198354  fab3dd62cf0a2047ee28023a9b0c99ef  2b24d495052a8ce66358eb576b8912c8   \n",
       "198355  fab3dd62cf0a2047ee28023a9b0c99ef  2b24d495052a8ce66358eb576b8912c8   \n",
       "198356  fab3dd62cf0a2047ee28023a9b0c99ef  2b24d495052a8ce66358eb576b8912c8   \n",
       "198373  07b121dbae684d1b2b824a3320872874  b5a1d925221b37e2e399f7b319038ba0   \n",
       "\n",
       "        total_minutes                        product_id  quantity buy_unit  \\\n",
       "24                NaN  d2a7c010a3c78a3199cd79623a4be51e       5.0       UN   \n",
       "25                NaN  6d416af51a52cc688f4898eb199d49bc       5.0       UN   \n",
       "26                NaN  81cc6dc9a2924e1657015db4bfb2f340       1.0       UN   \n",
       "27                NaN  d0fd09285ad305f0513c784e1774f05c       2.0       UN   \n",
       "28                NaN  e89201074287fe0f9d85b00a48361762       5.0       UN   \n",
       "...               ...                               ...       ...      ...   \n",
       "198353            NaN  bbdcc2f622da50305253f13c7c9f27ac       2.0       UN   \n",
       "198354            NaN  d038566383839dc56c44f865cc70d0ee       1.0       UN   \n",
       "198355            NaN  6b7033651e48a9fbf437e816cc229770       1.0       UN   \n",
       "198356            NaN  7ba5ec0bb63d8fedce74213beea905b5       2.0       UN   \n",
       "198373            NaN  745d9f7d187df629a455287dbd7daad6       1.0       UN   \n",
       "\n",
       "                               seniority  found_rate  picking_speed  \\\n",
       "24      50e13ee63f086c2fe84229348bc91b5b      0.8313           2.57   \n",
       "25      50e13ee63f086c2fe84229348bc91b5b      0.8313           2.57   \n",
       "26      50e13ee63f086c2fe84229348bc91b5b      0.8313           2.57   \n",
       "27      50e13ee63f086c2fe84229348bc91b5b      0.8313           2.57   \n",
       "28      50e13ee63f086c2fe84229348bc91b5b      0.8313           2.57   \n",
       "...                                  ...         ...            ...   \n",
       "198353  6c90661e6d2c7579f5ce337c3391dbb9      0.8594           1.38   \n",
       "198354  6c90661e6d2c7579f5ce337c3391dbb9      0.8594           1.38   \n",
       "198355  6c90661e6d2c7579f5ce337c3391dbb9      0.8594           1.38   \n",
       "198356  6c90661e6d2c7579f5ce337c3391dbb9      0.8594           1.38   \n",
       "198373  6c90661e6d2c7579f5ce337c3391dbb9      0.8787           1.19   \n",
       "\n",
       "        accepted_rate  rating                          store_id  \n",
       "24               0.76    4.92  c4ca4238a0b923820dcc509a6f75849b  \n",
       "25               0.76    4.92  c4ca4238a0b923820dcc509a6f75849b  \n",
       "26               0.76    4.92  c4ca4238a0b923820dcc509a6f75849b  \n",
       "27               0.76    4.92  c4ca4238a0b923820dcc509a6f75849b  \n",
       "28               0.76    4.92  c4ca4238a0b923820dcc509a6f75849b  \n",
       "...               ...     ...                               ...  \n",
       "198353           0.96    4.80  c4ca4238a0b923820dcc509a6f75849b  \n",
       "198354           0.96    4.80  c4ca4238a0b923820dcc509a6f75849b  \n",
       "198355           0.96    4.80  c4ca4238a0b923820dcc509a6f75849b  \n",
       "198356           0.96    4.80  c4ca4238a0b923820dcc509a6f75849b  \n",
       "198373           0.88    4.92  160c88652d47d0be60bfbfed25111412  \n",
       "\n",
       "[40197 rows x 17 columns]"
      ]
     },
     "execution_count": 24,
     "metadata": {},
     "output_type": "execute_result"
    }
   ],
   "source": [
    "full[['order_id', 'lat_x', 'lng_x', 'promised_time', 'on_demand',\n",
    "       'shopper_id', 'store_branch_id', 'total_minutes', 'product_id',\n",
    "       'quantity', 'buy_unit', 'seniority', 'found_rate', 'picking_speed',\n",
    "       'accepted_rate', 'rating', 'store_id']][full.total_minutes.isnull()]"
   ]
  }
 ],
 "metadata": {
  "kernelspec": {
   "display_name": "Python 3",
   "language": "python",
   "name": "python3"
  },
  "language_info": {
   "codemirror_mode": {
    "name": "ipython",
    "version": 3
   },
   "file_extension": ".py",
   "mimetype": "text/x-python",
   "name": "python",
   "nbconvert_exporter": "python",
   "pygments_lexer": "ipython3",
   "version": "3.7.6"
  }
 },
 "nbformat": 4,
 "nbformat_minor": 4
}
