{
 "cells": [
  {
   "cell_type": "code",
   "execution_count": 1,
   "metadata": {},
   "outputs": [],
   "source": [
    "# Data manipulation\n",
    "import numpy as np\n",
    "import pandas as pd\n",
    "from math import *\n",
    "import seaborn as sns\n",
    "import networkx as nx\n",
    "import osmnx as ox\n",
    "import folium\n",
    "\n",
    "# Visualization.\n",
    "import matplotlib.pyplot as plt\n",
    "\n",
    "# Saving models\n",
    "from datetime import datetime\n",
    "import joblib\n",
    "\n",
    "# Display all columns\n",
    "pd.set_option('display.max_columns', 150,\n",
    "             'display.max_rows', 150)\n",
    "\n",
    "# ML\n",
    "from sklearn.model_selection import GridSearchCV\n",
    "from sklearn.model_selection import RandomizedSearchCV, StratifiedKFold, RepeatedKFold, train_test_split, cross_validate, cross_val_score \n",
    "from sklearn.preprocessing import StandardScaler, MinMaxScaler\n",
    "from sklearn.metrics import r2_score, explained_variance_score, mean_squared_error, median_absolute_error\n",
    "from sklearn.linear_model import LinearRegression, ElasticNet\n",
    "from sklearn import ensemble\n",
    "\n",
    "import requests, json\n",
    "from sqlalchemy import create_engine\n",
    "\n",
    "#import googlemaps"
   ]
  },
  {
   "cell_type": "code",
   "execution_count": 2,
   "metadata": {},
   "outputs": [],
   "source": [
    "from geopy.geocoders import Nominatim\n",
    "from geopy.extra.rate_limiter import RateLimiter\n",
    "\n",
    "geolocator = Nominatim(user_agent=\"application\")\n",
    "reverse = RateLimiter(geolocator.reverse, min_delay_seconds=1)\n",
    "\n",
    "def location(df,lat, long):\n",
    "    #neighbourhood_origin = []\n",
    "    county = []\n",
    "    state = []\n",
    "    city = []\n",
    "    neighbourhood = []\n",
    "    for i in range(len(df)):\n",
    "        location = reverse((df[lat][i], df[long][i]), language='en', exactly_one=True)\n",
    "        #neighbourhood_origin.append(location.raw['address']['city'])\n",
    "        county.append(location.raw['address']['county'])\n",
    "        state.append(location.raw['address']['state'])\n",
    "        #city.append(location.raw['address']['city'])\n",
    "        #neighbourhood.append(location.raw['address']['neighbourhood'])\n",
    "        \n",
    "    return county, state"
   ]
  },
  {
   "cell_type": "code",
   "execution_count": 76,
   "metadata": {},
   "outputs": [],
   "source": [
    "def path(df,long1, lat1, long2, lat2):\n",
    "    distance = []\n",
    "    #weight = []\n",
    "    #duration = []\n",
    "    for i in range(100):\n",
    "        r = requests.get(f\"http://router.project-osrm.org/route/v1/car/{df[long1][i]},{df[lat1][i]};{df[long2][i]},{df[lat2][i]}?overview=false\"\"\")\n",
    "        routes = json.loads(r.content)\n",
    "        route_1 = routes.get(\"routes\")[0]\n",
    "        distance.append(route_1['distance'])\n",
    "        weight.append(route_1['weight'])\n",
    "        duration.append(route_1['duration'])\n",
    "    return distance, weight, duration\n",
    "        "
   ]
  },
  {
   "cell_type": "code",
   "execution_count": 4,
   "metadata": {},
   "outputs": [],
   "source": [
    "def distance(s_lat, s_lng, e_lat, e_lng):\n",
    "\n",
    "    # approximate radius of earth in km\n",
    "    R = 6373.0\n",
    "\n",
    "    s_lat = s_lat*np.pi/180.0                      \n",
    "    s_lng = np.deg2rad(s_lng)     \n",
    "    e_lat = np.deg2rad(e_lat)                       \n",
    "    e_lng = np.deg2rad(e_lng)  \n",
    "\n",
    "    d = np.sin((e_lat - s_lat)/2)**2 + np.cos(s_lat)*np.cos(e_lat) * np.sin((e_lng - s_lng)/2)**2\n",
    "\n",
    "    return 2 * R * np.arcsin(np.sqrt(d))"
   ]
  },
  {
   "cell_type": "markdown",
   "metadata": {},
   "source": [
    "### Read the data\n",
    "   * Dataset order_products"
   ]
  },
  {
   "cell_type": "code",
   "execution_count": 5,
   "metadata": {},
   "outputs": [
    {
     "data": {
      "text/plain": [
       "'/Users/aurelianosancho/Documents/GitHub/teste_cornershop'"
      ]
     },
     "execution_count": 5,
     "metadata": {},
     "output_type": "execute_result"
    }
   ],
   "source": [
    "pwd"
   ]
  },
  {
   "cell_type": "code",
   "execution_count": 6,
   "metadata": {},
   "outputs": [
    {
     "name": "stdout",
     "output_type": "stream",
     "text": [
      "EDA_Features.ipynb  \u001b[34mcache\u001b[m\u001b[m/              orders.csv\r\n",
      "LICENSE             model.ipynb         shoppers.csv\r\n",
      "README.md           order_products.csv  storebranch.csv\r\n"
     ]
    }
   ],
   "source": [
    "ls"
   ]
  },
  {
   "cell_type": "code",
   "execution_count": 7,
   "metadata": {},
   "outputs": [],
   "source": [
    "order_products = pd.read_csv(\"/Users/aurelianosancho/Documents/GitHub/teste_cornershop/order_products.csv\")"
   ]
  },
  {
   "cell_type": "code",
   "execution_count": 8,
   "metadata": {},
   "outputs": [
    {
     "data": {
      "text/plain": [
       "order_id      0\n",
       "product_id    0\n",
       "quantity      0\n",
       "buy_unit      0\n",
       "dtype: int64"
      ]
     },
     "execution_count": 8,
     "metadata": {},
     "output_type": "execute_result"
    }
   ],
   "source": [
    "order_products.isnull().sum()"
   ]
  },
  {
   "cell_type": "code",
   "execution_count": 9,
   "metadata": {},
   "outputs": [
    {
     "name": "stdout",
     "output_type": "stream",
     "text": [
      "<class 'pandas.core.frame.DataFrame'>\n",
      "RangeIndex: 198500 entries, 0 to 198499\n",
      "Data columns (total 4 columns):\n",
      " #   Column      Non-Null Count   Dtype  \n",
      "---  ------      --------------   -----  \n",
      " 0   order_id    198500 non-null  object \n",
      " 1   product_id  198500 non-null  object \n",
      " 2   quantity    198500 non-null  float64\n",
      " 3   buy_unit    198500 non-null  object \n",
      "dtypes: float64(1), object(3)\n",
      "memory usage: 6.1+ MB\n"
     ]
    }
   ],
   "source": [
    "order_products.info()"
   ]
  },
  {
   "cell_type": "code",
   "execution_count": 10,
   "metadata": {},
   "outputs": [],
   "source": [
    "order_products.loc[order_products['buy_unit'] == 'UN', 'quantity_UN'] = order_products['quantity']\n",
    "order_products.loc[order_products['quantity_UN'].isnull(), 'quantity_UN'] = 0\n",
    "\n",
    "order_products.loc[order_products['buy_unit'] == 'KG', 'quantity_KG'] = order_products['quantity']\n",
    "order_products.loc[order_products['quantity_KG'].isnull(), 'quantity_KG'] = 0"
   ]
  },
  {
   "cell_type": "code",
   "execution_count": 11,
   "metadata": {},
   "outputs": [
    {
     "data": {
      "text/html": [
       "<div>\n",
       "<style scoped>\n",
       "    .dataframe tbody tr th:only-of-type {\n",
       "        vertical-align: middle;\n",
       "    }\n",
       "\n",
       "    .dataframe tbody tr th {\n",
       "        vertical-align: top;\n",
       "    }\n",
       "\n",
       "    .dataframe thead th {\n",
       "        text-align: right;\n",
       "    }\n",
       "</style>\n",
       "<table border=\"1\" class=\"dataframe\">\n",
       "  <thead>\n",
       "    <tr style=\"text-align: right;\">\n",
       "      <th></th>\n",
       "      <th>order_id</th>\n",
       "      <th>product_id</th>\n",
       "      <th>quantity</th>\n",
       "      <th>buy_unit</th>\n",
       "      <th>quantity_UN</th>\n",
       "      <th>quantity_KG</th>\n",
       "    </tr>\n",
       "  </thead>\n",
       "  <tbody>\n",
       "    <tr>\n",
       "      <th>0</th>\n",
       "      <td>47099653730fb1b76537fc10ad876255</td>\n",
       "      <td>c1244453d731c77416cb4766e3bd76cb</td>\n",
       "      <td>1.0</td>\n",
       "      <td>UN</td>\n",
       "      <td>1.0</td>\n",
       "      <td>0.0</td>\n",
       "    </tr>\n",
       "    <tr>\n",
       "      <th>1</th>\n",
       "      <td>689d8866915acf87e851c2591a23a82f</td>\n",
       "      <td>43cc2b100bec640fe563cd16f2db669f</td>\n",
       "      <td>1.0</td>\n",
       "      <td>KG</td>\n",
       "      <td>0.0</td>\n",
       "      <td>1.0</td>\n",
       "    </tr>\n",
       "    <tr>\n",
       "      <th>2</th>\n",
       "      <td>f26d16bf6f38c9e31d0be877f4013a9e</td>\n",
       "      <td>b8f880759d014134e272d881d49989a2</td>\n",
       "      <td>1.0</td>\n",
       "      <td>UN</td>\n",
       "      <td>1.0</td>\n",
       "      <td>0.0</td>\n",
       "    </tr>\n",
       "  </tbody>\n",
       "</table>\n",
       "</div>"
      ],
      "text/plain": [
       "                           order_id                        product_id  \\\n",
       "0  47099653730fb1b76537fc10ad876255  c1244453d731c77416cb4766e3bd76cb   \n",
       "1  689d8866915acf87e851c2591a23a82f  43cc2b100bec640fe563cd16f2db669f   \n",
       "2  f26d16bf6f38c9e31d0be877f4013a9e  b8f880759d014134e272d881d49989a2   \n",
       "\n",
       "   quantity buy_unit  quantity_UN  quantity_KG  \n",
       "0       1.0       UN          1.0          0.0  \n",
       "1       1.0       KG          0.0          1.0  \n",
       "2       1.0       UN          1.0          0.0  "
      ]
     },
     "execution_count": 11,
     "metadata": {},
     "output_type": "execute_result"
    }
   ],
   "source": [
    "order_products.head(3)"
   ]
  },
  {
   "cell_type": "code",
   "execution_count": 12,
   "metadata": {},
   "outputs": [],
   "source": [
    "order_products = order_products.groupby('order_id').aggregate(\n",
    "                            {'quantity_UN': 'sum',\n",
    "                             'quantity_KG': 'sum'\n",
    "                            }).reset_index()"
   ]
  },
  {
   "cell_type": "code",
   "execution_count": 13,
   "metadata": {},
   "outputs": [],
   "source": [
    "order_products.loc[order_products['quantity_UN'] >= order_products['quantity_KG'], 'is_more_UN'] = 1\n",
    "order_products.loc[order_products['is_more_UN'].isnull(), 'is_more_UN'] = 0"
   ]
  },
  {
   "cell_type": "code",
   "execution_count": 14,
   "metadata": {},
   "outputs": [],
   "source": [
    "order_products['UN_plus_KG'] = order_products['quantity_UN'] + order_products['quantity_KG']\n",
    "order_products['UN_mult_KG'] = order_products['quantity_UN']*order_products['quantity_KG']"
   ]
  },
  {
   "cell_type": "code",
   "execution_count": 15,
   "metadata": {},
   "outputs": [
    {
     "data": {
      "text/html": [
       "<div>\n",
       "<style scoped>\n",
       "    .dataframe tbody tr th:only-of-type {\n",
       "        vertical-align: middle;\n",
       "    }\n",
       "\n",
       "    .dataframe tbody tr th {\n",
       "        vertical-align: top;\n",
       "    }\n",
       "\n",
       "    .dataframe thead th {\n",
       "        text-align: right;\n",
       "    }\n",
       "</style>\n",
       "<table border=\"1\" class=\"dataframe\">\n",
       "  <thead>\n",
       "    <tr style=\"text-align: right;\">\n",
       "      <th></th>\n",
       "      <th>order_id</th>\n",
       "      <th>quantity_UN</th>\n",
       "      <th>quantity_KG</th>\n",
       "      <th>is_more_UN</th>\n",
       "      <th>UN_plus_KG</th>\n",
       "      <th>UN_mult_KG</th>\n",
       "    </tr>\n",
       "  </thead>\n",
       "  <tbody>\n",
       "    <tr>\n",
       "      <th>0</th>\n",
       "      <td>0004a3841c1eeb6c6e77585a941c21e0</td>\n",
       "      <td>8.0</td>\n",
       "      <td>0.000</td>\n",
       "      <td>1.0</td>\n",
       "      <td>8.000</td>\n",
       "      <td>0.000</td>\n",
       "    </tr>\n",
       "    <tr>\n",
       "      <th>1</th>\n",
       "      <td>0005a6ecbbde1e8d273f5577bcff2c9c</td>\n",
       "      <td>2.0</td>\n",
       "      <td>0.000</td>\n",
       "      <td>1.0</td>\n",
       "      <td>2.000</td>\n",
       "      <td>0.000</td>\n",
       "    </tr>\n",
       "    <tr>\n",
       "      <th>2</th>\n",
       "      <td>0007baeb6700fc203be2d1f1e11222d7</td>\n",
       "      <td>39.0</td>\n",
       "      <td>0.000</td>\n",
       "      <td>1.0</td>\n",
       "      <td>39.000</td>\n",
       "      <td>0.000</td>\n",
       "    </tr>\n",
       "    <tr>\n",
       "      <th>3</th>\n",
       "      <td>0012195a6a8ca9ec308a3010eeea8ebc</td>\n",
       "      <td>13.0</td>\n",
       "      <td>0.000</td>\n",
       "      <td>1.0</td>\n",
       "      <td>13.000</td>\n",
       "      <td>0.000</td>\n",
       "    </tr>\n",
       "    <tr>\n",
       "      <th>4</th>\n",
       "      <td>0013011fa72b498b9feb84f4e7104980</td>\n",
       "      <td>63.0</td>\n",
       "      <td>1.636</td>\n",
       "      <td>1.0</td>\n",
       "      <td>64.636</td>\n",
       "      <td>103.068</td>\n",
       "    </tr>\n",
       "  </tbody>\n",
       "</table>\n",
       "</div>"
      ],
      "text/plain": [
       "                           order_id  quantity_UN  quantity_KG  is_more_UN  \\\n",
       "0  0004a3841c1eeb6c6e77585a941c21e0          8.0        0.000         1.0   \n",
       "1  0005a6ecbbde1e8d273f5577bcff2c9c          2.0        0.000         1.0   \n",
       "2  0007baeb6700fc203be2d1f1e11222d7         39.0        0.000         1.0   \n",
       "3  0012195a6a8ca9ec308a3010eeea8ebc         13.0        0.000         1.0   \n",
       "4  0013011fa72b498b9feb84f4e7104980         63.0        1.636         1.0   \n",
       "\n",
       "   UN_plus_KG  UN_mult_KG  \n",
       "0       8.000       0.000  \n",
       "1       2.000       0.000  \n",
       "2      39.000       0.000  \n",
       "3      13.000       0.000  \n",
       "4      64.636     103.068  "
      ]
     },
     "execution_count": 15,
     "metadata": {},
     "output_type": "execute_result"
    }
   ],
   "source": [
    "order_products.head()"
   ]
  },
  {
   "cell_type": "code",
   "execution_count": 16,
   "metadata": {},
   "outputs": [
    {
     "data": {
      "text/plain": [
       "order_id       0\n",
       "quantity_UN    0\n",
       "quantity_KG    0\n",
       "is_more_UN     0\n",
       "UN_plus_KG     0\n",
       "UN_mult_KG     0\n",
       "dtype: int64"
      ]
     },
     "execution_count": 16,
     "metadata": {},
     "output_type": "execute_result"
    }
   ],
   "source": [
    "order_products.isnull().sum()"
   ]
  },
  {
   "cell_type": "markdown",
   "metadata": {},
   "source": [
    "* Dataset orders"
   ]
  },
  {
   "cell_type": "code",
   "execution_count": 17,
   "metadata": {},
   "outputs": [],
   "source": [
    "orders = pd.read_csv(\"/Users/aurelianosancho/Documents/GitHub/teste_cornershop/orders.csv\")"
   ]
  },
  {
   "cell_type": "code",
   "execution_count": 18,
   "metadata": {},
   "outputs": [],
   "source": [
    "orders = orders.rename({'lat': 'lat_destination', 'lng': 'lng_destination'}, axis=1)  "
   ]
  },
  {
   "cell_type": "code",
   "execution_count": 19,
   "metadata": {},
   "outputs": [
    {
     "data": {
      "text/plain": [
       "order_id              0\n",
       "lat_destination       0\n",
       "lng_destination       0\n",
       "promised_time         0\n",
       "on_demand             0\n",
       "shopper_id            0\n",
       "store_branch_id       0\n",
       "total_minutes      2000\n",
       "dtype: int64"
      ]
     },
     "execution_count": 19,
     "metadata": {},
     "output_type": "execute_result"
    }
   ],
   "source": [
    "orders.isnull().sum()"
   ]
  },
  {
   "cell_type": "code",
   "execution_count": 20,
   "metadata": {},
   "outputs": [
    {
     "name": "stdout",
     "output_type": "stream",
     "text": [
      "<class 'pandas.core.frame.DataFrame'>\n",
      "RangeIndex: 10000 entries, 0 to 9999\n",
      "Data columns (total 8 columns):\n",
      " #   Column           Non-Null Count  Dtype  \n",
      "---  ------           --------------  -----  \n",
      " 0   order_id         10000 non-null  object \n",
      " 1   lat_destination  10000 non-null  float64\n",
      " 2   lng_destination  10000 non-null  float64\n",
      " 3   promised_time    10000 non-null  object \n",
      " 4   on_demand        10000 non-null  bool   \n",
      " 5   shopper_id       10000 non-null  object \n",
      " 6   store_branch_id  10000 non-null  object \n",
      " 7   total_minutes    8000 non-null   float64\n",
      "dtypes: bool(1), float64(3), object(4)\n",
      "memory usage: 556.8+ KB\n"
     ]
    }
   ],
   "source": [
    "orders.info()"
   ]
  },
  {
   "cell_type": "code",
   "execution_count": 21,
   "metadata": {},
   "outputs": [
    {
     "data": {
      "text/html": [
       "<div>\n",
       "<style scoped>\n",
       "    .dataframe tbody tr th:only-of-type {\n",
       "        vertical-align: middle;\n",
       "    }\n",
       "\n",
       "    .dataframe tbody tr th {\n",
       "        vertical-align: top;\n",
       "    }\n",
       "\n",
       "    .dataframe thead th {\n",
       "        text-align: right;\n",
       "    }\n",
       "</style>\n",
       "<table border=\"1\" class=\"dataframe\">\n",
       "  <thead>\n",
       "    <tr style=\"text-align: right;\">\n",
       "      <th></th>\n",
       "      <th>order_id</th>\n",
       "      <th>lat_destination</th>\n",
       "      <th>lng_destination</th>\n",
       "      <th>promised_time</th>\n",
       "      <th>on_demand</th>\n",
       "      <th>shopper_id</th>\n",
       "      <th>store_branch_id</th>\n",
       "      <th>total_minutes</th>\n",
       "    </tr>\n",
       "  </thead>\n",
       "  <tbody>\n",
       "    <tr>\n",
       "      <th>0</th>\n",
       "      <td>e750294655c2c7c34d83cc3181c09de4</td>\n",
       "      <td>-33.501675</td>\n",
       "      <td>-70.579369</td>\n",
       "      <td>2019-10-18 20:48:00+00:00</td>\n",
       "      <td>True</td>\n",
       "      <td>e63bc83a1a952fa2b3cc9d558fb943cf</td>\n",
       "      <td>65ded5353c5ee48d0b7d48c591b8f430</td>\n",
       "      <td>67.684264</td>\n",
       "    </tr>\n",
       "    <tr>\n",
       "      <th>1</th>\n",
       "      <td>6581174846221cb6c467348e87f57641</td>\n",
       "      <td>-33.440584</td>\n",
       "      <td>-70.556283</td>\n",
       "      <td>2019-10-19 01:00:00+00:00</td>\n",
       "      <td>False</td>\n",
       "      <td>195f9e9d84a4ba9033c4b6a756334d8b</td>\n",
       "      <td>45fbc6d3e05ebd93369ce542e8f2322d</td>\n",
       "      <td>57.060632</td>\n",
       "    </tr>\n",
       "    <tr>\n",
       "      <th>2</th>\n",
       "      <td>3a226ea48debc0a7ae9950d5540f2f34</td>\n",
       "      <td>-32.987022</td>\n",
       "      <td>-71.544842</td>\n",
       "      <td>2019-10-19 14:54:00+00:00</td>\n",
       "      <td>True</td>\n",
       "      <td>a5b9ddc0d82e61582fca19ad43dbaacb</td>\n",
       "      <td>07563a3fe3bbe7e3ba84431ad9d055af</td>\n",
       "      <td>NaN</td>\n",
       "    </tr>\n",
       "  </tbody>\n",
       "</table>\n",
       "</div>"
      ],
      "text/plain": [
       "                           order_id  lat_destination  lng_destination  \\\n",
       "0  e750294655c2c7c34d83cc3181c09de4       -33.501675       -70.579369   \n",
       "1  6581174846221cb6c467348e87f57641       -33.440584       -70.556283   \n",
       "2  3a226ea48debc0a7ae9950d5540f2f34       -32.987022       -71.544842   \n",
       "\n",
       "               promised_time  on_demand                        shopper_id  \\\n",
       "0  2019-10-18 20:48:00+00:00       True  e63bc83a1a952fa2b3cc9d558fb943cf   \n",
       "1  2019-10-19 01:00:00+00:00      False  195f9e9d84a4ba9033c4b6a756334d8b   \n",
       "2  2019-10-19 14:54:00+00:00       True  a5b9ddc0d82e61582fca19ad43dbaacb   \n",
       "\n",
       "                    store_branch_id  total_minutes  \n",
       "0  65ded5353c5ee48d0b7d48c591b8f430      67.684264  \n",
       "1  45fbc6d3e05ebd93369ce542e8f2322d      57.060632  \n",
       "2  07563a3fe3bbe7e3ba84431ad9d055af            NaN  "
      ]
     },
     "execution_count": 21,
     "metadata": {},
     "output_type": "execute_result"
    }
   ],
   "source": [
    "orders.head(3)"
   ]
  },
  {
   "cell_type": "markdown",
   "metadata": {},
   "source": [
    "#### Join the datasets"
   ]
  },
  {
   "cell_type": "code",
   "execution_count": 22,
   "metadata": {},
   "outputs": [],
   "source": [
    "full = pd.merge(orders, order_products, how='inner', on='order_id')"
   ]
  },
  {
   "cell_type": "code",
   "execution_count": 23,
   "metadata": {},
   "outputs": [
    {
     "data": {
      "text/plain": [
       "order_id              0\n",
       "lat_destination       0\n",
       "lng_destination       0\n",
       "promised_time         0\n",
       "on_demand             0\n",
       "shopper_id            0\n",
       "store_branch_id       0\n",
       "total_minutes      1995\n",
       "quantity_UN           0\n",
       "quantity_KG           0\n",
       "is_more_UN            0\n",
       "UN_plus_KG            0\n",
       "UN_mult_KG            0\n",
       "dtype: int64"
      ]
     },
     "execution_count": 23,
     "metadata": {},
     "output_type": "execute_result"
    }
   ],
   "source": [
    "full.isnull().sum()"
   ]
  },
  {
   "cell_type": "markdown",
   "metadata": {},
   "source": [
    "   * Dataset shoppers"
   ]
  },
  {
   "cell_type": "code",
   "execution_count": 24,
   "metadata": {},
   "outputs": [],
   "source": [
    "shoppers = pd.read_csv(\"/Users/aurelianosancho/Documents/GitHub/teste_cornershop/shoppers.csv\")"
   ]
  },
  {
   "cell_type": "code",
   "execution_count": 25,
   "metadata": {},
   "outputs": [
    {
     "data": {
      "text/plain": [
       "shopper_id         0\n",
       "seniority          0\n",
       "found_rate       101\n",
       "picking_speed      0\n",
       "accepted_rate     27\n",
       "rating            84\n",
       "dtype: int64"
      ]
     },
     "execution_count": 25,
     "metadata": {},
     "output_type": "execute_result"
    }
   ],
   "source": [
    "shoppers.isnull().sum()"
   ]
  },
  {
   "cell_type": "code",
   "execution_count": 26,
   "metadata": {},
   "outputs": [
    {
     "name": "stdout",
     "output_type": "stream",
     "text": [
      "<class 'pandas.core.frame.DataFrame'>\n",
      "RangeIndex: 2864 entries, 0 to 2863\n",
      "Data columns (total 6 columns):\n",
      " #   Column         Non-Null Count  Dtype  \n",
      "---  ------         --------------  -----  \n",
      " 0   shopper_id     2864 non-null   object \n",
      " 1   seniority      2864 non-null   object \n",
      " 2   found_rate     2763 non-null   float64\n",
      " 3   picking_speed  2864 non-null   float64\n",
      " 4   accepted_rate  2837 non-null   float64\n",
      " 5   rating         2780 non-null   float64\n",
      "dtypes: float64(4), object(2)\n",
      "memory usage: 134.4+ KB\n"
     ]
    }
   ],
   "source": [
    "shoppers.info()"
   ]
  },
  {
   "cell_type": "code",
   "execution_count": 27,
   "metadata": {},
   "outputs": [
    {
     "data": {
      "text/html": [
       "<div>\n",
       "<style scoped>\n",
       "    .dataframe tbody tr th:only-of-type {\n",
       "        vertical-align: middle;\n",
       "    }\n",
       "\n",
       "    .dataframe tbody tr th {\n",
       "        vertical-align: top;\n",
       "    }\n",
       "\n",
       "    .dataframe thead th {\n",
       "        text-align: right;\n",
       "    }\n",
       "</style>\n",
       "<table border=\"1\" class=\"dataframe\">\n",
       "  <thead>\n",
       "    <tr style=\"text-align: right;\">\n",
       "      <th></th>\n",
       "      <th>shopper_id</th>\n",
       "      <th>seniority</th>\n",
       "      <th>found_rate</th>\n",
       "      <th>picking_speed</th>\n",
       "      <th>accepted_rate</th>\n",
       "      <th>rating</th>\n",
       "    </tr>\n",
       "  </thead>\n",
       "  <tbody>\n",
       "    <tr>\n",
       "      <th>0</th>\n",
       "      <td>1fc20b0bdf697ac13dd6a15cbd2fe60a</td>\n",
       "      <td>41dc7c9e385c4d2b6c1f7836973951bf</td>\n",
       "      <td>0.8606</td>\n",
       "      <td>1.94</td>\n",
       "      <td>1.00</td>\n",
       "      <td>4.87</td>\n",
       "    </tr>\n",
       "    <tr>\n",
       "      <th>1</th>\n",
       "      <td>e1c679ac73a69c01981fdd3c5ab8beda</td>\n",
       "      <td>6c90661e6d2c7579f5ce337c3391dbb9</td>\n",
       "      <td>0.8446</td>\n",
       "      <td>1.23</td>\n",
       "      <td>0.92</td>\n",
       "      <td>4.92</td>\n",
       "    </tr>\n",
       "    <tr>\n",
       "      <th>2</th>\n",
       "      <td>09d369c66ca86ebeffacb133410c5ee1</td>\n",
       "      <td>6c90661e6d2c7579f5ce337c3391dbb9</td>\n",
       "      <td>0.8559</td>\n",
       "      <td>1.56</td>\n",
       "      <td>1.00</td>\n",
       "      <td>4.88</td>\n",
       "    </tr>\n",
       "  </tbody>\n",
       "</table>\n",
       "</div>"
      ],
      "text/plain": [
       "                         shopper_id                         seniority  \\\n",
       "0  1fc20b0bdf697ac13dd6a15cbd2fe60a  41dc7c9e385c4d2b6c1f7836973951bf   \n",
       "1  e1c679ac73a69c01981fdd3c5ab8beda  6c90661e6d2c7579f5ce337c3391dbb9   \n",
       "2  09d369c66ca86ebeffacb133410c5ee1  6c90661e6d2c7579f5ce337c3391dbb9   \n",
       "\n",
       "   found_rate  picking_speed  accepted_rate  rating  \n",
       "0      0.8606           1.94           1.00    4.87  \n",
       "1      0.8446           1.23           0.92    4.92  \n",
       "2      0.8559           1.56           1.00    4.88  "
      ]
     },
     "execution_count": 27,
     "metadata": {},
     "output_type": "execute_result"
    }
   ],
   "source": [
    "shoppers.head(3)"
   ]
  },
  {
   "cell_type": "code",
   "execution_count": 28,
   "metadata": {},
   "outputs": [],
   "source": [
    "found_rate = shoppers[shoppers.found_rate.isnull()]"
   ]
  },
  {
   "cell_type": "code",
   "execution_count": 29,
   "metadata": {},
   "outputs": [
    {
     "data": {
      "text/html": [
       "<div>\n",
       "<style scoped>\n",
       "    .dataframe tbody tr th:only-of-type {\n",
       "        vertical-align: middle;\n",
       "    }\n",
       "\n",
       "    .dataframe tbody tr th {\n",
       "        vertical-align: top;\n",
       "    }\n",
       "\n",
       "    .dataframe thead th {\n",
       "        text-align: right;\n",
       "    }\n",
       "</style>\n",
       "<table border=\"1\" class=\"dataframe\">\n",
       "  <thead>\n",
       "    <tr style=\"text-align: right;\">\n",
       "      <th></th>\n",
       "      <th>shopper_id</th>\n",
       "      <th>seniority</th>\n",
       "      <th>found_rate</th>\n",
       "      <th>picking_speed</th>\n",
       "      <th>accepted_rate</th>\n",
       "      <th>rating</th>\n",
       "    </tr>\n",
       "  </thead>\n",
       "  <tbody>\n",
       "    <tr>\n",
       "      <th>3</th>\n",
       "      <td>db39866e62b95bb04ebb1e470f2d1347</td>\n",
       "      <td>50e13ee63f086c2fe84229348bc91b5b</td>\n",
       "      <td>NaN</td>\n",
       "      <td>2.41</td>\n",
       "      <td>NaN</td>\n",
       "      <td>NaN</td>\n",
       "    </tr>\n",
       "    <tr>\n",
       "      <th>41</th>\n",
       "      <td>3037b3b45878cc009165ab18046545e2</td>\n",
       "      <td>bb29b8d0d196b5db5a5350e5e3ae2b1f</td>\n",
       "      <td>NaN</td>\n",
       "      <td>2.19</td>\n",
       "      <td>1.0</td>\n",
       "      <td>NaN</td>\n",
       "    </tr>\n",
       "    <tr>\n",
       "      <th>48</th>\n",
       "      <td>767014694eecb27868fcab3e18bbeb2d</td>\n",
       "      <td>bb29b8d0d196b5db5a5350e5e3ae2b1f</td>\n",
       "      <td>NaN</td>\n",
       "      <td>2.19</td>\n",
       "      <td>0.8</td>\n",
       "      <td>NaN</td>\n",
       "    </tr>\n",
       "    <tr>\n",
       "      <th>50</th>\n",
       "      <td>43ad600bfd3b16b220d90a1f6e25681e</td>\n",
       "      <td>bb29b8d0d196b5db5a5350e5e3ae2b1f</td>\n",
       "      <td>NaN</td>\n",
       "      <td>2.19</td>\n",
       "      <td>NaN</td>\n",
       "      <td>NaN</td>\n",
       "    </tr>\n",
       "    <tr>\n",
       "      <th>83</th>\n",
       "      <td>32cee31f8f74a1573a8e07fc90d456b9</td>\n",
       "      <td>50e13ee63f086c2fe84229348bc91b5b</td>\n",
       "      <td>NaN</td>\n",
       "      <td>2.19</td>\n",
       "      <td>0.8</td>\n",
       "      <td>NaN</td>\n",
       "    </tr>\n",
       "  </tbody>\n",
       "</table>\n",
       "</div>"
      ],
      "text/plain": [
       "                          shopper_id                         seniority  \\\n",
       "3   db39866e62b95bb04ebb1e470f2d1347  50e13ee63f086c2fe84229348bc91b5b   \n",
       "41  3037b3b45878cc009165ab18046545e2  bb29b8d0d196b5db5a5350e5e3ae2b1f   \n",
       "48  767014694eecb27868fcab3e18bbeb2d  bb29b8d0d196b5db5a5350e5e3ae2b1f   \n",
       "50  43ad600bfd3b16b220d90a1f6e25681e  bb29b8d0d196b5db5a5350e5e3ae2b1f   \n",
       "83  32cee31f8f74a1573a8e07fc90d456b9  50e13ee63f086c2fe84229348bc91b5b   \n",
       "\n",
       "    found_rate  picking_speed  accepted_rate  rating  \n",
       "3          NaN           2.41            NaN     NaN  \n",
       "41         NaN           2.19            1.0     NaN  \n",
       "48         NaN           2.19            0.8     NaN  \n",
       "50         NaN           2.19            NaN     NaN  \n",
       "83         NaN           2.19            0.8     NaN  "
      ]
     },
     "execution_count": 29,
     "metadata": {},
     "output_type": "execute_result"
    }
   ],
   "source": [
    "found_rate.head()"
   ]
  },
  {
   "cell_type": "code",
   "execution_count": 30,
   "metadata": {},
   "outputs": [
    {
     "data": {
      "text/plain": [
       "array([2.41, 2.19, 2.33])"
      ]
     },
     "execution_count": 30,
     "metadata": {},
     "output_type": "execute_result"
    }
   ],
   "source": [
    "found_rate.picking_speed.unique()"
   ]
  },
  {
   "cell_type": "code",
   "execution_count": 31,
   "metadata": {},
   "outputs": [],
   "source": [
    "found_rate2 = shoppers[(shoppers.picking_speed == 2.41) | (shoppers.picking_speed == 2.19) | (shoppers.picking_speed == 2.33)]"
   ]
  },
  {
   "cell_type": "code",
   "execution_count": 32,
   "metadata": {},
   "outputs": [
    {
     "data": {
      "text/plain": [
       "0.7754"
      ]
     },
     "execution_count": 32,
     "metadata": {},
     "output_type": "execute_result"
    }
   ],
   "source": [
    "found_rate2['found_rate'].mode().iat[0]"
   ]
  },
  {
   "cell_type": "code",
   "execution_count": 33,
   "metadata": {},
   "outputs": [],
   "source": [
    "shoppers.loc[shoppers['found_rate'].isnull(), 'found_rate'] = 0.7754"
   ]
  },
  {
   "cell_type": "code",
   "execution_count": 34,
   "metadata": {},
   "outputs": [
    {
     "data": {
      "text/plain": [
       "shopper_id        0\n",
       "seniority         0\n",
       "found_rate        0\n",
       "picking_speed     0\n",
       "accepted_rate    27\n",
       "rating           84\n",
       "dtype: int64"
      ]
     },
     "execution_count": 34,
     "metadata": {},
     "output_type": "execute_result"
    }
   ],
   "source": [
    "shoppers.isnull().sum()"
   ]
  },
  {
   "cell_type": "code",
   "execution_count": 35,
   "metadata": {},
   "outputs": [],
   "source": [
    "shoppers.loc[shoppers['accepted_rate'].isnull(), 'accepted_rate'] = shoppers['accepted_rate'].mode().iat[0]\n",
    "shoppers.loc[shoppers['rating'].isnull(), 'rating'] = shoppers['rating'].mode().iat[0]"
   ]
  },
  {
   "cell_type": "code",
   "execution_count": 36,
   "metadata": {},
   "outputs": [
    {
     "data": {
      "text/plain": [
       "shopper_id       0\n",
       "seniority        0\n",
       "found_rate       0\n",
       "picking_speed    0\n",
       "accepted_rate    0\n",
       "rating           0\n",
       "dtype: int64"
      ]
     },
     "execution_count": 36,
     "metadata": {},
     "output_type": "execute_result"
    }
   ],
   "source": [
    "shoppers.isnull().sum()"
   ]
  },
  {
   "cell_type": "code",
   "execution_count": 37,
   "metadata": {},
   "outputs": [
    {
     "data": {
      "text/plain": [
       "order_id              0\n",
       "lat_destination       0\n",
       "lng_destination       0\n",
       "promised_time         0\n",
       "on_demand             0\n",
       "shopper_id            0\n",
       "store_branch_id       0\n",
       "total_minutes      1995\n",
       "quantity_UN           0\n",
       "quantity_KG           0\n",
       "is_more_UN            0\n",
       "UN_plus_KG            0\n",
       "UN_mult_KG            0\n",
       "dtype: int64"
      ]
     },
     "execution_count": 37,
     "metadata": {},
     "output_type": "execute_result"
    }
   ],
   "source": [
    "full.isnull().sum()"
   ]
  },
  {
   "cell_type": "code",
   "execution_count": 38,
   "metadata": {},
   "outputs": [],
   "source": [
    "full = pd.merge(full, shoppers, how='left', on='shopper_id')"
   ]
  },
  {
   "cell_type": "code",
   "execution_count": 39,
   "metadata": {},
   "outputs": [
    {
     "data": {
      "text/plain": [
       "order_id              0\n",
       "lat_destination       0\n",
       "lng_destination       0\n",
       "promised_time         0\n",
       "on_demand             0\n",
       "shopper_id            0\n",
       "store_branch_id       0\n",
       "total_minutes      1995\n",
       "quantity_UN           0\n",
       "quantity_KG           0\n",
       "is_more_UN            0\n",
       "UN_plus_KG            0\n",
       "UN_mult_KG            0\n",
       "seniority             0\n",
       "found_rate            0\n",
       "picking_speed         0\n",
       "accepted_rate         0\n",
       "rating                0\n",
       "dtype: int64"
      ]
     },
     "execution_count": 39,
     "metadata": {},
     "output_type": "execute_result"
    }
   ],
   "source": [
    "full.isnull().sum()"
   ]
  },
  {
   "cell_type": "markdown",
   "metadata": {},
   "source": [
    "   * Dataset storebranch"
   ]
  },
  {
   "cell_type": "code",
   "execution_count": 40,
   "metadata": {},
   "outputs": [],
   "source": [
    "storebranch = pd.read_csv(\"/Users/aurelianosancho/Documents/GitHub/teste_cornershop/storebranch.csv\")"
   ]
  },
  {
   "cell_type": "code",
   "execution_count": 41,
   "metadata": {},
   "outputs": [],
   "source": [
    "storebranch = storebranch.rename({'lat': 'lat_origin', 'lng': 'lng_origin'}, axis=1) "
   ]
  },
  {
   "cell_type": "code",
   "execution_count": 42,
   "metadata": {},
   "outputs": [
    {
     "data": {
      "text/plain": [
       "store_branch_id    0\n",
       "store_id           0\n",
       "lat_origin         0\n",
       "lng_origin         0\n",
       "dtype: int64"
      ]
     },
     "execution_count": 42,
     "metadata": {},
     "output_type": "execute_result"
    }
   ],
   "source": [
    "storebranch.isnull().sum()"
   ]
  },
  {
   "cell_type": "code",
   "execution_count": 43,
   "metadata": {},
   "outputs": [
    {
     "name": "stdout",
     "output_type": "stream",
     "text": [
      "<class 'pandas.core.frame.DataFrame'>\n",
      "RangeIndex: 476 entries, 0 to 475\n",
      "Data columns (total 4 columns):\n",
      " #   Column           Non-Null Count  Dtype  \n",
      "---  ------           --------------  -----  \n",
      " 0   store_branch_id  476 non-null    object \n",
      " 1   store_id         476 non-null    object \n",
      " 2   lat_origin       476 non-null    float64\n",
      " 3   lng_origin       476 non-null    float64\n",
      "dtypes: float64(2), object(2)\n",
      "memory usage: 15.0+ KB\n"
     ]
    }
   ],
   "source": [
    "storebranch.info()"
   ]
  },
  {
   "cell_type": "code",
   "execution_count": 44,
   "metadata": {},
   "outputs": [
    {
     "data": {
      "text/html": [
       "<div>\n",
       "<style scoped>\n",
       "    .dataframe tbody tr th:only-of-type {\n",
       "        vertical-align: middle;\n",
       "    }\n",
       "\n",
       "    .dataframe tbody tr th {\n",
       "        vertical-align: top;\n",
       "    }\n",
       "\n",
       "    .dataframe thead th {\n",
       "        text-align: right;\n",
       "    }\n",
       "</style>\n",
       "<table border=\"1\" class=\"dataframe\">\n",
       "  <thead>\n",
       "    <tr style=\"text-align: right;\">\n",
       "      <th></th>\n",
       "      <th>store_branch_id</th>\n",
       "      <th>store_id</th>\n",
       "      <th>lat_origin</th>\n",
       "      <th>lng_origin</th>\n",
       "    </tr>\n",
       "  </thead>\n",
       "  <tbody>\n",
       "    <tr>\n",
       "      <th>0</th>\n",
       "      <td>aff1621254f7c1be92f64550478c56e6</td>\n",
       "      <td>92cc227532d17e56e07902b254dfad10</td>\n",
       "      <td>-33.422497</td>\n",
       "      <td>-70.609231</td>\n",
       "    </tr>\n",
       "    <tr>\n",
       "      <th>1</th>\n",
       "      <td>56352739f59643540a3a6e16985f62c7</td>\n",
       "      <td>0336dcbab05b9d5ad24f4333c7658a0e</td>\n",
       "      <td>-33.385484</td>\n",
       "      <td>-70.555579</td>\n",
       "    </tr>\n",
       "    <tr>\n",
       "      <th>2</th>\n",
       "      <td>7d04bbbe5494ae9d2f5a76aa1c00fa2f</td>\n",
       "      <td>9bf31c7ff062936a96d3c8bd1f8f2ff3</td>\n",
       "      <td>-33.416579</td>\n",
       "      <td>-70.565224</td>\n",
       "    </tr>\n",
       "  </tbody>\n",
       "</table>\n",
       "</div>"
      ],
      "text/plain": [
       "                    store_branch_id                          store_id  \\\n",
       "0  aff1621254f7c1be92f64550478c56e6  92cc227532d17e56e07902b254dfad10   \n",
       "1  56352739f59643540a3a6e16985f62c7  0336dcbab05b9d5ad24f4333c7658a0e   \n",
       "2  7d04bbbe5494ae9d2f5a76aa1c00fa2f  9bf31c7ff062936a96d3c8bd1f8f2ff3   \n",
       "\n",
       "   lat_origin  lng_origin  \n",
       "0  -33.422497  -70.609231  \n",
       "1  -33.385484  -70.555579  \n",
       "2  -33.416579  -70.565224  "
      ]
     },
     "execution_count": 44,
     "metadata": {},
     "output_type": "execute_result"
    }
   ],
   "source": [
    "storebranch.head(3)"
   ]
  },
  {
   "cell_type": "code",
   "execution_count": 45,
   "metadata": {},
   "outputs": [],
   "source": [
    "full = pd.merge(full, storebranch, how='left', on='store_branch_id')"
   ]
  },
  {
   "cell_type": "code",
   "execution_count": 46,
   "metadata": {},
   "outputs": [
    {
     "data": {
      "text/plain": [
       "order_id              0\n",
       "lat_destination       0\n",
       "lng_destination       0\n",
       "promised_time         0\n",
       "on_demand             0\n",
       "shopper_id            0\n",
       "store_branch_id       0\n",
       "total_minutes      1995\n",
       "quantity_UN           0\n",
       "quantity_KG           0\n",
       "is_more_UN            0\n",
       "UN_plus_KG            0\n",
       "UN_mult_KG            0\n",
       "seniority             0\n",
       "found_rate            0\n",
       "picking_speed         0\n",
       "accepted_rate         0\n",
       "rating                0\n",
       "store_id              0\n",
       "lat_origin            0\n",
       "lng_origin            0\n",
       "dtype: int64"
      ]
     },
     "execution_count": 46,
     "metadata": {},
     "output_type": "execute_result"
    }
   ],
   "source": [
    "full.isnull().sum()"
   ]
  },
  {
   "cell_type": "code",
   "execution_count": 47,
   "metadata": {},
   "outputs": [],
   "source": [
    "full['promised_time'] = pd.to_datetime(full['promised_time'])"
   ]
  },
  {
   "cell_type": "code",
   "execution_count": 48,
   "metadata": {},
   "outputs": [],
   "source": [
    "full['Hour'] = full['promised_time'].apply(lambda time: time.hour)\n",
    "full['Month'] = full['promised_time'].apply(lambda time: time.month)\n",
    "full['Day_of_Week'] = full['promised_time'].apply(lambda time: time.dayofweek)\n",
    "full['Year'] = full['promised_time'].apply(lambda t: t.year)\n",
    "full['Date'] = full['promised_time'].apply(lambda t: t.day)"
   ]
  },
  {
   "cell_type": "code",
   "execution_count": 49,
   "metadata": {},
   "outputs": [
    {
     "data": {
      "text/html": [
       "<div>\n",
       "<style scoped>\n",
       "    .dataframe tbody tr th:only-of-type {\n",
       "        vertical-align: middle;\n",
       "    }\n",
       "\n",
       "    .dataframe tbody tr th {\n",
       "        vertical-align: top;\n",
       "    }\n",
       "\n",
       "    .dataframe thead th {\n",
       "        text-align: right;\n",
       "    }\n",
       "</style>\n",
       "<table border=\"1\" class=\"dataframe\">\n",
       "  <thead>\n",
       "    <tr style=\"text-align: right;\">\n",
       "      <th></th>\n",
       "      <th>order_id</th>\n",
       "      <th>lat_destination</th>\n",
       "      <th>lng_destination</th>\n",
       "      <th>promised_time</th>\n",
       "      <th>on_demand</th>\n",
       "      <th>shopper_id</th>\n",
       "      <th>store_branch_id</th>\n",
       "      <th>total_minutes</th>\n",
       "      <th>quantity_UN</th>\n",
       "      <th>quantity_KG</th>\n",
       "      <th>is_more_UN</th>\n",
       "      <th>UN_plus_KG</th>\n",
       "      <th>UN_mult_KG</th>\n",
       "      <th>seniority</th>\n",
       "      <th>found_rate</th>\n",
       "      <th>picking_speed</th>\n",
       "      <th>accepted_rate</th>\n",
       "      <th>rating</th>\n",
       "      <th>store_id</th>\n",
       "      <th>lat_origin</th>\n",
       "      <th>lng_origin</th>\n",
       "      <th>Hour</th>\n",
       "      <th>Month</th>\n",
       "      <th>Day_of_Week</th>\n",
       "      <th>Year</th>\n",
       "      <th>Date</th>\n",
       "    </tr>\n",
       "  </thead>\n",
       "  <tbody>\n",
       "    <tr>\n",
       "      <th>0</th>\n",
       "      <td>e750294655c2c7c34d83cc3181c09de4</td>\n",
       "      <td>-33.501675</td>\n",
       "      <td>-70.579369</td>\n",
       "      <td>2019-10-18 20:48:00+00:00</td>\n",
       "      <td>True</td>\n",
       "      <td>e63bc83a1a952fa2b3cc9d558fb943cf</td>\n",
       "      <td>65ded5353c5ee48d0b7d48c591b8f430</td>\n",
       "      <td>67.684264</td>\n",
       "      <td>16.0</td>\n",
       "      <td>2.756</td>\n",
       "      <td>1.0</td>\n",
       "      <td>18.756</td>\n",
       "      <td>44.096</td>\n",
       "      <td>6c90661e6d2c7579f5ce337c3391dbb9</td>\n",
       "      <td>0.9024</td>\n",
       "      <td>1.30</td>\n",
       "      <td>0.92</td>\n",
       "      <td>4.76</td>\n",
       "      <td>c4ca4238a0b923820dcc509a6f75849b</td>\n",
       "      <td>-33.485280</td>\n",
       "      <td>-70.579250</td>\n",
       "      <td>20</td>\n",
       "      <td>10</td>\n",
       "      <td>4</td>\n",
       "      <td>2019</td>\n",
       "      <td>18</td>\n",
       "    </tr>\n",
       "    <tr>\n",
       "      <th>1</th>\n",
       "      <td>6581174846221cb6c467348e87f57641</td>\n",
       "      <td>-33.440584</td>\n",
       "      <td>-70.556283</td>\n",
       "      <td>2019-10-19 01:00:00+00:00</td>\n",
       "      <td>False</td>\n",
       "      <td>195f9e9d84a4ba9033c4b6a756334d8b</td>\n",
       "      <td>45fbc6d3e05ebd93369ce542e8f2322d</td>\n",
       "      <td>57.060632</td>\n",
       "      <td>11.0</td>\n",
       "      <td>0.000</td>\n",
       "      <td>1.0</td>\n",
       "      <td>11.000</td>\n",
       "      <td>0.000</td>\n",
       "      <td>41dc7c9e385c4d2b6c1f7836973951bf</td>\n",
       "      <td>0.7610</td>\n",
       "      <td>2.54</td>\n",
       "      <td>0.92</td>\n",
       "      <td>4.96</td>\n",
       "      <td>c4ca4238a0b923820dcc509a6f75849b</td>\n",
       "      <td>-33.441246</td>\n",
       "      <td>-70.535450</td>\n",
       "      <td>1</td>\n",
       "      <td>10</td>\n",
       "      <td>5</td>\n",
       "      <td>2019</td>\n",
       "      <td>19</td>\n",
       "    </tr>\n",
       "    <tr>\n",
       "      <th>2</th>\n",
       "      <td>3a226ea48debc0a7ae9950d5540f2f34</td>\n",
       "      <td>-32.987022</td>\n",
       "      <td>-71.544842</td>\n",
       "      <td>2019-10-19 14:54:00+00:00</td>\n",
       "      <td>True</td>\n",
       "      <td>a5b9ddc0d82e61582fca19ad43dbaacb</td>\n",
       "      <td>07563a3fe3bbe7e3ba84431ad9d055af</td>\n",
       "      <td>NaN</td>\n",
       "      <td>18.0</td>\n",
       "      <td>0.000</td>\n",
       "      <td>1.0</td>\n",
       "      <td>18.000</td>\n",
       "      <td>0.000</td>\n",
       "      <td>50e13ee63f086c2fe84229348bc91b5b</td>\n",
       "      <td>0.8313</td>\n",
       "      <td>2.57</td>\n",
       "      <td>0.76</td>\n",
       "      <td>4.92</td>\n",
       "      <td>c4ca4238a0b923820dcc509a6f75849b</td>\n",
       "      <td>-33.008213</td>\n",
       "      <td>-71.545615</td>\n",
       "      <td>14</td>\n",
       "      <td>10</td>\n",
       "      <td>5</td>\n",
       "      <td>2019</td>\n",
       "      <td>19</td>\n",
       "    </tr>\n",
       "  </tbody>\n",
       "</table>\n",
       "</div>"
      ],
      "text/plain": [
       "                           order_id  lat_destination  lng_destination  \\\n",
       "0  e750294655c2c7c34d83cc3181c09de4       -33.501675       -70.579369   \n",
       "1  6581174846221cb6c467348e87f57641       -33.440584       -70.556283   \n",
       "2  3a226ea48debc0a7ae9950d5540f2f34       -32.987022       -71.544842   \n",
       "\n",
       "              promised_time  on_demand                        shopper_id  \\\n",
       "0 2019-10-18 20:48:00+00:00       True  e63bc83a1a952fa2b3cc9d558fb943cf   \n",
       "1 2019-10-19 01:00:00+00:00      False  195f9e9d84a4ba9033c4b6a756334d8b   \n",
       "2 2019-10-19 14:54:00+00:00       True  a5b9ddc0d82e61582fca19ad43dbaacb   \n",
       "\n",
       "                    store_branch_id  total_minutes  quantity_UN  quantity_KG  \\\n",
       "0  65ded5353c5ee48d0b7d48c591b8f430      67.684264         16.0        2.756   \n",
       "1  45fbc6d3e05ebd93369ce542e8f2322d      57.060632         11.0        0.000   \n",
       "2  07563a3fe3bbe7e3ba84431ad9d055af            NaN         18.0        0.000   \n",
       "\n",
       "   is_more_UN  UN_plus_KG  UN_mult_KG                         seniority  \\\n",
       "0         1.0      18.756      44.096  6c90661e6d2c7579f5ce337c3391dbb9   \n",
       "1         1.0      11.000       0.000  41dc7c9e385c4d2b6c1f7836973951bf   \n",
       "2         1.0      18.000       0.000  50e13ee63f086c2fe84229348bc91b5b   \n",
       "\n",
       "   found_rate  picking_speed  accepted_rate  rating  \\\n",
       "0      0.9024           1.30           0.92    4.76   \n",
       "1      0.7610           2.54           0.92    4.96   \n",
       "2      0.8313           2.57           0.76    4.92   \n",
       "\n",
       "                           store_id  lat_origin  lng_origin  Hour  Month  \\\n",
       "0  c4ca4238a0b923820dcc509a6f75849b  -33.485280  -70.579250    20     10   \n",
       "1  c4ca4238a0b923820dcc509a6f75849b  -33.441246  -70.535450     1     10   \n",
       "2  c4ca4238a0b923820dcc509a6f75849b  -33.008213  -71.545615    14     10   \n",
       "\n",
       "   Day_of_Week  Year  Date  \n",
       "0            4  2019    18  \n",
       "1            5  2019    19  \n",
       "2            5  2019    19  "
      ]
     },
     "execution_count": 49,
     "metadata": {},
     "output_type": "execute_result"
    }
   ],
   "source": [
    "full.head(3)"
   ]
  },
  {
   "cell_type": "code",
   "execution_count": 50,
   "metadata": {},
   "outputs": [],
   "source": [
    "full.loc[(full['Hour'] >= 6) & (full['Hour'] < 12), 'period'] = 'morning'\n",
    "full.loc[(full['Hour'] >= 12) & (full['Hour'] < 18), 'period'] = 'afternoon'\n",
    "full.loc[(full['Hour'] >= 18) & (full['Hour'] <= 24), 'period'] = 'night'\n",
    "full.loc[(full['Hour'] < 6), 'period'] = 'dawn'"
   ]
  },
  {
   "cell_type": "code",
   "execution_count": 51,
   "metadata": {},
   "outputs": [
    {
     "data": {
      "text/plain": [
       "Index(['order_id', 'lat_destination', 'lng_destination', 'promised_time',\n",
       "       'on_demand', 'shopper_id', 'store_branch_id', 'total_minutes',\n",
       "       'quantity_UN', 'quantity_KG', 'is_more_UN', 'UN_plus_KG', 'UN_mult_KG',\n",
       "       'seniority', 'found_rate', 'picking_speed', 'accepted_rate', 'rating',\n",
       "       'store_id', 'lat_origin', 'lng_origin', 'Hour', 'Month', 'Day_of_Week',\n",
       "       'Year', 'Date', 'period'],\n",
       "      dtype='object')"
      ]
     },
     "execution_count": 51,
     "metadata": {},
     "output_type": "execute_result"
    }
   ],
   "source": [
    "full.columns"
   ]
  },
  {
   "cell_type": "code",
   "execution_count": 52,
   "metadata": {},
   "outputs": [],
   "source": [
    "full['distance_havesine'] = distance(full.lat_origin, full.lng_origin, full.lat_destination, full.lng_destination)"
   ]
  },
  {
   "cell_type": "code",
   "execution_count": 82,
   "metadata": {},
   "outputs": [],
   "source": [
    "def path(df,long1, lat1, long2, lat2):\n",
    "    distance = []\n",
    "    for i in range(9978):\n",
    "        distance.append(requests.post(f\"http://router.project-osrm.org/route/v1/car/{df[long1][i]},{df[lat1][i]};{df[long2][i]},{df[lat2][i]}?overview=false\"\"\").json()['routes'][0]['legs'][0]['distance'])\n",
    "    return distance"
   ]
  },
  {
   "cell_type": "code",
   "execution_count": 83,
   "metadata": {},
   "outputs": [
    {
     "data": {
      "text/plain": [
       "[3367.1,\n",
       " 2373.9,\n",
       " 2930.5,\n",
       " 5632.1,\n",
       " 2939.7,\n",
       " 5786.8,\n",
       " 4255.7,\n",
       " 3545.2,\n",
       " 4635.9,\n",
       " 3141.8,\n",
       " 2022.5,\n",
       " 2161.5,\n",
       " 4657.1,\n",
       " 12284.2,\n",
       " 7129.6,\n",
       " 2668.7,\n",
       " 3577.6,\n",
       " 4428.3,\n",
       " 1298.7,\n",
       " 4855.5,\n",
       " 3328.4,\n",
       " 2509.6,\n",
       " 3634,\n",
       " 7220.3,\n",
       " 6406.5,\n",
       " 1247.3,\n",
       " 2548.6,\n",
       " 3605.4,\n",
       " 4752.5,\n",
       " 2666.7,\n",
       " 4451,\n",
       " 2797,\n",
       " 5598.2,\n",
       " 7609.8,\n",
       " 3774.7,\n",
       " 6027.3,\n",
       " 4580.6,\n",
       " 2036,\n",
       " 2294.9,\n",
       " 4433.7,\n",
       " 6329.9,\n",
       " 5658.3,\n",
       " 6361.3,\n",
       " 18700.1,\n",
       " 6342.9,\n",
       " 4488.8,\n",
       " 7800.1,\n",
       " 5887.4,\n",
       " 4259.7,\n",
       " 4272,\n",
       " 7630.2,\n",
       " 2106.5,\n",
       " 22061.4,\n",
       " 4914.5,\n",
       " 3133.7,\n",
       " 4577.7,\n",
       " 457.6,\n",
       " 4076.5,\n",
       " 2538.7,\n",
       " 2988.6,\n",
       " 2447.1,\n",
       " 3803.5,\n",
       " 2684.4,\n",
       " 3227.7,\n",
       " 5533.9,\n",
       " 5361.6,\n",
       " 6662.7,\n",
       " 4940.5,\n",
       " 2284.1,\n",
       " 2334.9,\n",
       " 3020,\n",
       " 7841.7,\n",
       " 4781.6,\n",
       " 2672.3,\n",
       " 5007.3,\n",
       " 16449.5,\n",
       " 4467.7,\n",
       " 3178.3,\n",
       " 18882.7,\n",
       " 6772.9,\n",
       " 5672.9,\n",
       " 3689.1,\n",
       " 2304.5,\n",
       " 6303.7,\n",
       " 8552.3,\n",
       " 2448.9,\n",
       " 2321.4,\n",
       " 4362.6,\n",
       " 3604.4,\n",
       " 5988.7,\n",
       " 9385.2,\n",
       " 6017.5,\n",
       " 3350.4,\n",
       " 2317.9,\n",
       " 4299.7,\n",
       " 3848.4,\n",
       " 2922.1,\n",
       " 18332,\n",
       " 8223.4,\n",
       " 1995.3]"
      ]
     },
     "execution_count": 83,
     "metadata": {},
     "output_type": "execute_result"
    }
   ],
   "source": [
    "full['distance_car'] = path(full, 'lng_origin', 'lat_origin', 'lng_destination', 'lat_destination')"
   ]
  },
  {
   "cell_type": "code",
   "execution_count": null,
   "metadata": {},
   "outputs": [],
   "source": []
  },
  {
   "cell_type": "code",
   "execution_count": 53,
   "metadata": {},
   "outputs": [],
   "source": [
    "#full['distance_car'], full['weight_car'], full['duration'] = path(full, 'lng_origin', 'lat_origin', 'lng_destination', 'lat_destination')"
   ]
  },
  {
   "cell_type": "code",
   "execution_count": 54,
   "metadata": {},
   "outputs": [],
   "source": [
    "#full['city_origin'], full['state_origin'] = location(full, 'lat_origin', 'lng_origin')"
   ]
  },
  {
   "cell_type": "code",
   "execution_count": 55,
   "metadata": {},
   "outputs": [],
   "source": [
    "#full['city_destiny'], full['state_destiny'] = location(full, 'lat_destination', 'lng_destination')"
   ]
  },
  {
   "cell_type": "code",
   "execution_count": 56,
   "metadata": {},
   "outputs": [
    {
     "data": {
      "text/plain": [
       "order_id                0\n",
       "lat_destination         0\n",
       "lng_destination         0\n",
       "promised_time           0\n",
       "on_demand               0\n",
       "shopper_id              0\n",
       "store_branch_id         0\n",
       "total_minutes        1995\n",
       "quantity_UN             0\n",
       "quantity_KG             0\n",
       "is_more_UN              0\n",
       "UN_plus_KG              0\n",
       "UN_mult_KG              0\n",
       "seniority               0\n",
       "found_rate              0\n",
       "picking_speed           0\n",
       "accepted_rate           0\n",
       "rating                  0\n",
       "store_id                0\n",
       "lat_origin              0\n",
       "lng_origin              0\n",
       "Hour                    0\n",
       "Month                   0\n",
       "Day_of_Week             0\n",
       "Year                    0\n",
       "Date                    0\n",
       "period                  0\n",
       "distance_havesine       0\n",
       "distance_car            0\n",
       "weight_car              0\n",
       "duration                0\n",
       "dtype: int64"
      ]
     },
     "execution_count": 56,
     "metadata": {},
     "output_type": "execute_result"
    }
   ],
   "source": [
    "full.isnull().sum()"
   ]
  },
  {
   "cell_type": "code",
   "execution_count": 57,
   "metadata": {},
   "outputs": [],
   "source": [
    "full.to_csv(\"/Users/aurelianosancho/Documents/GitHub/teste_cornershop/full.csv\")"
   ]
  },
  {
   "cell_type": "code",
   "execution_count": null,
   "metadata": {},
   "outputs": [],
   "source": []
  },
  {
   "cell_type": "code",
   "execution_count": 77,
   "metadata": {},
   "outputs": [],
   "source": [
    "x, y, z = path(full, 'lng_origin', 'lat_origin', 'lng_destination', 'lat_destination')\n"
   ]
  },
  {
   "cell_type": "code",
   "execution_count": 65,
   "metadata": {},
   "outputs": [
    {
     "data": {
      "text/plain": [
       "[3367.1]"
      ]
     },
     "execution_count": 65,
     "metadata": {},
     "output_type": "execute_result"
    }
   ],
   "source": [
    "x"
   ]
  },
  {
   "cell_type": "code",
   "execution_count": 66,
   "metadata": {},
   "outputs": [
    {
     "data": {
      "text/plain": [
       "[380.8]"
      ]
     },
     "execution_count": 66,
     "metadata": {},
     "output_type": "execute_result"
    }
   ],
   "source": [
    "y"
   ]
  },
  {
   "cell_type": "code",
   "execution_count": 67,
   "metadata": {},
   "outputs": [
    {
     "data": {
      "text/plain": [
       "[380.8]"
      ]
     },
     "execution_count": 67,
     "metadata": {},
     "output_type": "execute_result"
    }
   ],
   "source": [
    "z"
   ]
  },
  {
   "cell_type": "code",
   "execution_count": 70,
   "metadata": {},
   "outputs": [
    {
     "data": {
      "text/html": [
       "<div>\n",
       "<style scoped>\n",
       "    .dataframe tbody tr th:only-of-type {\n",
       "        vertical-align: middle;\n",
       "    }\n",
       "\n",
       "    .dataframe tbody tr th {\n",
       "        vertical-align: top;\n",
       "    }\n",
       "\n",
       "    .dataframe thead th {\n",
       "        text-align: right;\n",
       "    }\n",
       "</style>\n",
       "<table border=\"1\" class=\"dataframe\">\n",
       "  <thead>\n",
       "    <tr style=\"text-align: right;\">\n",
       "      <th></th>\n",
       "      <th>lng_origin</th>\n",
       "      <th>lat_origin</th>\n",
       "      <th>lng_destination</th>\n",
       "      <th>lat_destination</th>\n",
       "    </tr>\n",
       "  </thead>\n",
       "  <tbody>\n",
       "    <tr>\n",
       "      <th>0</th>\n",
       "      <td>-70.57925</td>\n",
       "      <td>-33.48528</td>\n",
       "      <td>-70.579369</td>\n",
       "      <td>-33.501675</td>\n",
       "    </tr>\n",
       "  </tbody>\n",
       "</table>\n",
       "</div>"
      ],
      "text/plain": [
       "   lng_origin  lat_origin  lng_destination  lat_destination\n",
       "0   -70.57925   -33.48528       -70.579369       -33.501675"
      ]
     },
     "execution_count": 70,
     "metadata": {},
     "output_type": "execute_result"
    }
   ],
   "source": [
    "full[['lng_origin', 'lat_origin', 'lng_destination', 'lat_destination']].head(1)"
   ]
  },
  {
   "cell_type": "code",
   "execution_count": 74,
   "metadata": {},
   "outputs": [
    {
     "data": {
      "text/plain": [
       "{'legs': [{'steps': [],\n",
       "   'weight': 380.8,\n",
       "   'distance': 3367.1,\n",
       "   'summary': '',\n",
       "   'duration': 380.8}],\n",
       " 'weight_name': 'routability',\n",
       " 'weight': 380.8,\n",
       " 'distance': 3367.1,\n",
       " 'duration': 380.8}"
      ]
     },
     "execution_count": 74,
     "metadata": {},
     "output_type": "execute_result"
    }
   ],
   "source": [
    "r = requests.get(f\"http://router.project-osrm.org/route/v1/car/{-70.57925},{-33.48528};{-70.579369},{-33.501675}?overview=false\"\"\")\n",
    "routes = json.loads(r.content)\n",
    "route_1 = routes.get(\"routes\")[0]\n",
    "route_1\n"
   ]
  },
  {
   "cell_type": "code",
   "execution_count": 73,
   "metadata": {},
   "outputs": [
    {
     "data": {
      "text/plain": [
       "-70.53545"
      ]
     },
     "execution_count": 73,
     "metadata": {},
     "output_type": "execute_result"
    }
   ],
   "source": [
    "full['lng_origin'][1]"
   ]
  },
  {
   "cell_type": "code",
   "execution_count": null,
   "metadata": {},
   "outputs": [],
   "source": []
  }
 ],
 "metadata": {
  "kernelspec": {
   "display_name": "Python 3",
   "language": "python",
   "name": "python3"
  },
  "language_info": {
   "codemirror_mode": {
    "name": "ipython",
    "version": 3
   },
   "file_extension": ".py",
   "mimetype": "text/x-python",
   "name": "python",
   "nbconvert_exporter": "python",
   "pygments_lexer": "ipython3",
   "version": "3.7.6"
  }
 },
 "nbformat": 4,
 "nbformat_minor": 4
}
